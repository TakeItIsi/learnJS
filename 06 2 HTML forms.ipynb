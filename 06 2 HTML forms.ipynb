{
 "cells": [
  {
   "cell_type": "markdown",
   "metadata": {},
   "source": [
    "# Buttons"
   ]
  },
  {
   "cell_type": "code",
   "execution_count": 1,
   "metadata": {},
   "outputs": [
    {
     "data": {
      "text/html": [
       "\n",
       "<button type=\"button\" onclick=\"alert('Hello world!')\">Click Me!</button>"
      ],
      "text/plain": [
       "<IPython.core.display.HTML object>"
      ]
     },
     "metadata": {},
     "output_type": "display_data"
    }
   ],
   "source": [
    "%%html\n",
    "\n",
    "<button type=\"button\" onclick=\"alert('Hello world!')\">Click Me!</button>"
   ]
  },
  {
   "cell_type": "markdown",
   "metadata": {},
   "source": [
    "## Button con Function"
   ]
  },
  {
   "cell_type": "code",
   "execution_count": 7,
   "metadata": {},
   "outputs": [
    {
     "data": {
      "text/html": [
       "<script>\n",
       "function doAlert(msg){\n",
       "    alert(\"hola \" + msg);\n",
       "}\n",
       "</script>\n",
       "\n",
       "<button type=\"button\" onclick=\"doAlert('mundo!')\">Clickeame!</button>"
      ],
      "text/plain": [
       "<IPython.core.display.HTML object>"
      ]
     },
     "metadata": {},
     "output_type": "display_data"
    }
   ],
   "source": [
    "%%html\n",
    "\n",
    "<script>\n",
    "function doAlert(msg){\n",
    "    alert(\"hola \" + msg);\n",
    "}\n",
    "</script>\n",
    "\n",
    "<button type=\"button\" onclick=\"doAlert('mundo!')\">Clickeame!</button>"
   ]
  },
  {
   "cell_type": "markdown",
   "metadata": {},
   "source": [
    "# Forms"
   ]
  },
  {
   "cell_type": "code",
   "execution_count": 10,
   "metadata": {},
   "outputs": [
    {
     "data": {
      "text/html": [
       "\n",
       "<form action=\"\">\n",
       "First name: <input type=\"text\" name=\"FirstName\" value=\"Mickey\"><br>\n",
       "Last name: <input type=\"text\" name=\"LastName\" value=\"Mouse\"><br>\n",
       "<input type=\"submit\" value=\"Submit\">\n",
       "</form>"
      ],
      "text/plain": [
       "<IPython.core.display.HTML object>"
      ]
     },
     "metadata": {},
     "output_type": "display_data"
    }
   ],
   "source": [
    "%%html\n",
    "\n",
    "<form>\n",
    "First name: <input type=\"text\" name=\"FirstName\" value=\"Mickey\"><br>\n",
    "Last name: <input type=\"text\" name=\"LastName\" value=\"Mouse\"><br>\n",
    "<input type=\"submit\" value=\"Submit\">\n",
    "</form>"
   ]
  },
  {
   "cell_type": "markdown",
   "metadata": {},
   "source": [
    "## Form con function"
   ]
  },
  {
   "cell_type": "code",
   "execution_count": 23,
   "metadata": {},
   "outputs": [
    {
     "data": {
      "text/html": [
       "\n",
       "<script>\n",
       "function testResults (form) {\n",
       "    alert (\"Hello \" + form.FirstName.value + \" \" + form.LastName.value + \"!\");\n",
       "}\n",
       "</SCRIPT>\n",
       "\n",
       "<form name=\"myform\" >\n",
       "    First name: <input type=\"text\" name=\"FirstName\" value=\"Mickey\"><br>\n",
       "    Last name: <input type=\"text\" name=\"LastName\" value=\"Mouse\"><br>\n",
       "    <input type=\"button\" value=\"Submit\" onClick=\"testResults(myform)\">   \n",
       "</form>"
      ],
      "text/plain": [
       "<IPython.core.display.HTML object>"
      ]
     },
     "metadata": {},
     "output_type": "display_data"
    }
   ],
   "source": [
    "%%html\n",
    "\n",
    "<script>\n",
    "function testResults (form) {\n",
    "    alert (\"Hello \" + form.FirstName.value + \" \" + form.LastName.value + \"!\");\n",
    "}\n",
    "</SCRIPT>\n",
    "\n",
    "<form name=\"myform\" >\n",
    "    First name: <input type=\"text\" name=\"FirstName\" value=\"Mickey\"><br>\n",
    "    Last name: <input type=\"text\" name=\"LastName\" value=\"Mouse\"><br>\n",
    "    <input type=\"button\" value=\"Submit\" onClick=\"testResults(myform)\">   \n",
    "</form>"
   ]
  },
  {
   "cell_type": "code",
   "execution_count": 32,
   "metadata": {},
   "outputs": [
    {
     "data": {
      "text/html": [
       "\n",
       "<script>\n",
       "function testResults2 (form) {\n",
       "    alert (\"Hello \" + form.FirstName.value + \" \" + form.LastName.value + \" Color: \" + form.colorBox.value + \" !\");\n",
       "}\n",
       "</SCRIPT>\n",
       "\n",
       "<datalist id=\"colorList\">\n",
       "    <option value=\"azul\" label=\"color azul\">\n",
       "    <option value=\"rojo\" label=\"color rojo\">\n",
       "    <option value=\"amarillo\" label=\"color amarillo\">\n",
       "    <option value=\"negro\" label=\"color negro\">\n",
       "    <option value=\"verde\" label=\"color verde\">\n",
       "</datalist>\n",
       "\n",
       "<form name=\"myform2\" >\n",
       "    First name: <input type=\"text\" name=\"FirstName\" value=\"Mickey\"><br>\n",
       "    Last name: <input type=\"text\" name=\"LastName\" value=\"Mouse\"><br>\n",
       "    Favourite color: <input type=\"text\" name=\"colorBox\" list=\"colorList\"/>\n",
       "    <input type=\"button\" value=\"Submit\" onClick=\"testResults(myform2)\">   \n",
       "</form>"
      ],
      "text/plain": [
       "<IPython.core.display.HTML object>"
      ]
     },
     "metadata": {},
     "output_type": "display_data"
    }
   ],
   "source": [
    "%%html\n",
    "\n",
    "<script>\n",
    "function testResults2 (form) {\n",
    "    alert (\"Hello \" + form.FirstName.value + \" \" + form.LastName.value + \" Color: \" + form.colorBox.value + \" !\");\n",
    "}\n",
    "</SCRIPT>\n",
    "\n",
    "<datalist id=\"colorList\">\n",
    "    <option value=\"azul\" label=\"color azul\">\n",
    "    <option value=\"rojo\" label=\"color rojo\">\n",
    "    <option value=\"amarillo\" label=\"color amarillo\">\n",
    "    <option value=\"negro\" label=\"color negro\">\n",
    "    <option value=\"verde\" label=\"color verde\">\n",
    "</datalist>\n",
    "\n",
    "<form name=\"myform2\" >\n",
    "    First name: <input type=\"text\" name=\"FirstName\" value=\"Mickey\"><br>\n",
    "    Last name: <input type=\"text\" name=\"LastName\" value=\"Mouse\"><br>\n",
    "    Favourite color: <input type=\"text\" name=\"colorBox\" list=\"colorList\"/>\n",
    "    <input type=\"button\" value=\"Submit\" onClick=\"testResults(myform2)\">   \n",
    "</form>"
   ]
  }
 ],
 "metadata": {
  "kernelspec": {
   "display_name": "Python 3",
   "language": "python",
   "name": "python3"
  },
  "language_info": {
   "codemirror_mode": {
    "name": "ipython",
    "version": 3
   },
   "file_extension": ".py",
   "mimetype": "text/x-python",
   "name": "python",
   "nbconvert_exporter": "python",
   "pygments_lexer": "ipython3",
   "version": "3.6.3"
  }
 },
 "nbformat": 4,
 "nbformat_minor": 2
}
