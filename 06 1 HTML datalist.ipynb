{
 "cells": [
  {
   "cell_type": "markdown",
   "metadata": {},
   "source": [
    "# Ejemplos"
   ]
  },
  {
   "cell_type": "markdown",
   "metadata": {},
   "source": [
    "## jQuery\n",
    "\n",
    "[Source](http://jqueryui.com/autocomplete/)"
   ]
  },
  {
   "cell_type": "code",
   "execution_count": 4,
   "metadata": {},
   "outputs": [
    {
     "data": {
      "text/html": [
       "\n",
       "<script src=\"https://code.jquery.com/jquery-1.12.4.js\"></script>\n",
       "<script src=\"https://code.jquery.com/ui/1.12.1/jquery-ui.js\"></script>\n",
       "\n",
       "<script>\n",
       "    $( function() {\n",
       "        var availableTags = [\n",
       "          \"ActionScript\",\n",
       "          \"AppleScript\",\n",
       "          \"Asp\",\n",
       "          \"BASIC\",\n",
       "          \"C\",\n",
       "          \"C++\",\n",
       "          \"Clojure\",\n",
       "          \"COBOL\",\n",
       "          \"ColdFusion\",\n",
       "          \"Erlang\",\n",
       "          \"Fortran\",\n",
       "          \"Groovy\",\n",
       "          \"Haskell\",\n",
       "          \"Java\",\n",
       "          \"JavaScript\",\n",
       "          \"Lisp\",\n",
       "          \"Perl\",\n",
       "          \"PHP\",\n",
       "          \"Python\",\n",
       "          \"Ruby\",\n",
       "          \"Scala\",\n",
       "          \"Scheme\"\n",
       "        ];\n",
       "        $( \"#tags\" ).autocomplete({\n",
       "            source: availableTags\n",
       "        });\n",
       "    });\n",
       "</script>\n",
       "\n",
       "<div class=\"ui-widget\">\n",
       "    <label for=\"tags\">Tags: </label>\n",
       "    <input id=\"tags\">\n",
       "</div>"
      ],
      "text/plain": [
       "<IPython.core.display.HTML object>"
      ]
     },
     "metadata": {},
     "output_type": "display_data"
    }
   ],
   "source": [
    "%%html\n",
    "\n",
    "<script src=\"https://code.jquery.com/jquery-1.12.4.js\"></script>\n",
    "<script src=\"https://code.jquery.com/ui/1.12.1/jquery-ui.js\"></script>\n",
    "\n",
    "<script>\n",
    "    $( function() {\n",
    "        var availableTags = [\n",
    "          \"ActionScript\",\n",
    "          \"AppleScript\",\n",
    "          \"Asp\",\n",
    "          \"BASIC\",\n",
    "          \"C\",\n",
    "          \"C++\",\n",
    "          \"Clojure\",\n",
    "          \"COBOL\",\n",
    "          \"ColdFusion\",\n",
    "          \"Erlang\",\n",
    "          \"Fortran\",\n",
    "          \"Groovy\",\n",
    "          \"Haskell\",\n",
    "          \"Java\",\n",
    "          \"JavaScript\",\n",
    "          \"Lisp\",\n",
    "          \"Perl\",\n",
    "          \"PHP\",\n",
    "          \"Python\",\n",
    "          \"Ruby\",\n",
    "          \"Scala\",\n",
    "          \"Scheme\"\n",
    "        ];\n",
    "        $( \"#tags\" ).autocomplete({\n",
    "            source: availableTags\n",
    "        });\n",
    "    });\n",
    "</script>\n",
    "\n",
    "<div class=\"ui-widget\">\n",
    "    <label for=\"tags\">Tags: </label>\n",
    "    <input id=\"tags\">\n",
    "</div>\n"
   ]
  },
  {
   "cell_type": "markdown",
   "metadata": {},
   "source": [
    "## HTML5\n",
    "\n",
    "[Source 1](https://stackoverflow.com/questions/7203251/javascript-html-autocomplete-textbox)\n",
    "\n",
    "[Source 2](http://www.cheezycode.com/2015/09/create-auto-complete-dropdown-using.html)"
   ]
  },
  {
   "cell_type": "code",
   "execution_count": 5,
   "metadata": {},
   "outputs": [
    {
     "data": {
      "text/html": [
       "\n",
       "<input type=\"text\" id=\"txtAutoComplete\" list=\"languageList\"/>\n",
       "\n",
       "<datalist id=\"languageList\">\n",
       "    <option value=\"HTML\" />\n",
       "    <option value=\"CSS\" />\n",
       "    <option value=\"JavaScript\" />\n",
       "    <option value=\"SQL\" />\n",
       "    <option value=\"PHP\" />\n",
       "    <option value=\"jQuery\" />\n",
       "    <option value=\"Bootstrap\" />\n",
       "    <option value=\"Angular\" />\n",
       "    <option value=\"ASP.NET\" />\n",
       "    <option value=\"XML\" />\n",
       "</datalist>"
      ],
      "text/plain": [
       "<IPython.core.display.HTML object>"
      ]
     },
     "metadata": {},
     "output_type": "display_data"
    }
   ],
   "source": [
    "%%html\n",
    "\n",
    "<input type=\"text\" id=\"txtAutoComplete\" list=\"languageList\"/>\n",
    "\n",
    "<datalist id=\"languageList\">\n",
    "    <option value=\"HTML\" />\n",
    "    <option value=\"CSS\" />\n",
    "    <option value=\"JavaScript\" />\n",
    "    <option value=\"SQL\" />\n",
    "    <option value=\"PHP\" />\n",
    "    <option value=\"jQuery\" />\n",
    "    <option value=\"Bootstrap\" />\n",
    "    <option value=\"Angular\" />\n",
    "    <option value=\"ASP.NET\" />\n",
    "    <option value=\"XML\" />\n",
    "</datalist>"
   ]
  },
  {
   "cell_type": "markdown",
   "metadata": {},
   "source": [
    "# Datalist desde JSON\n",
    "\n",
    "[Source](https://stackoverflow.com/questions/20624983/populate-datalist-options-by-iterating-through-json-file)"
   ]
  },
  {
   "cell_type": "code",
   "execution_count": 6,
   "metadata": {},
   "outputs": [
    {
     "data": {
      "text/html": [
       "\n",
       "<script src=\"https://ajax.googleapis.com/ajax/libs/jquery/3.2.1/jquery.min.js\"></script>\n",
       "\n",
       "<script>\n",
       "    $.getJSON('cars.json', function(data) {\n",
       "        $(data.osCars).each(function() {\n",
       "            carsOption = \"<option value=\\\"\" + this.name + \"\\\" \\>\";\n",
       "            $('#carList').append(carsOption);\n",
       "        });\n",
       "    });\n",
       "</script>\n",
       "\n",
       "<input type=\"text\" \n",
       "    maxlength=\"30\" \n",
       "    list=\"carList\" \n",
       "    id=\"carSearchBox\" \n",
       "    name=\"carSearchBox\" \n",
       "    pattern=\"[A-Za-z '-]*$\" \n",
       "    placeholder=\"search cars\" \n",
       "    autofocus autocomplete=\"on\">\n",
       "\n",
       "<datalist id=\"carList\"></datalist>"
      ],
      "text/plain": [
       "<IPython.core.display.HTML object>"
      ]
     },
     "metadata": {},
     "output_type": "display_data"
    }
   ],
   "source": [
    "%%html\n",
    "\n",
    "<script src=\"https://ajax.googleapis.com/ajax/libs/jquery/3.2.1/jquery.min.js\"></script>\n",
    "\n",
    "<script>\n",
    "    $.getJSON('cars.json', function(data) {\n",
    "        $(data.osCars).each(function() {\n",
    "            carsOption = \"<option value=\\\"\" + this.name + \"\\\" \\>\";\n",
    "            $('#carList').append(carsOption);\n",
    "        });\n",
    "    });\n",
    "</script>\n",
    "\n",
    "<input type=\"text\" \n",
    "    maxlength=\"30\" \n",
    "    list=\"carList\" \n",
    "    id=\"carSearchBox\" \n",
    "    name=\"carSearchBox\" \n",
    "    pattern=\"[A-Za-z '-]*$\" \n",
    "    placeholder=\"search cars\" \n",
    "    autofocus autocomplete=\"on\">\n",
    "\n",
    "<datalist id=\"carList\"></datalist>"
   ]
  },
  {
   "cell_type": "markdown",
   "metadata": {},
   "source": [
    "# Con d3js"
   ]
  },
  {
   "cell_type": "code",
   "execution_count": 14,
   "metadata": {},
   "outputs": [],
   "source": [
    "import py_d3\n",
    "%reload_ext py_d3"
   ]
  },
  {
   "cell_type": "markdown",
   "metadata": {},
   "source": [
    "## Input"
   ]
  },
  {
   "cell_type": "code",
   "execution_count": 16,
   "metadata": {},
   "outputs": [
    {
     "data": {
      "text/html": [
       "\n",
       "<script>\n",
       "requirejs.config({\n",
       "    paths: {\n",
       "        d3: \"//cdnjs.cloudflare.com/ajax/libs/d3/4.11.0/d3\"\n",
       "    }\n",
       "});\n",
       "\n",
       "require(['d3'], function(d3) {\n",
       "    window.d3 = d3;\n",
       "});\n",
       "</script>\n",
       "<script>\n",
       "_select = d3.select;\n",
       "\n",
       "d3.select1 = function(selection) {\n",
       "    return _select(\"#d3-cell-1\").select(selection);\n",
       "}\n",
       "d3.selectAll1 = function(selection) {\n",
       "    return _select(\"#d3-cell-1\").selectAll(selection);\n",
       "}\n",
       "</script>\n",
       "<g id=\"d3-cell-1\">\n",
       "\n",
       "<g/>\n",
       "\n",
       "<script>\n",
       "\n",
       "    d3.select1(\"g\")\n",
       "        .append(\"input\")\n",
       "        .attr(\"type\", \"input\")\n",
       "\n",
       "</script>\n",
       "</g>"
      ],
      "text/plain": [
       "<IPython.core.display.HTML object>"
      ]
     },
     "metadata": {},
     "output_type": "display_data"
    }
   ],
   "source": [
    "%%d3 4.11.0\n",
    "\n",
    "<g/>\n",
    "\n",
    "<script>\n",
    "\n",
    "    d3.select(\"g\")\n",
    "        .append(\"input\")\n",
    "        .attr(\"type\", \"input\")\n",
    "\n",
    "</script>"
   ]
  },
  {
   "cell_type": "markdown",
   "metadata": {},
   "source": [
    "## Datalist"
   ]
  },
  {
   "cell_type": "code",
   "execution_count": 17,
   "metadata": {},
   "outputs": [
    {
     "data": {
      "text/html": [
       "\n",
       "<script>\n",
       "requirejs.config({\n",
       "    paths: {\n",
       "        d3: \"//cdnjs.cloudflare.com/ajax/libs/d3/4.11.0/d3\"\n",
       "    }\n",
       "});\n",
       "\n",
       "require(['d3'], function(d3) {\n",
       "    window.d3 = d3;\n",
       "});\n",
       "</script>\n",
       "<script>\n",
       "_select = d3.select;\n",
       "\n",
       "d3.select2 = function(selection) {\n",
       "    return _select(\"#d3-cell-2\").select(selection);\n",
       "}\n",
       "d3.selectAll2 = function(selection) {\n",
       "    return _select(\"#d3-cell-2\").selectAll(selection);\n",
       "}\n",
       "</script>\n",
       "<g id=\"d3-cell-2\">\n",
       "\n",
       "<g/>\n",
       "\n",
       "<script>\n",
       "\n",
       "    d3.select2(\"g\")\n",
       "        .append(\"input\")\n",
       "        .attr(\"type\", \"input\")\n",
       "        .attr(\"list\", \"dlist1\")\n",
       "    \n",
       "    datalist = d3.select2(\"g\")\n",
       "        .append(\"datalist\")\n",
       "        .attr(\"id\", \"dlist1\")\n",
       "    \n",
       "    datalist.append(\"option\").attr(\"value\", \"HTML\");\n",
       "    datalist.append(\"option\").attr(\"value\", \"CSS\");\n",
       "    datalist.append(\"option\").attr(\"value\", \"JS\");\n",
       "\n",
       "        \n",
       "</script>\n",
       "</g>"
      ],
      "text/plain": [
       "<IPython.core.display.HTML object>"
      ]
     },
     "metadata": {},
     "output_type": "display_data"
    }
   ],
   "source": [
    "%%d3 4.11.0\n",
    "\n",
    "<g/>\n",
    "\n",
    "<script>\n",
    "\n",
    "    d3.select(\"g\")\n",
    "        .append(\"input\")\n",
    "        .attr(\"type\", \"input\")\n",
    "        .attr(\"list\", \"dlist1\")\n",
    "    \n",
    "    datalist = d3.select(\"g\")\n",
    "        .append(\"datalist\")\n",
    "        .attr(\"id\", \"dlist1\")\n",
    "    \n",
    "    datalist.append(\"option\").attr(\"value\", \"HTML\");\n",
    "    datalist.append(\"option\").attr(\"value\", \"CSS\");\n",
    "    datalist.append(\"option\").attr(\"value\", \"JS\");\n",
    "\n",
    "        \n",
    "</script>"
   ]
  },
  {
   "cell_type": "markdown",
   "metadata": {},
   "source": [
    "## Datalist desde Array"
   ]
  },
  {
   "cell_type": "code",
   "execution_count": 18,
   "metadata": {},
   "outputs": [
    {
     "data": {
      "text/html": [
       "\n",
       "<script>\n",
       "requirejs.config({\n",
       "    paths: {\n",
       "        d3: \"//cdnjs.cloudflare.com/ajax/libs/d3/4.11.0/d3\"\n",
       "    }\n",
       "});\n",
       "\n",
       "require(['d3'], function(d3) {\n",
       "    window.d3 = d3;\n",
       "});\n",
       "</script>\n",
       "<script>\n",
       "_select = d3.select;\n",
       "\n",
       "d3.select3 = function(selection) {\n",
       "    return _select(\"#d3-cell-3\").select(selection);\n",
       "}\n",
       "d3.selectAll3 = function(selection) {\n",
       "    return _select(\"#d3-cell-3\").selectAll(selection);\n",
       "}\n",
       "</script>\n",
       "<g id=\"d3-cell-3\">\n",
       "\n",
       "<g/>\n",
       "\n",
       "<script>\n",
       "\n",
       "    options = [\"Apple\", \"Orange\", \"Grape\"];\n",
       "\n",
       "    d3.select3(\"g\")\n",
       "        .append(\"input\")\n",
       "        .attr(\"type\", \"input\")\n",
       "        .attr(\"list\", \"dlist2\")\n",
       "    \n",
       "    datalist = d3.select3(\"g\")\n",
       "        .append(\"datalist\")\n",
       "        .attr(\"id\", \"dlist2\")\n",
       "    \n",
       "    datalist.selectAll(\"option\")\n",
       "        .data(options).enter()\n",
       "        .append(\"option\")\n",
       "        .attr(\"value\", function (d) {return d;})\n",
       "    \n",
       "</script>\n",
       "</g>"
      ],
      "text/plain": [
       "<IPython.core.display.HTML object>"
      ]
     },
     "metadata": {},
     "output_type": "display_data"
    }
   ],
   "source": [
    "%%d3 4.11.0\n",
    "\n",
    "<g/>\n",
    "\n",
    "<script>\n",
    "\n",
    "    options = [\"Apple\", \"Orange\", \"Grape\"];\n",
    "\n",
    "    d3.select(\"g\")\n",
    "        .append(\"input\")\n",
    "        .attr(\"type\", \"input\")\n",
    "        .attr(\"list\", \"dlist2\")\n",
    "    \n",
    "    datalist = d3.select(\"g\")\n",
    "        .append(\"datalist\")\n",
    "        .attr(\"id\", \"dlist2\")\n",
    "    \n",
    "    datalist.selectAll(\"option\")\n",
    "        .data(options).enter()\n",
    "        .append(\"option\")\n",
    "        .attr(\"value\", function (d) {return d;})\n",
    "    \n",
    "</script>"
   ]
  },
  {
   "cell_type": "markdown",
   "metadata": {},
   "source": [
    "## Datalist desde json"
   ]
  },
  {
   "cell_type": "code",
   "execution_count": 19,
   "metadata": {},
   "outputs": [
    {
     "data": {
      "text/html": [
       "\n",
       "<script>\n",
       "requirejs.config({\n",
       "    paths: {\n",
       "        d3: \"//cdnjs.cloudflare.com/ajax/libs/d3/4.11.0/d3\"\n",
       "    }\n",
       "});\n",
       "\n",
       "require(['d3'], function(d3) {\n",
       "    window.d3 = d3;\n",
       "});\n",
       "</script>\n",
       "<script>\n",
       "_select = d3.select;\n",
       "\n",
       "d3.select4 = function(selection) {\n",
       "    return _select(\"#d3-cell-4\").select(selection);\n",
       "}\n",
       "d3.selectAll4 = function(selection) {\n",
       "    return _select(\"#d3-cell-4\").selectAll(selection);\n",
       "}\n",
       "</script>\n",
       "<g id=\"d3-cell-4\">\n",
       "\n",
       "<g/>\n",
       "\n",
       "<script>\n",
       "\n",
       "    d3.json(\"cars.json\", function(error, data) {\n",
       "        if (error) throw error;\n",
       "        \n",
       "        d3.select4(\"g\")\n",
       "            .append(\"input\")\n",
       "            .attr(\"type\", \"input\")\n",
       "            .attr(\"list\", \"dlist3\")\n",
       "\n",
       "        datalist = d3.select4(\"g\")\n",
       "            .append(\"datalist\")\n",
       "            .attr(\"id\", \"dlist3\")\n",
       "\n",
       "        datalist.selectAll(\"option\")\n",
       "            .data(data.osCars).enter()\n",
       "            .append(\"option\")\n",
       "            .attr(\"value\", function (d) {return d.name;})\n",
       "    })\n",
       "    \n",
       "</script>\n",
       "</g>"
      ],
      "text/plain": [
       "<IPython.core.display.HTML object>"
      ]
     },
     "metadata": {},
     "output_type": "display_data"
    }
   ],
   "source": [
    "%%d3 4.11.0\n",
    "\n",
    "<g/>\n",
    "\n",
    "<script>\n",
    "\n",
    "    d3.json(\"cars.json\", function(error, data) {\n",
    "        if (error) throw error;\n",
    "        \n",
    "        d3.select(\"g\")\n",
    "            .append(\"input\")\n",
    "            .attr(\"type\", \"input\")\n",
    "            .attr(\"list\", \"dlist3\")\n",
    "\n",
    "        datalist = d3.select(\"g\")\n",
    "            .append(\"datalist\")\n",
    "            .attr(\"id\", \"dlist3\")\n",
    "\n",
    "        datalist.selectAll(\"option\")\n",
    "            .data(data.osCars).enter()\n",
    "            .append(\"option\")\n",
    "            .attr(\"value\", function (d) {return d.name;})\n",
    "    })\n",
    "    \n",
    "</script>"
   ]
  },
  {
   "cell_type": "markdown",
   "metadata": {},
   "source": [
    "# Datalist anidada"
   ]
  },
  {
   "cell_type": "code",
   "execution_count": 22,
   "metadata": {},
   "outputs": [
    {
     "data": {
      "text/html": [
       "\n",
       "<select>\n",
       "    <optgroup label=\"Level One\">\n",
       "        <option> A.1 </option>\n",
       "        <optgroup label=\"Level Two\">\n",
       "            <option>A.B.1 </option>\n",
       "        </optgroup>\n",
       "        <option> A.2 </option>\n",
       "    </optgroup>\n",
       "    <option> A </option>\n",
       "</select>"
      ],
      "text/plain": [
       "<IPython.core.display.HTML object>"
      ]
     },
     "metadata": {},
     "output_type": "display_data"
    }
   ],
   "source": [
    "%%html\n",
    "\n",
    "<select>\n",
    "    <optgroup label=\"Level One\">\n",
    "        <option> A.1 </option>\n",
    "        <optgroup label=\"Level Two\">\n",
    "            <option>A.B.1 </option>\n",
    "        </optgroup>\n",
    "        <option> A.2 </option>\n",
    "    </optgroup>\n",
    "    <option> A </option>\n",
    "</select>"
   ]
  },
  {
   "cell_type": "code",
   "execution_count": 23,
   "metadata": {},
   "outputs": [
    {
     "data": {
      "text/html": [
       "\n",
       "<script>\n",
       "$('input').change(function(){\n",
       "    var status = false;\n",
       "  $(this).next().find('input').prop('checked', this.checked); \n",
       "    status = ($(this).parent().find('> input').not(':checked').length === 0);\n",
       "  $(this).parent().prev().prop('checked', status);\n",
       "  if(status){\n",
       "        $(this).parent().prev().trigger(\"change\");\n",
       "  }\n",
       "  else{\n",
       "    $(this).parents().prev().prop('checked', false);\n",
       "  }\n",
       "});\n",
       "</script>\n",
       "\n",
       "<div class=\"parent\">\n",
       "  <input type=\"checkbox\">1\n",
       "  <div>\n",
       "    <input type=\"checkbox\">1.1\n",
       "    <input type=\"checkbox\">1.2\n",
       "    <div>\n",
       "      <input type=\"checkbox\">1.2.1\n",
       "      <div>\n",
       "        <input type=\"checkbox\">1.2.1.1\n",
       "        <input type=\"checkbox\">1.2.1.2\n",
       "        <input type=\"checkbox\">1.2.1.3\n",
       "      </div>\n",
       "      <input type=\"checkbox\">1.2.2\n",
       "    </div>\n",
       "  </div>\n",
       "  <input type=\"checkbox\">2\n",
       "  <div>\n",
       "    <input type=\"checkbox\">2.1\n",
       "    <input type=\"checkbox\">2.2\n",
       "  </div>\n",
       "</div>"
      ],
      "text/plain": [
       "<IPython.core.display.HTML object>"
      ]
     },
     "metadata": {},
     "output_type": "display_data"
    }
   ],
   "source": [
    "%%html\n",
    "\n",
    "<script>\n",
    "$('input').change(function(){\n",
    "    var status = false;\n",
    "  $(this).next().find('input').prop('checked', this.checked); \n",
    "    status = ($(this).parent().find('> input').not(':checked').length === 0);\n",
    "  $(this).parent().prev().prop('checked', status);\n",
    "  if(status){\n",
    "        $(this).parent().prev().trigger(\"change\");\n",
    "  }\n",
    "  else{\n",
    "    $(this).parents().prev().prop('checked', false);\n",
    "  }\n",
    "});\n",
    "</script>\n",
    "\n",
    "<div class=\"parent\">\n",
    "  <input type=\"checkbox\">1\n",
    "  <div>\n",
    "    <input type=\"checkbox\">1.1\n",
    "    <input type=\"checkbox\">1.2\n",
    "    <div>\n",
    "      <input type=\"checkbox\">1.2.1\n",
    "      <div>\n",
    "        <input type=\"checkbox\">1.2.1.1\n",
    "        <input type=\"checkbox\">1.2.1.2\n",
    "        <input type=\"checkbox\">1.2.1.3\n",
    "      </div>\n",
    "      <input type=\"checkbox\">1.2.2\n",
    "    </div>\n",
    "  </div>\n",
    "  <input type=\"checkbox\">2\n",
    "  <div>\n",
    "    <input type=\"checkbox\">2.1\n",
    "    <input type=\"checkbox\">2.2\n",
    "  </div>\n",
    "</div>"
   ]
  }
 ],
 "metadata": {
  "kernelspec": {
   "display_name": "Python 3",
   "language": "python",
   "name": "python3"
  },
  "language_info": {
   "codemirror_mode": {
    "name": "ipython",
    "version": 3
   },
   "file_extension": ".py",
   "mimetype": "text/x-python",
   "name": "python",
   "nbconvert_exporter": "python",
   "pygments_lexer": "ipython3",
   "version": "3.6.3"
  }
 },
 "nbformat": 4,
 "nbformat_minor": 2
}
