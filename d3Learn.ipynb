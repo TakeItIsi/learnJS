{
 "cells": [
  {
   "cell_type": "code",
   "execution_count": 93,
   "metadata": {
    "collapsed": true
   },
   "outputs": [],
   "source": [
    "import py_d3"
   ]
  },
  {
   "cell_type": "code",
   "execution_count": 94,
   "metadata": {
    "collapsed": true
   },
   "outputs": [],
   "source": [
    "%reload_ext py_d3"
   ]
  },
  {
   "cell_type": "code",
   "execution_count": 95,
   "metadata": {},
   "outputs": [
    {
     "data": {
      "text/html": [
       "\n",
       "<script>\n",
       "requirejs.config({\n",
       "    paths: {\n",
       "        d3: \"//cdnjs.cloudflare.com/ajax/libs/d3/3.5.17/d3\"\n",
       "    }\n",
       "});\n",
       "\n",
       "require(['d3'], function(d3) {\n",
       "    window.d3 = d3;\n",
       "});\n",
       "</script>\n",
       "<script>\n",
       "_select = d3.select;\n",
       "\n",
       "d3.select0 = function(selection) {\n",
       "    return _select(\"#d3-cell-0\").select(selection);\n",
       "}\n",
       "d3.selectAll0 = function(selection) {\n",
       "    return _select(\"#d3-cell-0\").selectAll(selection);\n",
       "}\n",
       "</script>\n",
       "<g id=\"d3-cell-0\">\n",
       "\n",
       "<g />\n",
       "\n",
       "<script>\n",
       "d3.select0(\"g\").text(\"Hello World\");\n",
       "</script>\n",
       "</g>"
      ],
      "text/plain": [
       "<IPython.core.display.HTML object>"
      ]
     },
     "metadata": {},
     "output_type": "display_data"
    }
   ],
   "source": [
    "%%d3\n",
    "\n",
    "<g />\n",
    "\n",
    "<script>\n",
    "d3.select(\"g\").text(\"Hello World\");\n",
    "</script>"
   ]
  },
  {
   "cell_type": "code",
   "execution_count": 96,
   "metadata": {},
   "outputs": [
    {
     "data": {
      "text/html": [
       "\n",
       "<script>\n",
       "requirejs.config({\n",
       "    paths: {\n",
       "        d3: \"//cdnjs.cloudflare.com/ajax/libs/d3/3.5.17/d3\"\n",
       "    }\n",
       "});\n",
       "\n",
       "require(['d3'], function(d3) {\n",
       "    window.d3 = d3;\n",
       "});\n",
       "</script>\n",
       "<script>\n",
       "_select = d3.select;\n",
       "\n",
       "d3.select1 = function(selection) {\n",
       "    return _select(\"#d3-cell-1\").select(selection);\n",
       "}\n",
       "d3.selectAll1 = function(selection) {\n",
       "    return _select(\"#d3-cell-1\").selectAll(selection);\n",
       "}\n",
       "</script>\n",
       "<g id=\"d3-cell-1\">\n",
       "<script type=\"text/javascript\">\n",
       "    alert(\"Hello, world!\");\n",
       "</script>\n",
       "</g>"
      ],
      "text/plain": [
       "<IPython.core.display.HTML object>"
      ]
     },
     "metadata": {},
     "output_type": "display_data"
    }
   ],
   "source": [
    "%%d3\n",
    "<script type=\"text/javascript\">\n",
    "    alert(\"Hello, world!\");\n",
    "</script>"
   ]
  },
  {
   "cell_type": "code",
   "execution_count": 97,
   "metadata": {},
   "outputs": [
    {
     "data": {
      "text/html": [
       "\n",
       "<script>\n",
       "requirejs.config({\n",
       "    paths: {\n",
       "        d3: \"//cdnjs.cloudflare.com/ajax/libs/d3/3.5.17/d3\"\n",
       "    }\n",
       "});\n",
       "\n",
       "require(['d3'], function(d3) {\n",
       "    window.d3 = d3;\n",
       "});\n",
       "</script>\n",
       "<script>\n",
       "_select = d3.select;\n",
       "\n",
       "d3.select2 = function(selection) {\n",
       "    return _select(\"#d3-cell-2\").select(selection);\n",
       "}\n",
       "d3.selectAll2 = function(selection) {\n",
       "    return _select(\"#d3-cell-2\").selectAll(selection);\n",
       "}\n",
       "</script>\n",
       "<g id=\"d3-cell-2\">\n",
       "<svg width=\"50\" height=\"50\">\n",
       "    <circle cx=\"25\" cy=\"25\" r=\"22\"\n",
       "    fill=\"blue\" stroke=\"gray\" stroke-width=\"2\"/>\n",
       "</svg>\n",
       "</g>"
      ],
      "text/plain": [
       "<IPython.core.display.HTML object>"
      ]
     },
     "metadata": {},
     "output_type": "display_data"
    }
   ],
   "source": [
    "%%d3\n",
    "<svg width=\"50\" height=\"50\">\n",
    "    <circle cx=\"25\" cy=\"25\" r=\"22\"\n",
    "    fill=\"blue\" stroke=\"gray\" stroke-width=\"2\"/>\n",
    "</svg>"
   ]
  },
  {
   "cell_type": "code",
   "execution_count": 98,
   "metadata": {},
   "outputs": [
    {
     "data": {
      "text/html": [
       "\n",
       "<script>\n",
       "requirejs.config({\n",
       "    paths: {\n",
       "        d3: \"//cdnjs.cloudflare.com/ajax/libs/d3/3.5.17/d3\"\n",
       "    }\n",
       "});\n",
       "\n",
       "require(['d3'], function(d3) {\n",
       "    window.d3 = d3;\n",
       "});\n",
       "</script>\n",
       "<script>\n",
       "_select = d3.select;\n",
       "\n",
       "d3.select3 = function(selection) {\n",
       "    return _select(\"#d3-cell-3\").select(selection);\n",
       "}\n",
       "d3.selectAll3 = function(selection) {\n",
       "    return _select(\"#d3-cell-3\").selectAll(selection);\n",
       "}\n",
       "</script>\n",
       "<g id=\"d3-cell-3\">\n",
       "<g></g>\n",
       "\n",
       "<script>\n",
       "d3.select3(\"g\")\n",
       "    .append(\"p\")\n",
       "    .text(\"New paragraph!\")\n",
       "    .append(\"p\")\n",
       "    .text(\"New paragraph!\");\n",
       "</script>\n",
       "</g>"
      ],
      "text/plain": [
       "<IPython.core.display.HTML object>"
      ]
     },
     "metadata": {},
     "output_type": "display_data"
    }
   ],
   "source": [
    "%%d3\n",
    "<g></g>\n",
    "\n",
    "<script>\n",
    "d3.select(\"g\")\n",
    "    .append(\"p\")\n",
    "    .text(\"New paragraph!\")\n",
    "    .append(\"p\")\n",
    "    .text(\"New paragraph!\");\n",
    "</script>"
   ]
  },
  {
   "cell_type": "code",
   "execution_count": 116,
   "metadata": {},
   "outputs": [
    {
     "data": {
      "text/html": [
       "\n",
       "<script>\n",
       "requirejs.config({\n",
       "    paths: {\n",
       "        d3: \"//cdnjs.cloudflare.com/ajax/libs/d3/3.5.17/d3\"\n",
       "    }\n",
       "});\n",
       "\n",
       "require(['d3'], function(d3) {\n",
       "    window.d3 = d3;\n",
       "});\n",
       "</script>\n",
       "<script>\n",
       "_select = d3.select;\n",
       "\n",
       "d3.select21 = function(selection) {\n",
       "    return _select(\"#d3-cell-21\").select(selection);\n",
       "}\n",
       "d3.selectAll21 = function(selection) {\n",
       "    return _select(\"#d3-cell-21\").selectAll(selection);\n",
       "}\n",
       "</script>\n",
       "<g id=\"d3-cell-21\">\n",
       "<g></g>\n",
       "\n",
       "<script>\n",
       "var dataset = [ 5, 10, 15, 20, 25];\n",
       "d3.select21(\"g\")\n",
       "    .selectAll(\"p\")\n",
       "    .data(dataset)\n",
       "    .enter()\n",
       "    .append(\"p\")\n",
       "    .text(\"New paragraph!\");\n",
       "console.log(d3.selectAll21(\"p\"));\n",
       "</script>\n",
       "</g>"
      ],
      "text/plain": [
       "<IPython.core.display.HTML object>"
      ]
     },
     "metadata": {},
     "output_type": "display_data"
    }
   ],
   "source": [
    "%%d3\n",
    "<g></g>\n",
    "\n",
    "<script>\n",
    "var dataset = [ 5, 10, 15, 20, 25];\n",
    "d3.select(\"g\")\n",
    "    .selectAll(\"p\")\n",
    "    .data(dataset)\n",
    "    .enter()\n",
    "    .append(\"p\")\n",
    "    .text(\"New paragraph!\");\n",
    "console.log(d3.selectAll(\"p\"));\n",
    "</script>"
   ]
  },
  {
   "cell_type": "code",
   "execution_count": 115,
   "metadata": {},
   "outputs": [
    {
     "data": {
      "text/html": [
       "\n",
       "<script>\n",
       "requirejs.config({\n",
       "    paths: {\n",
       "        d3: \"//cdnjs.cloudflare.com/ajax/libs/d3/3.5.17/d3\"\n",
       "    }\n",
       "});\n",
       "\n",
       "require(['d3'], function(d3) {\n",
       "    window.d3 = d3;\n",
       "});\n",
       "</script>\n",
       "<script>\n",
       "_select = d3.select;\n",
       "\n",
       "d3.select20 = function(selection) {\n",
       "    return _select(\"#d3-cell-20\").select(selection);\n",
       "}\n",
       "d3.selectAll20 = function(selection) {\n",
       "    return _select(\"#d3-cell-20\").selectAll(selection);\n",
       "}\n",
       "</script>\n",
       "<g id=\"d3-cell-20\">\n",
       "<g />\n",
       "\n",
       "<script>\n",
       "var dataset = [ 5, 10, 15, 20, 25];\n",
       "d3.select20(\"g\")\n",
       "    .selectAll(\"p\")\n",
       "    .data(dataset)\n",
       "    .enter()\n",
       "    .append(\"p\")\n",
       "    .text(function(d) { return \"asd: \" + d; });\n",
       "console.log(d3.selectAll20(\"p\"));\n",
       "alert(\"dataset[3]: \" + dataset[3]);\n",
       "</script>\n",
       "</g>"
      ],
      "text/plain": [
       "<IPython.core.display.HTML object>"
      ]
     },
     "metadata": {},
     "output_type": "display_data"
    }
   ],
   "source": [
    "%%d3\n",
    "<g />\n",
    "\n",
    "<script>\n",
    "var dataset = [ 5, 10, 15, 20, 25];\n",
    "d3.select(\"g\")\n",
    "    .selectAll(\"p\")\n",
    "    .data(dataset)\n",
    "    .enter()\n",
    "    .append(\"p\")\n",
    "    .text(function(d) { return \"asd: \" + d; });\n",
    "console.log(d3.selectAll(\"p\"));\n",
    "alert(\"dataset[3]: \" + dataset[3]);\n",
    "</script>"
   ]
  },
  {
   "cell_type": "code",
   "execution_count": 101,
   "metadata": {},
   "outputs": [
    {
     "data": {
      "text/html": [
       "\n",
       "<script>\n",
       "requirejs.config({\n",
       "    paths: {\n",
       "        d3: \"//cdnjs.cloudflare.com/ajax/libs/d3/3.5.17/d3\"\n",
       "    }\n",
       "});\n",
       "\n",
       "require(['d3'], function(d3) {\n",
       "    window.d3 = d3;\n",
       "});\n",
       "</script>\n",
       "<script>\n",
       "_select = d3.select;\n",
       "\n",
       "d3.select6 = function(selection) {\n",
       "    return _select(\"#d3-cell-6\").select(selection);\n",
       "}\n",
       "d3.selectAll6 = function(selection) {\n",
       "    return _select(\"#d3-cell-6\").selectAll(selection);\n",
       "}\n",
       "</script>\n",
       "<g id=\"d3-cell-6\">\n",
       "\n",
       "<g />\n",
       "\n",
       "<script>\n",
       "d3.select6(\"g\").text(\"Hello World\").style(\"color\",\"#ff00ff\");\n",
       "</script>\n",
       "</g>"
      ],
      "text/plain": [
       "<IPython.core.display.HTML object>"
      ]
     },
     "metadata": {},
     "output_type": "display_data"
    }
   ],
   "source": [
    "%%d3\n",
    "\n",
    "<g />\n",
    "\n",
    "<script>\n",
    "d3.select(\"g\")\n",
    "    .text(\"Hello World\")\n",
    "    .style(\"color\",\"#ff00ff\");\n",
    "</script>"
   ]
  },
  {
   "cell_type": "code",
   "execution_count": 114,
   "metadata": {},
   "outputs": [
    {
     "data": {
      "text/html": [
       "\n",
       "<script>\n",
       "requirejs.config({\n",
       "    paths: {\n",
       "        d3: \"//cdnjs.cloudflare.com/ajax/libs/d3/3.5.17/d3\"\n",
       "    }\n",
       "});\n",
       "\n",
       "require(['d3'], function(d3) {\n",
       "    window.d3 = d3;\n",
       "});\n",
       "</script>\n",
       "<script>\n",
       "_select = d3.select;\n",
       "\n",
       "d3.select19 = function(selection) {\n",
       "    return _select(\"#d3-cell-19\").select(selection);\n",
       "}\n",
       "d3.selectAll19 = function(selection) {\n",
       "    return _select(\"#d3-cell-19\").selectAll(selection);\n",
       "}\n",
       "</script>\n",
       "<g id=\"d3-cell-19\">\n",
       "\n",
       "<g />\n",
       "\n",
       "<script>\n",
       "var dataset = [ 5, 10, 15, 20, 25];\n",
       "d3.select19(\"g\")\n",
       "    .selectAll(\"p\")\n",
       "    .data(dataset)\n",
       "    .enter()\n",
       "    .append(\"p\")\n",
       "    .text(function(d) { return \"asd: \" + d; })\n",
       "    .style(\"color\", function(d) {\n",
       "        if (d % 2 == 0) {\n",
       "            return \"red\";\n",
       "        } else {\n",
       "        return \"blue\";\n",
       "        }\n",
       "    });;\n",
       "</script>\n",
       "</g>"
      ],
      "text/plain": [
       "<IPython.core.display.HTML object>"
      ]
     },
     "metadata": {},
     "output_type": "display_data"
    }
   ],
   "source": [
    "%%d3\n",
    "\n",
    "<g />\n",
    "\n",
    "<script>\n",
    "var dataset = [ 5, 10, 15, 20, 25];\n",
    "d3.select(\"g\")\n",
    "    .selectAll(\"p\")\n",
    "    .data(dataset)\n",
    "    .enter()\n",
    "    .append(\"p\")\n",
    "    .text(function(d) { return \"asd: \" + d; })\n",
    "    .style(\"color\", function(d) {\n",
    "        if (d % 2 == 0) {\n",
    "            return \"red\";\n",
    "        } else {\n",
    "        return \"blue\";\n",
    "        }\n",
    "    });;\n",
    "</script>"
   ]
  },
  {
   "cell_type": "code",
   "execution_count": 113,
   "metadata": {},
   "outputs": [
    {
     "data": {
      "text/html": [
       "\n",
       "<script>\n",
       "requirejs.config({\n",
       "    paths: {\n",
       "        d3: \"//cdnjs.cloudflare.com/ajax/libs/d3/3.5.17/d3\"\n",
       "    }\n",
       "});\n",
       "\n",
       "require(['d3'], function(d3) {\n",
       "    window.d3 = d3;\n",
       "});\n",
       "</script>\n",
       "<script>\n",
       "_select = d3.select;\n",
       "\n",
       "d3.select18 = function(selection) {\n",
       "    return _select(\"#d3-cell-18\").select(selection);\n",
       "}\n",
       "d3.selectAll18 = function(selection) {\n",
       "    return _select(\"#d3-cell-18\").selectAll(selection);\n",
       "}\n",
       "</script>\n",
       "<g id=\"d3-cell-18\">\n",
       "\n",
       "<g />\n",
       "\n",
       "<script>\n",
       "var dataset = \"HelloWorld\";\n",
       "var i = 0;\n",
       "d3.select18(\"g\")\n",
       "    .selectAll(\"p\")\n",
       "    .data(dataset)\n",
       "    .enter()\n",
       "    .append(\"a\")\n",
       "    .text(function(d) { return d + \" \"; })\n",
       "    .style(\"color\", function(d) {\n",
       "        if (i % 2 == 0) {\n",
       "            i = i + 1;\n",
       "            return \"red\";\n",
       "        } else {\n",
       "            i = i + 1;\n",
       "            return \"blue\";\n",
       "        }\n",
       "    });;\n",
       "</script>\n",
       "</g>"
      ],
      "text/plain": [
       "<IPython.core.display.HTML object>"
      ]
     },
     "metadata": {},
     "output_type": "display_data"
    }
   ],
   "source": [
    "%%d3\n",
    "\n",
    "<g />\n",
    "\n",
    "<script>\n",
    "var dataset = \"HelloWorld\";\n",
    "var i = 0;\n",
    "d3.select(\"g\")\n",
    "    .selectAll(\"p\")\n",
    "    .data(dataset)\n",
    "    .enter()\n",
    "    .append(\"a\")\n",
    "    .text(function(d) { return d + \" \"; })\n",
    "    .style(\"color\", function(d) {\n",
    "        if (i % 2 == 0) {\n",
    "            i = i + 1;\n",
    "            return \"red\";\n",
    "        } else {\n",
    "            i = i + 1;\n",
    "            return \"blue\";\n",
    "        }\n",
    "    });;\n",
    "</script>"
   ]
  },
  {
   "cell_type": "code",
   "execution_count": 123,
   "metadata": {},
   "outputs": [
    {
     "data": {
      "text/html": [
       "\n",
       "<script>\n",
       "requirejs.config({\n",
       "    paths: {\n",
       "        d3: \"//cdnjs.cloudflare.com/ajax/libs/d3/3.5.17/d3\"\n",
       "    }\n",
       "});\n",
       "\n",
       "require(['d3'], function(d3) {\n",
       "    window.d3 = d3;\n",
       "});\n",
       "</script>\n",
       "<script>\n",
       "_select = d3.select;\n",
       "\n",
       "d3.select28 = function(selection) {\n",
       "    return _select(\"#d3-cell-28\").select(selection);\n",
       "}\n",
       "d3.selectAll28 = function(selection) {\n",
       "    return _select(\"#d3-cell-28\").selectAll(selection);\n",
       "}\n",
       "</script>\n",
       "<g id=\"d3-cell-28\">\n",
       "<div style=\"display: inline-block; \n",
       "        width: 20px;\n",
       "        height: 75px;\n",
       "        background-color: teal;\"></div>\n",
       "</g>"
      ],
      "text/plain": [
       "<IPython.core.display.HTML object>"
      ]
     },
     "metadata": {},
     "output_type": "display_data"
    }
   ],
   "source": [
    "%%d3\n",
    "\n",
    "<div style=\"display: inline-block; \n",
    "        width: 20px;\n",
    "        height: 75px;\n",
    "        background-color: teal;\"></div>"
   ]
  },
  {
   "cell_type": "code",
   "execution_count": 124,
   "metadata": {},
   "outputs": [
    {
     "data": {
      "text/html": [
       "\n",
       "<script>\n",
       "requirejs.config({\n",
       "    paths: {\n",
       "        d3: \"//cdnjs.cloudflare.com/ajax/libs/d3/3.5.17/d3\"\n",
       "    }\n",
       "});\n",
       "\n",
       "require(['d3'], function(d3) {\n",
       "    window.d3 = d3;\n",
       "});\n",
       "</script>\n",
       "<script>\n",
       "_select = d3.select;\n",
       "\n",
       "d3.select29 = function(selection) {\n",
       "    return _select(\"#d3-cell-29\").select(selection);\n",
       "}\n",
       "d3.selectAll29 = function(selection) {\n",
       "    return _select(\"#d3-cell-29\").selectAll(selection);\n",
       "}\n",
       "</script>\n",
       "<g id=\"d3-cell-29\">\n",
       "\n",
       "<style>\n",
       "div.bar {\n",
       "    display: inline-block;\n",
       "    width: 20px;\n",
       "    height: 75px;   /* Esto se cambiará próximamente */\n",
       "    background-color: teal;\n",
       "}\n",
       "</style>\n",
       "\n",
       "<div class=\"bar\"></div>\n",
       "</g>"
      ],
      "text/plain": [
       "<IPython.core.display.HTML object>"
      ]
     },
     "metadata": {},
     "output_type": "display_data"
    }
   ],
   "source": [
    "%%d3\n",
    "\n",
    "<style>\n",
    "div.bar {\n",
    "    display: inline-block;\n",
    "    width: 20px;\n",
    "    height: 75px;   /* Esto se cambiará próximamente */\n",
    "    background-color: teal;\n",
    "}\n",
    "</style>\n",
    "\n",
    "<div class=\"bar\"></div>"
   ]
  },
  {
   "cell_type": "code",
   "execution_count": 129,
   "metadata": {},
   "outputs": [
    {
     "data": {
      "text/html": [
       "\n",
       "<script>\n",
       "requirejs.config({\n",
       "    paths: {\n",
       "        d3: \"//cdnjs.cloudflare.com/ajax/libs/d3/3.5.17/d3\"\n",
       "    }\n",
       "});\n",
       "\n",
       "require(['d3'], function(d3) {\n",
       "    window.d3 = d3;\n",
       "});\n",
       "</script>\n",
       "<script>\n",
       "_select = d3.select;\n",
       "\n",
       "d3.select34 = function(selection) {\n",
       "    return _select(\"#d3-cell-34\").select(selection);\n",
       "}\n",
       "d3.selectAll34 = function(selection) {\n",
       "    return _select(\"#d3-cell-34\").selectAll(selection);\n",
       "}\n",
       "</script>\n",
       "<g id=\"d3-cell-34\">\n",
       "\n",
       "<style>\n",
       "div.bar {\n",
       "    display: inline-block;\n",
       "    width: 20px;\n",
       "    height: 75px;   /* Esto se cambiará próximamente */\n",
       "    background-color: teal;\n",
       "}\n",
       "</style>\n",
       "\n",
       "<div />\n",
       "\n",
       "<script>\n",
       "    d3.select34(\"div\").attr(\"class\", \"bar\")\n",
       "</script>\n",
       "</g>"
      ],
      "text/plain": [
       "<IPython.core.display.HTML object>"
      ]
     },
     "metadata": {},
     "output_type": "display_data"
    }
   ],
   "source": [
    "%%d3\n",
    "\n",
    "<style>\n",
    "div.bar {\n",
    "    display: inline-block;\n",
    "    width: 20px;\n",
    "    height: 75px;   /* Esto se cambiará próximamente */\n",
    "    background-color: teal;\n",
    "}\n",
    "</style>\n",
    "\n",
    "<div />\n",
    "\n",
    "<script>\n",
    "    d3.select(\"div\")\n",
    "        .attr(\"class\", \"bar\")\n",
    "</script>"
   ]
  },
  {
   "cell_type": "code",
   "execution_count": 143,
   "metadata": {},
   "outputs": [
    {
     "data": {
      "text/html": [
       "\n",
       "<script>\n",
       "requirejs.config({\n",
       "    paths: {\n",
       "        d3: \"//cdnjs.cloudflare.com/ajax/libs/d3/3.5.17/d3\"\n",
       "    }\n",
       "});\n",
       "\n",
       "require(['d3'], function(d3) {\n",
       "    window.d3 = d3;\n",
       "});\n",
       "</script>\n",
       "<script>\n",
       "_select = d3.select;\n",
       "\n",
       "d3.select48 = function(selection) {\n",
       "    return _select(\"#d3-cell-48\").select(selection);\n",
       "}\n",
       "d3.selectAll48 = function(selection) {\n",
       "    return _select(\"#d3-cell-48\").selectAll(selection);\n",
       "}\n",
       "</script>\n",
       "<g id=\"d3-cell-48\">\n",
       "\n",
       "<style>\n",
       "div.bar {\n",
       "    display: inline-block;\n",
       "    width: 20px;\n",
       "    height: 75px;   /* Esto se cambiará próximamente */\n",
       "    background-color: teal;\n",
       "    margin-right: 2px;\n",
       "}\n",
       "</style>\n",
       "\n",
       "<g />\n",
       "\n",
       "<script>\n",
       "    var dataset = [ 25, 7, 5, 26, 11 ];\n",
       "    d3.select48(\"g\")\n",
       "        .selectAll(\"div\")\n",
       "        .data(dataset)\n",
       "        .enter()\n",
       "        .append(\"div\")\n",
       "        .attr(\"class\", \"bar\")\n",
       "        .style(\"height\", function(d) {\n",
       "            return d*5+\"px\";})    \n",
       "</script>\n",
       "</g>"
      ],
      "text/plain": [
       "<IPython.core.display.HTML object>"
      ]
     },
     "metadata": {},
     "output_type": "display_data"
    }
   ],
   "source": [
    "%%d3\n",
    "\n",
    "<style>\n",
    "div.bar {\n",
    "    display: inline-block;\n",
    "    width: 20px;\n",
    "    height: 75px;   /* Esto se cambiará próximamente */\n",
    "    background-color: teal;\n",
    "    margin-right: 2px;\n",
    "}\n",
    "</style>\n",
    "\n",
    "<g />\n",
    "\n",
    "<script>\n",
    "    var dataset = [ 25, 7, 5, 26, 11 ];\n",
    "    d3.select(\"g\")\n",
    "        .selectAll(\"div\")\n",
    "        .data(dataset)\n",
    "        .enter()\n",
    "        .append(\"div\")\n",
    "        .attr(\"class\", \"bar\")\n",
    "        .style(\"height\", function(d) {\n",
    "            return d*5+\"px\";})    \n",
    "</script>\n"
   ]
  },
  {
   "cell_type": "code",
   "execution_count": 169,
   "metadata": {
    "scrolled": true
   },
   "outputs": [
    {
     "data": {
      "text/html": [
       "\n",
       "<script>\n",
       "requirejs.config({\n",
       "    paths: {\n",
       "        d3: \"//cdnjs.cloudflare.com/ajax/libs/d3/3.5.17/d3\"\n",
       "    }\n",
       "});\n",
       "\n",
       "require(['d3'], function(d3) {\n",
       "    window.d3 = d3;\n",
       "});\n",
       "</script>\n",
       "<script>\n",
       "_select = d3.select;\n",
       "\n",
       "d3.select74 = function(selection) {\n",
       "    return _select(\"#d3-cell-74\").select(selection);\n",
       "}\n",
       "d3.selectAll74 = function(selection) {\n",
       "    return _select(\"#d3-cell-74\").selectAll(selection);\n",
       "}\n",
       "</script>\n",
       "<g id=\"d3-cell-74\">\n",
       "\n",
       "<style>\n",
       "div.bar {\n",
       "    display: inline-block;\n",
       "    width: 1%;\n",
       "    height: 75px;   /* Esto se cambiará próximamente */\n",
       "    background-color: teal;\n",
       "    margin-right: 2px;\n",
       "}\n",
       "</style>\n",
       "\n",
       "<g />\n",
       "\n",
       "<script>\n",
       "    var dataset = [ ];\n",
       "    \n",
       "     for (var i = 0; i < 70; i++) {\n",
       "         var newNumber = Math.round(Math.random() * 30);\n",
       "         dataset.push(newNumber);\n",
       "     }\n",
       "        \n",
       "    console.log(dataset);\n",
       "    \n",
       "    d3.select74(\"g\")\n",
       "        .selectAll(\"div\")\n",
       "        .data(dataset)\n",
       "        .enter()\n",
       "        .append(\"div\")\n",
       "        .attr(\"class\", \"bar\")\n",
       "        .style(\"height\", function(d) {\n",
       "            return d*5+\"px\";})    \n",
       "</script>\n",
       "</g>"
      ],
      "text/plain": [
       "<IPython.core.display.HTML object>"
      ]
     },
     "metadata": {},
     "output_type": "display_data"
    }
   ],
   "source": [
    "%%d3\n",
    "\n",
    "<style>\n",
    "div.bar {\n",
    "    display: inline-block;\n",
    "    width: 1%;\n",
    "    height: 75px;   /* Esto se cambiará próximamente */\n",
    "    background-color: teal;\n",
    "    margin-right: 2px;\n",
    "}\n",
    "</style>\n",
    "\n",
    "<g />\n",
    "\n",
    "<script>\n",
    "    var dataset = [ ];\n",
    "    \n",
    "     for (var i = 0; i < 70; i++) {\n",
    "         var newNumber = Math.round(Math.random() * 30);\n",
    "         dataset.push(newNumber);\n",
    "     }\n",
    "        \n",
    "    console.log(dataset);\n",
    "    \n",
    "    d3.select(\"g\")\n",
    "        .selectAll(\"div\")\n",
    "        .data(dataset)\n",
    "        .enter()\n",
    "        .append(\"div\")\n",
    "        .attr(\"class\", \"bar\")\n",
    "        .style(\"height\", function(d) {\n",
    "            return d*5+\"px\";})    \n",
    "</script>\n"
   ]
  },
  {
   "cell_type": "code",
   "execution_count": 211,
   "metadata": {},
   "outputs": [
    {
     "data": {
      "text/html": [
       "\n",
       "<script>\n",
       "requirejs.config({\n",
       "    paths: {\n",
       "        d3: \"//cdnjs.cloudflare.com/ajax/libs/d3/3.5.17/d3\"\n",
       "    }\n",
       "});\n",
       "\n",
       "require(['d3'], function(d3) {\n",
       "    window.d3 = d3;\n",
       "});\n",
       "</script>\n",
       "<script>\n",
       "_select = d3.select;\n",
       "\n",
       "d3.select116 = function(selection) {\n",
       "    return _select(\"#d3-cell-116\").select(selection);\n",
       "}\n",
       "d3.selectAll116 = function(selection) {\n",
       "    return _select(\"#d3-cell-116\").selectAll(selection);\n",
       "}\n",
       "</script>\n",
       "<g id=\"d3-cell-116\">\n",
       "<svg width = 500 height =500>\n",
       "    <circle cx=200 cy=200 r=127 \n",
       "        fill=red stroke=black stroke-width=4/>\n",
       "    <ellipse cx=250 cy=25 rx=100 ry=25/>\n",
       "    <rect x=0 y=400 width=500 height=50 \n",
       "        fill=blue stroke-width=4 stroke=black/>\n",
       "    <line x1=\"\" y1=\"300\" x2=\"500\" y2=\"50\" stroke=\"purple\"/>\n",
       "    \n",
       "    <text x=\"250\" y=\"25\" font-family=\"sans-serif\"\n",
       "        font-size=\"25\" fill=\"gray\">Easy-peasy</text>\n",
       "</svg>\n",
       "</g>"
      ],
      "text/plain": [
       "<IPython.core.display.HTML object>"
      ]
     },
     "metadata": {},
     "output_type": "display_data"
    }
   ],
   "source": [
    "%%d3\n",
    "<svg width = 500 height =500>\n",
    "    <circle cx=200 cy=200 r=127 \n",
    "        fill=red stroke=black stroke-width=4/>\n",
    "    <ellipse cx=250 cy=25 rx=100 ry=25/>\n",
    "    <rect x=0 y=400 width=500 height=50 \n",
    "        fill=blue stroke-width=4 stroke=black/>\n",
    "    <line x1=\"\" y1=\"300\" x2=\"500\" y2=\"50\" stroke=\"purple\"/>\n",
    "    \n",
    "    <text x=\"250\" y=\"25\" font-family=\"sans-serif\"\n",
    "        font-size=\"25\" fill=\"gray\">Easy-peasy</text>\n",
    "</svg>"
   ]
  },
  {
   "cell_type": "code",
   "execution_count": 223,
   "metadata": {
    "scrolled": true
   },
   "outputs": [
    {
     "data": {
      "text/html": [
       "\n",
       "<script>\n",
       "requirejs.config({\n",
       "    paths: {\n",
       "        d3: \"//cdnjs.cloudflare.com/ajax/libs/d3/3.5.17/d3\"\n",
       "    }\n",
       "});\n",
       "\n",
       "require(['d3'], function(d3) {\n",
       "    window.d3 = d3;\n",
       "});\n",
       "</script>\n",
       "<script>\n",
       "_select = d3.select;\n",
       "\n",
       "d3.select128 = function(selection) {\n",
       "    return _select(\"#d3-cell-128\").select(selection);\n",
       "}\n",
       "d3.selectAll128 = function(selection) {\n",
       "    return _select(\"#d3-cell-128\").selectAll(selection);\n",
       "}\n",
       "</script>\n",
       "<g id=\"d3-cell-128\">\n",
       "<style>\n",
       "svg .circle1 {\n",
       "    fill: red;\n",
       "    stroke: black;\n",
       "    stroke-width: 5;\n",
       "}\n",
       "\n",
       "svg .rect1 {\n",
       "    fill:blue;\n",
       "    stroke-width:4;\n",
       "    stroke:black;\n",
       "}\n",
       "\n",
       "</style>\n",
       "\n",
       "<svg width = 500 height =500>\n",
       "    <circle cx=200 cy=200 r=127 class=\"circle1\"/>\n",
       "    <ellipse cx=250 cy=25 rx=100 ry=25/>\n",
       "    <rect x=0 y=400 width=500 height=50 class=\"rect1\"/>\n",
       "    <line x1=\"\" y1=\"300\" x2=\"500\" y2=\"50\" stroke=\"purple\"/>\n",
       "    <text x=\"250\" y=\"25\" font-family=\"sans-serif\"\n",
       "        font-size=\"25\" fill=\"gray\">Easy-peasy</text>\n",
       "</svg>\n",
       "</g>"
      ],
      "text/plain": [
       "<IPython.core.display.HTML object>"
      ]
     },
     "metadata": {},
     "output_type": "display_data"
    }
   ],
   "source": [
    "%%d3\n",
    "<style>\n",
    "svg .circle1 {\n",
    "    fill: red;\n",
    "    stroke: black;\n",
    "    stroke-width: 5;\n",
    "}\n",
    "\n",
    "svg .rect1 {\n",
    "    fill:blue;\n",
    "    stroke-width:4;\n",
    "    stroke:black;\n",
    "}\n",
    "\n",
    "</style>\n",
    "\n",
    "<svg width = 500 height =500>\n",
    "    <circle cx=200 cy=200 r=127 class=\"circle1\"/>\n",
    "    <ellipse cx=250 cy=25 rx=100 ry=25/>\n",
    "    <rect x=0 y=400 width=500 height=50 class=\"rect1\"/>\n",
    "    <line x1=\"\" y1=\"300\" x2=\"500\" y2=\"50\" stroke=\"purple\"/>\n",
    "    <text x=\"250\" y=\"25\" font-family=\"sans-serif\"\n",
    "        font-size=\"25\" fill=\"gray\">Easy-peasy</text>\n",
    "</svg>"
   ]
  },
  {
   "cell_type": "code",
   "execution_count": 226,
   "metadata": {},
   "outputs": [
    {
     "data": {
      "text/html": [
       "\n",
       "<script>\n",
       "requirejs.config({\n",
       "    paths: {\n",
       "        d3: \"//cdnjs.cloudflare.com/ajax/libs/d3/3.5.17/d3\"\n",
       "    }\n",
       "});\n",
       "\n",
       "require(['d3'], function(d3) {\n",
       "    window.d3 = d3;\n",
       "});\n",
       "</script>\n",
       "<script>\n",
       "_select = d3.select;\n",
       "\n",
       "d3.select131 = function(selection) {\n",
       "    return _select(\"#d3-cell-131\").select(selection);\n",
       "}\n",
       "d3.selectAll131 = function(selection) {\n",
       "    return _select(\"#d3-cell-131\").selectAll(selection);\n",
       "}\n",
       "</script>\n",
       "<g id=\"d3-cell-131\">\n",
       "<svg>\n",
       "    <circle cx=\"25\" cy=\"25\" r=\"20\" fill=\"rgba(128, 0, 128, 1.0)\"/>\n",
       "    <circle cx=\"50\" cy=\"25\" r=\"20\" fill=\"rgba(0, 0, 255, 0.75)\"/>\n",
       "    <circle cx=\"75\" cy=\"25\" r=\"20\" fill=\"rgba(0, 255, 0, 0.5)\"/>\n",
       "    <circle cx=\"100\" cy=\"25\" r=\"20\" fill=\"rgba(255, 255, 0, 0.25)\"/>\n",
       "    <circle cx=\"125\" cy=\"25\" r=\"20\" fill=\"rgba(255, 0, 0, 0.1)\"/>\n",
       "    \n",
       "    <circle cx=\"25\" cy=\"25\" r=\"20\"\n",
       "    fill=\"rgba(128, 0, 128, 0.75)\" \n",
       "    stroke=\"rgba(0, 255, 0, 0.25)\" stroke-width=\"10\"/>\n",
       "<circle cx=\"75\" cy=\"25\" r=\"20\"\n",
       "    fill=\"rgba(0, 255, 0, 0.75)\"\n",
       "    stroke=\"rgba(0, 0, 255, 0.25)\" stroke-width=\"10\"/>\n",
       "<circle cx=\"125\" cy=\"25\" r=\"20\"\n",
       "    fill=\"rgba(255, 255, 0, 0.75)\"\n",
       "    stroke=\"rgba(255, 0, 0, 0.25)\" stroke-width=\"10\"/>\n",
       "</svg>\n",
       "</g>"
      ],
      "text/plain": [
       "<IPython.core.display.HTML object>"
      ]
     },
     "metadata": {},
     "output_type": "display_data"
    }
   ],
   "source": [
    "%%d3\n",
    "<svg>\n",
    "    <circle cx=\"25\" cy=\"25\" r=\"20\" fill=\"rgba(128, 0, 128, 1.0)\"/>\n",
    "    <circle cx=\"50\" cy=\"25\" r=\"20\" fill=\"rgba(0, 0, 255, 0.75)\"/>\n",
    "    <circle cx=\"75\" cy=\"25\" r=\"20\" fill=\"rgba(0, 255, 0, 0.5)\"/>\n",
    "    <circle cx=\"100\" cy=\"25\" r=\"20\" fill=\"rgba(255, 255, 0, 0.25)\"/>\n",
    "    <circle cx=\"125\" cy=\"25\" r=\"20\" fill=\"rgba(255, 0, 0, 0.1)\"/>\n",
    "</svg>"
   ]
  },
  {
   "cell_type": "code",
   "execution_count": 230,
   "metadata": {},
   "outputs": [
    {
     "data": {
      "text/html": [
       "\n",
       "<script>\n",
       "requirejs.config({\n",
       "    paths: {\n",
       "        d3: \"//cdnjs.cloudflare.com/ajax/libs/d3/3.5.17/d3\"\n",
       "    }\n",
       "});\n",
       "\n",
       "require(['d3'], function(d3) {\n",
       "    window.d3 = d3;\n",
       "});\n",
       "</script>\n",
       "<script>\n",
       "_select = d3.select;\n",
       "\n",
       "d3.select135 = function(selection) {\n",
       "    return _select(\"#d3-cell-135\").select(selection);\n",
       "}\n",
       "d3.selectAll135 = function(selection) {\n",
       "    return _select(\"#d3-cell-135\").selectAll(selection);\n",
       "}\n",
       "</script>\n",
       "<g id=\"d3-cell-135\">\n",
       "<svg>\n",
       "    <circle cx=\"25\" cy=\"25\" r=\"20\" fill=\"rgba(128, 0, 128, 0.75)\" stroke=\"rgba(0, 255, 0, 0.25)\" stroke-width=\"10\"/>\n",
       "    <circle cx=\"75\" cy=\"25\" r=\"20\" fill=\"rgba(0, 255, 0, 0.75)\" stroke=\"rgba(0, 0, 255, 0.25)\" stroke-width=\"10\"/>\n",
       "    <circle cx=\"125\" cy=\"25\" r=\"20\" fill=\"rgba(255, 255, 0, 0.75)\" stroke=\"rgba(255, 0, 0, 0.25)\" stroke-width=\"10\"/>\n",
       "</svg>\n",
       "</g>"
      ],
      "text/plain": [
       "<IPython.core.display.HTML object>"
      ]
     },
     "metadata": {},
     "output_type": "display_data"
    }
   ],
   "source": [
    "%%d3\n",
    "<svg>\n",
    "    <circle cx=\"25\" cy=\"25\" r=\"20\" fill=\"rgba(128, 0, 128, 0.75)\" stroke=\"rgba(0, 255, 0, 0.25)\" stroke-width=\"10\"/>\n",
    "    <circle cx=\"75\" cy=\"25\" r=\"20\" fill=\"rgba(0, 255, 0, 0.75)\" stroke=\"rgba(0, 0, 255, 0.25)\" stroke-width=\"10\"/>\n",
    "    <circle cx=\"125\" cy=\"25\" r=\"20\" fill=\"rgba(255, 255, 0, 0.75)\" stroke=\"rgba(255, 0, 0, 0.25)\" stroke-width=\"10\"/>\n",
    "</svg>"
   ]
  },
  {
   "cell_type": "code",
   "execution_count": 234,
   "metadata": {},
   "outputs": [
    {
     "data": {
      "text/html": [
       "\n",
       "<script>\n",
       "requirejs.config({\n",
       "    paths: {\n",
       "        d3: \"//cdnjs.cloudflare.com/ajax/libs/d3/3.5.17/d3\"\n",
       "    }\n",
       "});\n",
       "\n",
       "require(['d3'], function(d3) {\n",
       "    window.d3 = d3;\n",
       "});\n",
       "</script>\n",
       "<script>\n",
       "_select = d3.select;\n",
       "\n",
       "d3.select139 = function(selection) {\n",
       "    return _select(\"#d3-cell-139\").select(selection);\n",
       "}\n",
       "d3.selectAll139 = function(selection) {\n",
       "    return _select(\"#d3-cell-139\").selectAll(selection);\n",
       "}\n",
       "</script>\n",
       "<g id=\"d3-cell-139\">\n",
       "<svg>\n",
       "<circle cx=\"25\" cy=\"25\" r=\"20\"\n",
       "    fill=\"rgba(128, 0, 128, 0.75)\" \n",
       "    stroke=\"rgba(0, 255, 0, 0.25)\" stroke-width=\"10\"/>\n",
       "<circle cx=\"65\" cy=\"25\" r=\"20\"\n",
       "    fill=\"rgba(128, 0, 128, 0.75)\" \n",
       "    stroke=\"rgba(0, 255, 0, 0.25)\" stroke-width=\"10\"\n",
       "    opacity=\"0.5\"/>\n",
       "<circle cx=\"105\" cy=\"25\" r=\"20\"\n",
       "    fill=\"rgba(128, 0, 128, 0.75)\" \n",
       "    stroke=\"rgba(0, 255, 0, 0.25)\" stroke-width=\"10\"\n",
       "    opacity=\"0.2\"/>\n",
       "</svg>\n",
       "</g>"
      ],
      "text/plain": [
       "<IPython.core.display.HTML object>"
      ]
     },
     "metadata": {},
     "output_type": "display_data"
    }
   ],
   "source": [
    "%%d3\n",
    "<svg>\n",
    "<circle cx=\"25\" cy=\"25\" r=\"20\"\n",
    "    fill=\"rgba(128, 0, 128, 0.75)\" \n",
    "    stroke=\"rgba(0, 255, 0, 0.25)\" stroke-width=\"10\"/>\n",
    "<circle cx=\"65\" cy=\"25\" r=\"20\"\n",
    "    fill=\"rgba(128, 0, 128, 0.75)\" \n",
    "    stroke=\"rgba(0, 255, 0, 0.25)\" stroke-width=\"10\"\n",
    "    opacity=\"0.5\"/>\n",
    "<circle cx=\"105\" cy=\"25\" r=\"20\"\n",
    "    fill=\"rgba(128, 0, 128, 0.75)\" \n",
    "    stroke=\"rgba(0, 255, 0, 0.25)\" stroke-width=\"10\"\n",
    "    opacity=\"0.2\"/>\n",
    "</svg>"
   ]
  },
  {
   "cell_type": "code",
   "execution_count": 243,
   "metadata": {
    "scrolled": true
   },
   "outputs": [
    {
     "data": {
      "text/html": [
       "\n",
       "<script>\n",
       "requirejs.config({\n",
       "    paths: {\n",
       "        d3: \"//cdnjs.cloudflare.com/ajax/libs/d3/3.5.17/d3\"\n",
       "    }\n",
       "});\n",
       "\n",
       "require(['d3'], function(d3) {\n",
       "    window.d3 = d3;\n",
       "});\n",
       "</script>\n",
       "<script>\n",
       "_select = d3.select;\n",
       "\n",
       "d3.select148 = function(selection) {\n",
       "    return _select(\"#d3-cell-148\").select(selection);\n",
       "}\n",
       "d3.selectAll148 = function(selection) {\n",
       "    return _select(\"#d3-cell-148\").selectAll(selection);\n",
       "}\n",
       "</script>\n",
       "<g id=\"d3-cell-148\">\n",
       "\n",
       "<svg />\n",
       "\n",
       "<script>\n",
       "var dataset = [ 5, 10, 15, 20, 25 ];\n",
       "w = 500\n",
       "h = 100\n",
       "var svg = d3.select148(\"svg\")\n",
       "    .attr(\"width\", w)\n",
       "    .attr(\"height\", h);\n",
       "    \n",
       "var circles = svg.selectAll(\"circle\")\n",
       "    .data(dataset)\n",
       "    .enter()\n",
       "    .append(\"circle\");\n",
       "    \n",
       "circles.attr(\"cx\", function(d, i) {\n",
       "        return (i * 50) + 25;\n",
       "    })\n",
       "   .attr(\"cy\", h/2)\n",
       "   .attr(\"r\", function(d) {\n",
       "        return d;\n",
       "   });\n",
       "</script>\n",
       "</g>"
      ],
      "text/plain": [
       "<IPython.core.display.HTML object>"
      ]
     },
     "metadata": {},
     "output_type": "display_data"
    }
   ],
   "source": [
    "%%d3\n",
    "\n",
    "<svg />\n",
    "\n",
    "<script>\n",
    "var dataset = [ 5, 10, 15, 20, 25 ];\n",
    "w = 500\n",
    "h = 100\n",
    "var svg = d3.select(\"svg\")\n",
    "    .attr(\"width\", w)\n",
    "    .attr(\"height\", h);\n",
    "    \n",
    "var circles = svg.selectAll(\"circle\")\n",
    "    .data(dataset)\n",
    "    .enter()\n",
    "    .append(\"circle\");\n",
    "    \n",
    "circles.attr(\"cx\", function(d, i) {\n",
    "        return (i * 50) + 25;\n",
    "    })\n",
    "   .attr(\"cy\", h/2)\n",
    "   .attr(\"r\", function(d) {\n",
    "        return d;\n",
    "   });\n",
    "</script>"
   ]
  },
  {
   "cell_type": "code",
   "execution_count": 262,
   "metadata": {},
   "outputs": [
    {
     "data": {
      "text/html": [
       "\n",
       "<script>\n",
       "requirejs.config({\n",
       "    paths: {\n",
       "        d3: \"//cdnjs.cloudflare.com/ajax/libs/d3/3.5.17/d3\"\n",
       "    }\n",
       "});\n",
       "\n",
       "require(['d3'], function(d3) {\n",
       "    window.d3 = d3;\n",
       "});\n",
       "</script>\n",
       "<script>\n",
       "_select = d3.select;\n",
       "\n",
       "d3.select167 = function(selection) {\n",
       "    return _select(\"#d3-cell-167\").select(selection);\n",
       "}\n",
       "d3.selectAll167 = function(selection) {\n",
       "    return _select(\"#d3-cell-167\").selectAll(selection);\n",
       "}\n",
       "</script>\n",
       "<g id=\"d3-cell-167\">\n",
       "\n",
       "<g></g>\n",
       "\n",
       "<script>\n",
       "var fruta = {\n",
       "    tipo: \"uva\",\n",
       "    color: \"rojo\",\n",
       "    cantidad: 12,\n",
       "    dulce: true\n",
       "};\n",
       "//d3.select167(\"g\").text(JSON.stringify(fruta))\n",
       "d3.select167(\"g\").text(JSON.stringify(fruta, null, 1))\n",
       "</script>\n",
       "</g>"
      ],
      "text/plain": [
       "<IPython.core.display.HTML object>"
      ]
     },
     "metadata": {},
     "output_type": "display_data"
    }
   ],
   "source": [
    "%%d3\n",
    "\n",
    "<g></g>\n",
    "\n",
    "<script>\n",
    "var fruta = {\n",
    "    tipo: \"uva\",\n",
    "    color: \"rojo\",\n",
    "    cantidad: 12,\n",
    "    dulce: true\n",
    "};\n",
    "d3.select(\"g\").text(JSON.stringify(fruta))\n",
    "</script>"
   ]
  }
 ],
 "metadata": {
  "kernelspec": {
   "display_name": "Python [default]",
   "language": "python",
   "name": "python3"
  },
  "language_info": {
   "codemirror_mode": {
    "name": "ipython",
    "version": 3
   },
   "file_extension": ".py",
   "mimetype": "text/x-python",
   "name": "python",
   "nbconvert_exporter": "python",
   "pygments_lexer": "ipython3",
   "version": "3.5.3"
  }
 },
 "nbformat": 4,
 "nbformat_minor": 2
}
