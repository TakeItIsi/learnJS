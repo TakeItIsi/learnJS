{
 "cells": [
  {
   "cell_type": "markdown",
   "metadata": {},
   "source": [
    "# SPARLQ Query using js"
   ]
  },
  {
   "cell_type": "markdown",
   "metadata": {},
   "source": [
    "Query:\n",
    "[Source](https://stackoverflow.com/questions/22769701/how-to-query-dbpedia-in-javascript)\n",
    "\n",
    "Dictionary keys programatically:\n",
    "[Source](https://stackoverflow.com/questions/3298477/get-first-key-from-javascript-object)\n"
   ]
  },
  {
   "cell_type": "markdown",
   "metadata": {},
   "source": [
    "## Testing"
   ]
  },
  {
   "cell_type": "code",
   "execution_count": 36,
   "metadata": {},
   "outputs": [
    {
     "data": {
      "text/html": [
       "\n",
       "<script src=\"http://ajax.googleapis.com/ajax/libs/jquery/1.11.0/jquery.min.js\"></script>\n",
       "\n",
       "<script type=\"text/javascript\">\n",
       "    var url = \"https://sparql.n13.degu.cl/sparql\";\n",
       "    var query = \"SELECT * WHERE { ?s ?p ?o } LIMIT 5\";\n",
       "    var queryUrl = encodeURI(url + \"?query=\" + query + \"&format=json\");\n",
       "    \n",
       "    $.ajax({ \n",
       "        dataType: \"jsonp\",\n",
       "        url: queryUrl,\n",
       "        success: function (_data) {\n",
       "            console.log(_data.results.bindings);\n",
       "        }\n",
       "    });\n",
       "</script>"
      ],
      "text/plain": [
       "<IPython.core.display.HTML object>"
      ]
     },
     "metadata": {},
     "output_type": "display_data"
    }
   ],
   "source": [
    "%%html\n",
    "\n",
    "<script src=\"http://ajax.googleapis.com/ajax/libs/jquery/1.11.0/jquery.min.js\"></script>\n",
    "\n",
    "<script type=\"text/javascript\">\n",
    "    var url = \"https://sparql.n13.degu.cl/sparql\";\n",
    "    var query = \"SELECT * WHERE { ?s ?p ?o } LIMIT 5\";\n",
    "    var queryUrl = encodeURI(url + \"?query=\" + query + \"&format=json\");\n",
    "    \n",
    "    $.ajax({ \n",
    "        dataType: \"jsonp\",\n",
    "        url: queryUrl,\n",
    "        success: function (_data) {\n",
    "            console.log(_data.results.bindings);\n",
    "        }\n",
    "    });\n",
    "</script>"
   ]
  },
  {
   "cell_type": "markdown",
   "metadata": {},
   "source": [
    "## En Cell"
   ]
  },
  {
   "cell_type": "code",
   "execution_count": 37,
   "metadata": {},
   "outputs": [
    {
     "data": {
      "text/html": [
       "\n",
       "<p id=\"p1\">\n",
       "\n",
       "<script src=\"http://ajax.googleapis.com/ajax/libs/jquery/1.11.0/jquery.min.js\"></script>\n",
       "\n",
       "<script type=\"text/javascript\">\n",
       "    var url = \"https://sparql.n13.degu.cl/sparql\";\n",
       "    var query = \"SELECT * WHERE { ?s ?p ?o } LIMIT 5\";\n",
       "    var queryUrl = encodeURI(url + \"?query=\" + query + \"&format=json\");\n",
       "    \n",
       "    \n",
       "    $.ajax({ \n",
       "        dataType: \"jsonp\",\n",
       "        url: queryUrl,\n",
       "        success: function (_data) {\n",
       "            document.getElementById(\"p1\").appendChild(document.createTextNode(_data.results.bindings));\n",
       "        }\n",
       "    });\n",
       "</script>"
      ],
      "text/plain": [
       "<IPython.core.display.HTML object>"
      ]
     },
     "metadata": {},
     "output_type": "display_data"
    }
   ],
   "source": [
    "%%html\n",
    "\n",
    "<p id=\"p1\">\n",
    "\n",
    "<script src=\"http://ajax.googleapis.com/ajax/libs/jquery/1.11.0/jquery.min.js\"></script>\n",
    "\n",
    "<script type=\"text/javascript\">\n",
    "    var url = \"https://sparql.n13.degu.cl/sparql\";\n",
    "    var query = \"SELECT * WHERE { ?s ?p ?o } LIMIT 5\";\n",
    "    var queryUrl = encodeURI(url + \"?query=\" + query + \"&format=json\");\n",
    "    \n",
    "    \n",
    "    $.ajax({ \n",
    "        dataType: \"jsonp\",\n",
    "        url: queryUrl,\n",
    "        success: function (_data) {\n",
    "            document.getElementById(\"p1\").appendChild(document.createTextNode(_data.results.bindings));\n",
    "        }\n",
    "    });\n",
    "</script>\n"
   ]
  },
  {
   "cell_type": "markdown",
   "metadata": {},
   "source": [
    "## Results"
   ]
  },
  {
   "cell_type": "code",
   "execution_count": 38,
   "metadata": {},
   "outputs": [
    {
     "data": {
      "text/html": [
       "\n",
       "<p id=\"p2\">\n",
       "\n",
       "<script src=\"http://ajax.googleapis.com/ajax/libs/jquery/1.11.0/jquery.min.js\"></script>\n",
       "\n",
       "<script type=\"text/javascript\">\n",
       "    var url = \"https://sparql.n13.degu.cl/sparql\";\n",
       "    var query = \"SELECT * WHERE { ?s ?p ?o } LIMIT 5\";\n",
       "    var queryUrl = encodeURI(url + \"?query=\" + query + \"&format=json\");\n",
       "    \n",
       "    $.ajax({ \n",
       "        dataType: \"jsonp\",\n",
       "        url: queryUrl,\n",
       "        success: function (_data) {\n",
       "            var results = _data.results.bindings;\n",
       "            for (var i in results) {\n",
       "                console.log(results[i])\n",
       "                document.getElementById(\"p2\").appendChild(document.createTextNode(results[i]));\n",
       "            }\n",
       "        }\n",
       "    });\n",
       "</script>"
      ],
      "text/plain": [
       "<IPython.core.display.HTML object>"
      ]
     },
     "metadata": {},
     "output_type": "display_data"
    }
   ],
   "source": [
    "%%html\n",
    "\n",
    "<p id=\"p2\">\n",
    "\n",
    "<script src=\"http://ajax.googleapis.com/ajax/libs/jquery/1.11.0/jquery.min.js\"></script>\n",
    "\n",
    "<script type=\"text/javascript\">\n",
    "    var url = \"https://sparql.n13.degu.cl/sparql\";\n",
    "    var query = \"SELECT * WHERE { ?s ?p ?o } LIMIT 5\";\n",
    "    var queryUrl = encodeURI(url + \"?query=\" + query + \"&format=json\");\n",
    "    \n",
    "    $.ajax({ \n",
    "        dataType: \"jsonp\",\n",
    "        url: queryUrl,\n",
    "        success: function (_data) {\n",
    "            var results = _data.results.bindings;\n",
    "            for (var i in results) {\n",
    "                console.log(results[i])\n",
    "                document.getElementById(\"p2\").appendChild(document.createTextNode(results[i]));\n",
    "            }\n",
    "        }\n",
    "    });\n",
    "</script>"
   ]
  },
  {
   "cell_type": "markdown",
   "metadata": {},
   "source": [
    "# ?s ?p ?o\n",
    "Agregar `.value`, `<p>` y `<br>`"
   ]
  },
  {
   "cell_type": "code",
   "execution_count": 39,
   "metadata": {},
   "outputs": [
    {
     "data": {
      "text/html": [
       "\n",
       "<p id=\"p3\">\n",
       "\n",
       "<script src=\"http://ajax.googleapis.com/ajax/libs/jquery/1.11.0/jquery.min.js\"></script>\n",
       "\n",
       "<script type=\"text/javascript\">\n",
       "    var url = \"https://sparql.n13.degu.cl/sparql\";\n",
       "    var query = \"SELECT * WHERE { ?s ?p ?o } LIMIT 5\";\n",
       "    var queryUrl = encodeURI(url + \"?query=\" + query + \"&format=json\");\n",
       "    \n",
       "    $.ajax({ \n",
       "        dataType: \"jsonp\",\n",
       "        url: queryUrl,\n",
       "        success: function (_data) {\n",
       "            var results = _data.results.bindings;\n",
       "            for (var i in results) {\n",
       "                var res = results[i];\n",
       "                keys = Object.keys(res);\n",
       "                for (var j in keys) {\n",
       "                    document.getElementById(\"p3\").appendChild(document.createTextNode(res[keys[j]].value));\n",
       "                    document.getElementById(\"p3\").appendChild(document.createElement(\"br\"));\n",
       "                }\n",
       "                document.getElementById(\"p3\").appendChild(document.createElement(\"p\"));\n",
       "            }\n",
       "        }\n",
       "    });\n",
       "</script>"
      ],
      "text/plain": [
       "<IPython.core.display.HTML object>"
      ]
     },
     "metadata": {},
     "output_type": "display_data"
    }
   ],
   "source": [
    "%%html\n",
    "\n",
    "<p id=\"p3\">\n",
    "\n",
    "<script src=\"http://ajax.googleapis.com/ajax/libs/jquery/1.11.0/jquery.min.js\"></script>\n",
    "\n",
    "<script type=\"text/javascript\">\n",
    "    var url = \"https://sparql.n13.degu.cl/sparql\";\n",
    "    var query = \"SELECT * WHERE { ?s ?p ?o } LIMIT 5\";\n",
    "    var queryUrl = encodeURI(url + \"?query=\" + query + \"&format=json\");\n",
    "    \n",
    "    $.ajax({ \n",
    "        dataType: \"jsonp\",\n",
    "        url: queryUrl,\n",
    "        success: function (_data) {\n",
    "            var results = _data.results.bindings;\n",
    "            for (var i in results) {\n",
    "                var res = results[i];\n",
    "                keys = Object.keys(res);\n",
    "                for (var j in keys) {\n",
    "                    document.getElementById(\"p3\").appendChild(document.createTextNode(res[keys[j]].value));\n",
    "                    document.getElementById(\"p3\").appendChild(document.createElement(\"br\"));\n",
    "                }\n",
    "                document.getElementById(\"p3\").appendChild(document.createElement(\"p\"));\n",
    "            }\n",
    "        }\n",
    "    });\n",
    "</script>"
   ]
  },
  {
   "cell_type": "code",
   "execution_count": null,
   "metadata": {},
   "outputs": [],
   "source": []
  },
  {
   "cell_type": "code",
   "execution_count": null,
   "metadata": {},
   "outputs": [],
   "source": []
  }
 ],
 "metadata": {
  "kernelspec": {
   "display_name": "Python 3",
   "language": "python",
   "name": "python3"
  },
  "language_info": {
   "codemirror_mode": {
    "name": "ipython",
    "version": 3
   },
   "file_extension": ".py",
   "mimetype": "text/x-python",
   "name": "python",
   "nbconvert_exporter": "python",
   "pygments_lexer": "ipython3",
   "version": "3.6.3"
  }
 },
 "nbformat": 4,
 "nbformat_minor": 2
}
