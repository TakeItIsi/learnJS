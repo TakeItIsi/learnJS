{
 "cells": [
  {
   "cell_type": "code",
   "execution_count": 57,
   "metadata": {
    "collapsed": true
   },
   "outputs": [],
   "source": [
    "import py_d3"
   ]
  },
  {
   "cell_type": "code",
   "execution_count": 58,
   "metadata": {
    "collapsed": true
   },
   "outputs": [],
   "source": [
    "%reload_ext py_d3"
   ]
  },
  {
   "cell_type": "code",
   "execution_count": 60,
   "metadata": {},
   "outputs": [
    {
     "data": {
      "text/html": [
       "\n",
       "<script>\n",
       "requirejs.config({\n",
       "    paths: {\n",
       "        d3: \"//cdnjs.cloudflare.com/ajax/libs/d3/3.5.17/d3\"\n",
       "    }\n",
       "});\n",
       "\n",
       "require(['d3'], function(d3) {\n",
       "    window.d3 = d3;\n",
       "});\n",
       "</script>\n",
       "<script>\n",
       "_select = d3.select;\n",
       "\n",
       "d3.select1 = function(selection) {\n",
       "    return _select(\"#d3-cell-1\").select(selection);\n",
       "}\n",
       "d3.selectAll1 = function(selection) {\n",
       "    return _select(\"#d3-cell-1\").selectAll(selection);\n",
       "}\n",
       "</script>\n",
       "<g id=\"d3-cell-1\">\n",
       "\n",
       "<g />\n",
       "\n",
       "<script>\n",
       "d3.select1(\"g\").text(\"Hello World\");\n",
       "</script>\n",
       "</g>"
      ],
      "text/plain": [
       "<IPython.core.display.HTML object>"
      ]
     },
     "metadata": {},
     "output_type": "display_data"
    }
   ],
   "source": [
    "%%d3\n",
    "\n",
    "<g />\n",
    "\n",
    "<script>\n",
    "d3.select(\"g\").text(\"Hello World\");\n",
    "</script>"
   ]
  },
  {
   "cell_type": "code",
   "execution_count": 61,
   "metadata": {},
   "outputs": [
    {
     "data": {
      "text/html": [
       "\n",
       "<script>\n",
       "requirejs.config({\n",
       "    paths: {\n",
       "        d3: \"//cdnjs.cloudflare.com/ajax/libs/d3/3.5.17/d3\"\n",
       "    }\n",
       "});\n",
       "\n",
       "require(['d3'], function(d3) {\n",
       "    window.d3 = d3;\n",
       "});\n",
       "</script>\n",
       "<script>\n",
       "_select = d3.select;\n",
       "\n",
       "d3.select2 = function(selection) {\n",
       "    return _select(\"#d3-cell-2\").select(selection);\n",
       "}\n",
       "d3.selectAll2 = function(selection) {\n",
       "    return _select(\"#d3-cell-2\").selectAll(selection);\n",
       "}\n",
       "</script>\n",
       "<g id=\"d3-cell-2\">\n",
       "<script type=\"text/javascript\">\n",
       "    alert(\"Hello, world!\");\n",
       "</script>\n",
       "</g>"
      ],
      "text/plain": [
       "<IPython.core.display.HTML object>"
      ]
     },
     "metadata": {},
     "output_type": "display_data"
    }
   ],
   "source": [
    "%%d3\n",
    "<script type=\"text/javascript\">\n",
    "    alert(\"Hello, world!\");\n",
    "</script>"
   ]
  },
  {
   "cell_type": "code",
   "execution_count": 62,
   "metadata": {},
   "outputs": [
    {
     "data": {
      "text/html": [
       "\n",
       "<script>\n",
       "requirejs.config({\n",
       "    paths: {\n",
       "        d3: \"//cdnjs.cloudflare.com/ajax/libs/d3/3.5.17/d3\"\n",
       "    }\n",
       "});\n",
       "\n",
       "require(['d3'], function(d3) {\n",
       "    window.d3 = d3;\n",
       "});\n",
       "</script>\n",
       "<script>\n",
       "_select = d3.select;\n",
       "\n",
       "d3.select3 = function(selection) {\n",
       "    return _select(\"#d3-cell-3\").select(selection);\n",
       "}\n",
       "d3.selectAll3 = function(selection) {\n",
       "    return _select(\"#d3-cell-3\").selectAll(selection);\n",
       "}\n",
       "</script>\n",
       "<g id=\"d3-cell-3\">\n",
       "<svg width=\"50\" height=\"50\">\n",
       "    <circle cx=\"25\" cy=\"25\" r=\"22\"\n",
       "    fill=\"blue\" stroke=\"gray\" stroke-width=\"2\"/>\n",
       "</svg>\n",
       "</g>"
      ],
      "text/plain": [
       "<IPython.core.display.HTML object>"
      ]
     },
     "metadata": {},
     "output_type": "display_data"
    }
   ],
   "source": [
    "%%d3\n",
    "<svg width=\"50\" height=\"50\">\n",
    "    <circle cx=\"25\" cy=\"25\" r=\"22\"\n",
    "    fill=\"blue\" stroke=\"gray\" stroke-width=\"2\"/>\n",
    "</svg>"
   ]
  },
  {
   "cell_type": "code",
   "execution_count": 63,
   "metadata": {},
   "outputs": [
    {
     "data": {
      "text/html": [
       "\n",
       "<script>\n",
       "requirejs.config({\n",
       "    paths: {\n",
       "        d3: \"//cdnjs.cloudflare.com/ajax/libs/d3/3.5.17/d3\"\n",
       "    }\n",
       "});\n",
       "\n",
       "require(['d3'], function(d3) {\n",
       "    window.d3 = d3;\n",
       "});\n",
       "</script>\n",
       "<script>\n",
       "_select = d3.select;\n",
       "\n",
       "d3.select4 = function(selection) {\n",
       "    return _select(\"#d3-cell-4\").select(selection);\n",
       "}\n",
       "d3.selectAll4 = function(selection) {\n",
       "    return _select(\"#d3-cell-4\").selectAll(selection);\n",
       "}\n",
       "</script>\n",
       "<g id=\"d3-cell-4\">\n",
       "<g></g>\n",
       "\n",
       "<script>\n",
       "d3.select4(\"g\")\n",
       "    .append(\"p\")\n",
       "    .text(\"New paragraph!\")\n",
       "    .append(\"p\")\n",
       "    .text(\"New paragraph!\");\n",
       "</script>\n",
       "</g>"
      ],
      "text/plain": [
       "<IPython.core.display.HTML object>"
      ]
     },
     "metadata": {},
     "output_type": "display_data"
    }
   ],
   "source": [
    "%%d3\n",
    "<g></g>\n",
    "\n",
    "<script>\n",
    "d3.select(\"g\")\n",
    "    .append(\"p\")\n",
    "    .text(\"New paragraph!\")\n",
    "    .append(\"p\")\n",
    "    .text(\"New paragraph!\");\n",
    "</script>"
   ]
  },
  {
   "cell_type": "code",
   "execution_count": 64,
   "metadata": {},
   "outputs": [
    {
     "data": {
      "text/html": [
       "\n",
       "<script>\n",
       "requirejs.config({\n",
       "    paths: {\n",
       "        d3: \"//cdnjs.cloudflare.com/ajax/libs/d3/3.5.17/d3\"\n",
       "    }\n",
       "});\n",
       "\n",
       "require(['d3'], function(d3) {\n",
       "    window.d3 = d3;\n",
       "});\n",
       "</script>\n",
       "<script>\n",
       "_select = d3.select;\n",
       "\n",
       "d3.select5 = function(selection) {\n",
       "    return _select(\"#d3-cell-5\").select(selection);\n",
       "}\n",
       "d3.selectAll5 = function(selection) {\n",
       "    return _select(\"#d3-cell-5\").selectAll(selection);\n",
       "}\n",
       "</script>\n",
       "<g id=\"d3-cell-5\">\n",
       "<g></g>\n",
       "\n",
       "<script>\n",
       "var dataset = [ 5, 10, 15, 20, 25];\n",
       "d3.select5(\"g\")\n",
       "    .selectAll(\"p\")\n",
       "    .data(dataset)\n",
       "    .enter()\n",
       "    .append(\"p\")\n",
       "    .text(\"New paragraph!\");\n",
       "console.log(d3.selectAll5(\"p\"));\n",
       "</script>\n",
       "</g>"
      ],
      "text/plain": [
       "<IPython.core.display.HTML object>"
      ]
     },
     "metadata": {},
     "output_type": "display_data"
    }
   ],
   "source": [
    "%%d3\n",
    "<g></g>\n",
    "\n",
    "<script>\n",
    "var dataset = [ 5, 10, 15, 20, 25];\n",
    "d3.select(\"g\")\n",
    "    .selectAll(\"p\")\n",
    "    .data(dataset)\n",
    "    .enter()\n",
    "    .append(\"p\")\n",
    "    .text(\"New paragraph!\");\n",
    "console.log(d3.selectAll(\"p\"));\n",
    "</script>"
   ]
  },
  {
   "cell_type": "code",
   "execution_count": 65,
   "metadata": {},
   "outputs": [
    {
     "data": {
      "text/html": [
       "\n",
       "<script>\n",
       "requirejs.config({\n",
       "    paths: {\n",
       "        d3: \"//cdnjs.cloudflare.com/ajax/libs/d3/3.5.17/d3\"\n",
       "    }\n",
       "});\n",
       "\n",
       "require(['d3'], function(d3) {\n",
       "    window.d3 = d3;\n",
       "});\n",
       "</script>\n",
       "<script>\n",
       "_select = d3.select;\n",
       "\n",
       "d3.select6 = function(selection) {\n",
       "    return _select(\"#d3-cell-6\").select(selection);\n",
       "}\n",
       "d3.selectAll6 = function(selection) {\n",
       "    return _select(\"#d3-cell-6\").selectAll(selection);\n",
       "}\n",
       "</script>\n",
       "<g id=\"d3-cell-6\">\n",
       "<g />\n",
       "\n",
       "<script>\n",
       "var dataset = [ 5, 10, 15, 20, 25];\n",
       "d3.select6(\"g\")\n",
       "    .selectAll(\"p\")\n",
       "    .data(dataset)\n",
       "    .enter()\n",
       "    .append(\"p\")\n",
       "    .text(function(d) { return \"asd: \" + d; });\n",
       "console.log(d3.selectAll6(\"p\"));\n",
       "alert(\"dataset[3]: \" + dataset[3]);\n",
       "</script>\n",
       "</g>"
      ],
      "text/plain": [
       "<IPython.core.display.HTML object>"
      ]
     },
     "metadata": {},
     "output_type": "display_data"
    }
   ],
   "source": [
    "%%d3\n",
    "<g />\n",
    "\n",
    "<script>\n",
    "var dataset = [ 5, 10, 15, 20, 25];\n",
    "d3.select(\"g\")\n",
    "    .selectAll(\"p\")\n",
    "    .data(dataset)\n",
    "    .enter()\n",
    "    .append(\"p\")\n",
    "    .text(function(d) { return \"asd: \" + d; });\n",
    "console.log(d3.selectAll(\"p\"));\n",
    "alert(\"dataset[3]: \" + dataset[3]);\n",
    "</script>"
   ]
  },
  {
   "cell_type": "code",
   "execution_count": 66,
   "metadata": {},
   "outputs": [
    {
     "data": {
      "text/html": [
       "\n",
       "<script>\n",
       "requirejs.config({\n",
       "    paths: {\n",
       "        d3: \"//cdnjs.cloudflare.com/ajax/libs/d3/3.5.17/d3\"\n",
       "    }\n",
       "});\n",
       "\n",
       "require(['d3'], function(d3) {\n",
       "    window.d3 = d3;\n",
       "});\n",
       "</script>\n",
       "<script>\n",
       "_select = d3.select;\n",
       "\n",
       "d3.select7 = function(selection) {\n",
       "    return _select(\"#d3-cell-7\").select(selection);\n",
       "}\n",
       "d3.selectAll7 = function(selection) {\n",
       "    return _select(\"#d3-cell-7\").selectAll(selection);\n",
       "}\n",
       "</script>\n",
       "<g id=\"d3-cell-7\">\n",
       "\n",
       "<g />\n",
       "\n",
       "<script>\n",
       "d3.select7(\"g\")\n",
       "    .text(\"Hello World\")\n",
       "    .style(\"color\",\"#ff00ff\");\n",
       "</script>\n",
       "</g>"
      ],
      "text/plain": [
       "<IPython.core.display.HTML object>"
      ]
     },
     "metadata": {},
     "output_type": "display_data"
    }
   ],
   "source": [
    "%%d3\n",
    "\n",
    "<g />\n",
    "\n",
    "<script>\n",
    "d3.select(\"g\")\n",
    "    .text(\"Hello World\")\n",
    "    .style(\"color\",\"#ff00ff\");\n",
    "</script>"
   ]
  },
  {
   "cell_type": "code",
   "execution_count": 67,
   "metadata": {},
   "outputs": [
    {
     "data": {
      "text/html": [
       "\n",
       "<script>\n",
       "requirejs.config({\n",
       "    paths: {\n",
       "        d3: \"//cdnjs.cloudflare.com/ajax/libs/d3/3.5.17/d3\"\n",
       "    }\n",
       "});\n",
       "\n",
       "require(['d3'], function(d3) {\n",
       "    window.d3 = d3;\n",
       "});\n",
       "</script>\n",
       "<script>\n",
       "_select = d3.select;\n",
       "\n",
       "d3.select8 = function(selection) {\n",
       "    return _select(\"#d3-cell-8\").select(selection);\n",
       "}\n",
       "d3.selectAll8 = function(selection) {\n",
       "    return _select(\"#d3-cell-8\").selectAll(selection);\n",
       "}\n",
       "</script>\n",
       "<g id=\"d3-cell-8\">\n",
       "\n",
       "<g />\n",
       "\n",
       "<script>\n",
       "var dataset = [ 5, 10, 15, 20, 25];\n",
       "d3.select8(\"g\")\n",
       "    .selectAll(\"p\")\n",
       "    .data(dataset)\n",
       "    .enter()\n",
       "    .append(\"p\")\n",
       "    .text(function(d) { return \"asd: \" + d; })\n",
       "    .style(\"color\", function(d) {\n",
       "        if (d % 2 == 0) {\n",
       "            return \"red\";\n",
       "        } else {\n",
       "        return \"blue\";\n",
       "        }\n",
       "    });;\n",
       "</script>\n",
       "</g>"
      ],
      "text/plain": [
       "<IPython.core.display.HTML object>"
      ]
     },
     "metadata": {},
     "output_type": "display_data"
    }
   ],
   "source": [
    "%%d3\n",
    "\n",
    "<g />\n",
    "\n",
    "<script>\n",
    "var dataset = [ 5, 10, 15, 20, 25];\n",
    "d3.select(\"g\")\n",
    "    .selectAll(\"p\")\n",
    "    .data(dataset)\n",
    "    .enter()\n",
    "    .append(\"p\")\n",
    "    .text(function(d) { return \"asd: \" + d; })\n",
    "    .style(\"color\", function(d) {\n",
    "        if (d % 2 == 0) {\n",
    "            return \"red\";\n",
    "        } else {\n",
    "        return \"blue\";\n",
    "        }\n",
    "    });;\n",
    "</script>"
   ]
  },
  {
   "cell_type": "code",
   "execution_count": 68,
   "metadata": {},
   "outputs": [
    {
     "data": {
      "text/html": [
       "\n",
       "<script>\n",
       "requirejs.config({\n",
       "    paths: {\n",
       "        d3: \"//cdnjs.cloudflare.com/ajax/libs/d3/3.5.17/d3\"\n",
       "    }\n",
       "});\n",
       "\n",
       "require(['d3'], function(d3) {\n",
       "    window.d3 = d3;\n",
       "});\n",
       "</script>\n",
       "<script>\n",
       "_select = d3.select;\n",
       "\n",
       "d3.select9 = function(selection) {\n",
       "    return _select(\"#d3-cell-9\").select(selection);\n",
       "}\n",
       "d3.selectAll9 = function(selection) {\n",
       "    return _select(\"#d3-cell-9\").selectAll(selection);\n",
       "}\n",
       "</script>\n",
       "<g id=\"d3-cell-9\">\n",
       "\n",
       "<g />\n",
       "\n",
       "<script>\n",
       "var dataset = \"HelloWorld\";\n",
       "var i = 0;\n",
       "d3.select9(\"g\")\n",
       "    .selectAll(\"p\")\n",
       "    .data(dataset)\n",
       "    .enter()\n",
       "    .append(\"a\")\n",
       "    .text(function(d) { return d + \" \"; })\n",
       "    .style(\"color\", function(d) {\n",
       "        if (i % 2 == 0) {\n",
       "            i = i + 1;\n",
       "            return \"red\";\n",
       "        } else {\n",
       "            i = i + 1;\n",
       "            return \"blue\";\n",
       "        }\n",
       "    });;\n",
       "</script>\n",
       "</g>"
      ],
      "text/plain": [
       "<IPython.core.display.HTML object>"
      ]
     },
     "metadata": {},
     "output_type": "display_data"
    }
   ],
   "source": [
    "%%d3\n",
    "\n",
    "<g />\n",
    "\n",
    "<script>\n",
    "var dataset = \"HelloWorld\";\n",
    "var i = 0;\n",
    "d3.select(\"g\")\n",
    "    .selectAll(\"p\")\n",
    "    .data(dataset)\n",
    "    .enter()\n",
    "    .append(\"a\")\n",
    "    .text(function(d) { return d + \" \"; })\n",
    "    .style(\"color\", function(d) {\n",
    "        if (i % 2 == 0) {\n",
    "            i = i + 1;\n",
    "            return \"red\";\n",
    "        } else {\n",
    "            i = i + 1;\n",
    "            return \"blue\";\n",
    "        }\n",
    "    });;\n",
    "</script>"
   ]
  },
  {
   "cell_type": "code",
   "execution_count": 69,
   "metadata": {},
   "outputs": [
    {
     "data": {
      "text/html": [
       "\n",
       "<script>\n",
       "requirejs.config({\n",
       "    paths: {\n",
       "        d3: \"//cdnjs.cloudflare.com/ajax/libs/d3/3.5.17/d3\"\n",
       "    }\n",
       "});\n",
       "\n",
       "require(['d3'], function(d3) {\n",
       "    window.d3 = d3;\n",
       "});\n",
       "</script>\n",
       "<script>\n",
       "_select = d3.select;\n",
       "\n",
       "d3.select10 = function(selection) {\n",
       "    return _select(\"#d3-cell-10\").select(selection);\n",
       "}\n",
       "d3.selectAll10 = function(selection) {\n",
       "    return _select(\"#d3-cell-10\").selectAll(selection);\n",
       "}\n",
       "</script>\n",
       "<g id=\"d3-cell-10\">\n",
       "\n",
       "<div style=\"display: inline-block; \n",
       "        width: 20px;\n",
       "        height: 75px;\n",
       "        background-color: teal;\"></div>\n",
       "</g>"
      ],
      "text/plain": [
       "<IPython.core.display.HTML object>"
      ]
     },
     "metadata": {},
     "output_type": "display_data"
    }
   ],
   "source": [
    "%%d3\n",
    "\n",
    "<div style=\"display: inline-block; \n",
    "        width: 20px;\n",
    "        height: 75px;\n",
    "        background-color: teal;\"></div>"
   ]
  },
  {
   "cell_type": "code",
   "execution_count": 70,
   "metadata": {},
   "outputs": [
    {
     "data": {
      "text/html": [
       "\n",
       "<script>\n",
       "requirejs.config({\n",
       "    paths: {\n",
       "        d3: \"//cdnjs.cloudflare.com/ajax/libs/d3/3.5.17/d3\"\n",
       "    }\n",
       "});\n",
       "\n",
       "require(['d3'], function(d3) {\n",
       "    window.d3 = d3;\n",
       "});\n",
       "</script>\n",
       "<script>\n",
       "_select = d3.select;\n",
       "\n",
       "d3.select11 = function(selection) {\n",
       "    return _select(\"#d3-cell-11\").select(selection);\n",
       "}\n",
       "d3.selectAll11 = function(selection) {\n",
       "    return _select(\"#d3-cell-11\").selectAll(selection);\n",
       "}\n",
       "</script>\n",
       "<g id=\"d3-cell-11\">\n",
       "\n",
       "<style>\n",
       "div.bar1 {\n",
       "    display: inline-block;\n",
       "    width: 20px;\n",
       "    height: 75px;   /* Esto se cambiará próximamente */\n",
       "    background-color: teal;\n",
       "}\n",
       "</style>\n",
       "\n",
       "<div class=\"bar1\"></div>\n",
       "</g>"
      ],
      "text/plain": [
       "<IPython.core.display.HTML object>"
      ]
     },
     "metadata": {},
     "output_type": "display_data"
    }
   ],
   "source": [
    "%%d3\n",
    "\n",
    "<style>\n",
    "div.bar1 {\n",
    "    display: inline-block;\n",
    "    width: 20px;\n",
    "    height: 75px;   /* Esto se cambiará próximamente */\n",
    "    background-color: teal;\n",
    "}\n",
    "</style>\n",
    "\n",
    "<div class=\"bar1\"></div>"
   ]
  },
  {
   "cell_type": "code",
   "execution_count": 71,
   "metadata": {},
   "outputs": [
    {
     "data": {
      "text/html": [
       "\n",
       "<script>\n",
       "requirejs.config({\n",
       "    paths: {\n",
       "        d3: \"//cdnjs.cloudflare.com/ajax/libs/d3/3.5.17/d3\"\n",
       "    }\n",
       "});\n",
       "\n",
       "require(['d3'], function(d3) {\n",
       "    window.d3 = d3;\n",
       "});\n",
       "</script>\n",
       "<script>\n",
       "_select = d3.select;\n",
       "\n",
       "d3.select12 = function(selection) {\n",
       "    return _select(\"#d3-cell-12\").select(selection);\n",
       "}\n",
       "d3.selectAll12 = function(selection) {\n",
       "    return _select(\"#d3-cell-12\").selectAll(selection);\n",
       "}\n",
       "</script>\n",
       "<g id=\"d3-cell-12\">\n",
       "\n",
       "<style>\n",
       "div.bar2 {\n",
       "    display: inline-block;\n",
       "    width: 20px;\n",
       "    height: 75px;   /* Esto se cambiará próximamente */\n",
       "    background-color: teal;\n",
       "}\n",
       "</style>\n",
       "\n",
       "<div />\n",
       "\n",
       "<script>\n",
       "    d3.select12(\"div\")\n",
       "        .attr(\"class\", \"bar2\")\n",
       "</script>\n",
       "</g>"
      ],
      "text/plain": [
       "<IPython.core.display.HTML object>"
      ]
     },
     "metadata": {},
     "output_type": "display_data"
    }
   ],
   "source": [
    "%%d3\n",
    "\n",
    "<style>\n",
    "div.bar2 {\n",
    "    display: inline-block;\n",
    "    width: 20px;\n",
    "    height: 75px;   /* Esto se cambiará próximamente */\n",
    "    background-color: teal;\n",
    "}\n",
    "</style>\n",
    "\n",
    "<div />\n",
    "\n",
    "<script>\n",
    "    d3.select(\"div\")\n",
    "        .attr(\"class\", \"bar2\")\n",
    "</script>"
   ]
  },
  {
   "cell_type": "code",
   "execution_count": 72,
   "metadata": {},
   "outputs": [
    {
     "data": {
      "text/html": [
       "\n",
       "<script>\n",
       "requirejs.config({\n",
       "    paths: {\n",
       "        d3: \"//cdnjs.cloudflare.com/ajax/libs/d3/3.5.17/d3\"\n",
       "    }\n",
       "});\n",
       "\n",
       "require(['d3'], function(d3) {\n",
       "    window.d3 = d3;\n",
       "});\n",
       "</script>\n",
       "<script>\n",
       "_select = d3.select;\n",
       "\n",
       "d3.select13 = function(selection) {\n",
       "    return _select(\"#d3-cell-13\").select(selection);\n",
       "}\n",
       "d3.selectAll13 = function(selection) {\n",
       "    return _select(\"#d3-cell-13\").selectAll(selection);\n",
       "}\n",
       "</script>\n",
       "<g id=\"d3-cell-13\">\n",
       "\n",
       "<style>\n",
       "div.bar3 {\n",
       "    display: inline-block;\n",
       "    width: 20px;\n",
       "    height: 75px;   /* Esto se cambiará próximamente */\n",
       "    background-color: teal;\n",
       "    margin-right: 2px;\n",
       "}\n",
       "</style>\n",
       "\n",
       "<g />\n",
       "\n",
       "<script>\n",
       "    var dataset = [ 25, 7, 5, 26, 11 ];\n",
       "    d3.select13(\"g\")\n",
       "        .selectAll(\"div\")\n",
       "        .data(dataset)\n",
       "        .enter()\n",
       "        .append(\"div\")\n",
       "        .attr(\"class\", \"bar3\")\n",
       "        .style(\"height\", function(d) {\n",
       "            return d*5+\"px\";})    \n",
       "</script>\n",
       "</g>"
      ],
      "text/plain": [
       "<IPython.core.display.HTML object>"
      ]
     },
     "metadata": {},
     "output_type": "display_data"
    }
   ],
   "source": [
    "%%d3\n",
    "\n",
    "<style>\n",
    "div.bar3 {\n",
    "    display: inline-block;\n",
    "    width: 20px;\n",
    "    height: 75px;   /* Esto se cambiará próximamente */\n",
    "    background-color: teal;\n",
    "    margin-right: 2px;\n",
    "}\n",
    "</style>\n",
    "\n",
    "<g />\n",
    "\n",
    "<script>\n",
    "    var dataset = [ 25, 7, 5, 26, 11 ];\n",
    "    d3.select(\"g\")\n",
    "        .selectAll(\"div\")\n",
    "        .data(dataset)\n",
    "        .enter()\n",
    "        .append(\"div\")\n",
    "        .attr(\"class\", \"bar3\")\n",
    "        .style(\"height\", function(d) {\n",
    "            return d*5+\"px\";})    \n",
    "</script>\n"
   ]
  },
  {
   "cell_type": "code",
   "execution_count": 73,
   "metadata": {
    "scrolled": false
   },
   "outputs": [
    {
     "data": {
      "text/html": [
       "\n",
       "<script>\n",
       "requirejs.config({\n",
       "    paths: {\n",
       "        d3: \"//cdnjs.cloudflare.com/ajax/libs/d3/3.5.17/d3\"\n",
       "    }\n",
       "});\n",
       "\n",
       "require(['d3'], function(d3) {\n",
       "    window.d3 = d3;\n",
       "});\n",
       "</script>\n",
       "<script>\n",
       "_select = d3.select;\n",
       "\n",
       "d3.select14 = function(selection) {\n",
       "    return _select(\"#d3-cell-14\").select(selection);\n",
       "}\n",
       "d3.selectAll14 = function(selection) {\n",
       "    return _select(\"#d3-cell-14\").selectAll(selection);\n",
       "}\n",
       "</script>\n",
       "<g id=\"d3-cell-14\">\n",
       "\n",
       "<style>\n",
       "div.bar4 {\n",
       "    display: inline-block;\n",
       "    width: 1%;\n",
       "    height: 75px;   /* Esto se cambiará próximamente */\n",
       "    background-color: teal;\n",
       "    margin-right: 2px;\n",
       "}\n",
       "</style>\n",
       "\n",
       "<g />\n",
       "\n",
       "<script>\n",
       "    var dataset = [ ];\n",
       "    \n",
       "     for (var i = 0; i < 70; i++) {\n",
       "         var newNumber = Math.round(Math.random() * 30);\n",
       "         dataset.push(newNumber);\n",
       "     }\n",
       "        \n",
       "    console.log(dataset);\n",
       "    \n",
       "    d3.select14(\"g\")\n",
       "        .selectAll(\"div\")\n",
       "        .data(dataset)\n",
       "        .enter()\n",
       "        .append(\"div\")\n",
       "        .attr(\"class\", \"bar4\")\n",
       "        .style(\"height\", function(d) {\n",
       "            return d*5+\"px\";})    \n",
       "</script>\n",
       "</g>"
      ],
      "text/plain": [
       "<IPython.core.display.HTML object>"
      ]
     },
     "metadata": {},
     "output_type": "display_data"
    }
   ],
   "source": [
    "%%d3\n",
    "\n",
    "<style>\n",
    "div.bar4 {\n",
    "    display: inline-block;\n",
    "    width: 1%;\n",
    "    height: 75px;   /* Esto se cambiará próximamente */\n",
    "    background-color: teal;\n",
    "    margin-right: 2px;\n",
    "}\n",
    "</style>\n",
    "\n",
    "<g />\n",
    "\n",
    "<script>\n",
    "    var dataset = [ ];\n",
    "    \n",
    "     for (var i = 0; i < 70; i++) {\n",
    "         var newNumber = Math.round(Math.random() * 30);\n",
    "         dataset.push(newNumber);\n",
    "     }\n",
    "        \n",
    "    console.log(dataset);\n",
    "    \n",
    "    d3.select(\"g\")\n",
    "        .selectAll(\"div\")\n",
    "        .data(dataset)\n",
    "        .enter()\n",
    "        .append(\"div\")\n",
    "        .attr(\"class\", \"bar4\")\n",
    "        .style(\"height\", function(d) {\n",
    "            return d*5+\"px\";})    \n",
    "</script>\n"
   ]
  },
  {
   "cell_type": "code",
   "execution_count": 74,
   "metadata": {},
   "outputs": [
    {
     "data": {
      "text/html": [
       "\n",
       "<script>\n",
       "requirejs.config({\n",
       "    paths: {\n",
       "        d3: \"//cdnjs.cloudflare.com/ajax/libs/d3/3.5.17/d3\"\n",
       "    }\n",
       "});\n",
       "\n",
       "require(['d3'], function(d3) {\n",
       "    window.d3 = d3;\n",
       "});\n",
       "</script>\n",
       "<script>\n",
       "_select = d3.select;\n",
       "\n",
       "d3.select15 = function(selection) {\n",
       "    return _select(\"#d3-cell-15\").select(selection);\n",
       "}\n",
       "d3.selectAll15 = function(selection) {\n",
       "    return _select(\"#d3-cell-15\").selectAll(selection);\n",
       "}\n",
       "</script>\n",
       "<g id=\"d3-cell-15\">\n",
       "<svg width = 500 height =500>\n",
       "    <circle cx=200 cy=200 r=127 \n",
       "        fill=red stroke=black stroke-width=4/>\n",
       "    <ellipse cx=250 cy=25 rx=100 ry=25/>\n",
       "    <rect x=0 y=400 width=500 height=50 \n",
       "        fill=blue stroke-width=4 stroke=black/>\n",
       "    <line x1=\"\" y1=\"300\" x2=\"500\" y2=\"50\" stroke=\"purple\"/>\n",
       "    \n",
       "    <text x=\"250\" y=\"25\" font-family=\"sans-serif\"\n",
       "        font-size=\"25\" fill=\"gray\">Easy-peasy</text>\n",
       "</svg>\n",
       "</g>"
      ],
      "text/plain": [
       "<IPython.core.display.HTML object>"
      ]
     },
     "metadata": {},
     "output_type": "display_data"
    }
   ],
   "source": [
    "%%d3\n",
    "<svg width = 500 height =500>\n",
    "    <circle cx=200 cy=200 r=127 \n",
    "        fill=red stroke=black stroke-width=4/>\n",
    "    <ellipse cx=250 cy=25 rx=100 ry=25/>\n",
    "    <rect x=0 y=400 width=500 height=50 \n",
    "        fill=blue stroke-width=4 stroke=black/>\n",
    "    <line x1=\"\" y1=\"300\" x2=\"500\" y2=\"50\" stroke=\"purple\"/>\n",
    "    \n",
    "    <text x=\"250\" y=\"25\" font-family=\"sans-serif\"\n",
    "        font-size=\"25\" fill=\"gray\">Easy-peasy</text>\n",
    "</svg>"
   ]
  },
  {
   "cell_type": "code",
   "execution_count": 75,
   "metadata": {
    "scrolled": true
   },
   "outputs": [
    {
     "data": {
      "text/html": [
       "\n",
       "<script>\n",
       "requirejs.config({\n",
       "    paths: {\n",
       "        d3: \"//cdnjs.cloudflare.com/ajax/libs/d3/3.5.17/d3\"\n",
       "    }\n",
       "});\n",
       "\n",
       "require(['d3'], function(d3) {\n",
       "    window.d3 = d3;\n",
       "});\n",
       "</script>\n",
       "<script>\n",
       "_select = d3.select;\n",
       "\n",
       "d3.select16 = function(selection) {\n",
       "    return _select(\"#d3-cell-16\").select(selection);\n",
       "}\n",
       "d3.selectAll16 = function(selection) {\n",
       "    return _select(\"#d3-cell-16\").selectAll(selection);\n",
       "}\n",
       "</script>\n",
       "<g id=\"d3-cell-16\">\n",
       "<style>\n",
       "svg .circle1 {\n",
       "    fill: red;\n",
       "    stroke: black;\n",
       "    stroke-width: 5;\n",
       "}\n",
       "\n",
       "svg .rect1 {\n",
       "    fill:blue;\n",
       "    stroke-width:4;\n",
       "    stroke:black;\n",
       "}\n",
       "\n",
       "</style>\n",
       "\n",
       "<svg width = 500 height =500>\n",
       "    <circle cx=200 cy=200 r=127 class=\"circle1\"/>\n",
       "    <ellipse cx=250 cy=25 rx=100 ry=25/>\n",
       "    <rect x=0 y=400 width=500 height=50 class=\"rect1\"/>\n",
       "    <line x1=\"\" y1=\"300\" x2=\"500\" y2=\"50\" stroke=\"purple\"/>\n",
       "    <text x=\"250\" y=\"25\" font-family=\"sans-serif\"\n",
       "        font-size=\"25\" fill=\"gray\">Easy-peasy</text>\n",
       "</svg>\n",
       "</g>"
      ],
      "text/plain": [
       "<IPython.core.display.HTML object>"
      ]
     },
     "metadata": {},
     "output_type": "display_data"
    }
   ],
   "source": [
    "%%d3\n",
    "<style>\n",
    "svg .circle1 {\n",
    "    fill: red;\n",
    "    stroke: black;\n",
    "    stroke-width: 5;\n",
    "}\n",
    "\n",
    "svg .rect1 {\n",
    "    fill:blue;\n",
    "    stroke-width:4;\n",
    "    stroke:black;\n",
    "}\n",
    "\n",
    "</style>\n",
    "\n",
    "<svg width = 500 height =500>\n",
    "    <circle cx=200 cy=200 r=127 class=\"circle1\"/>\n",
    "    <ellipse cx=250 cy=25 rx=100 ry=25/>\n",
    "    <rect x=0 y=400 width=500 height=50 class=\"rect1\"/>\n",
    "    <line x1=\"\" y1=\"300\" x2=\"500\" y2=\"50\" stroke=\"purple\"/>\n",
    "    <text x=\"250\" y=\"25\" font-family=\"sans-serif\"\n",
    "        font-size=\"25\" fill=\"gray\">Easy-peasy</text>\n",
    "</svg>"
   ]
  },
  {
   "cell_type": "code",
   "execution_count": 76,
   "metadata": {},
   "outputs": [
    {
     "data": {
      "text/html": [
       "\n",
       "<script>\n",
       "requirejs.config({\n",
       "    paths: {\n",
       "        d3: \"//cdnjs.cloudflare.com/ajax/libs/d3/3.5.17/d3\"\n",
       "    }\n",
       "});\n",
       "\n",
       "require(['d3'], function(d3) {\n",
       "    window.d3 = d3;\n",
       "});\n",
       "</script>\n",
       "<script>\n",
       "_select = d3.select;\n",
       "\n",
       "d3.select17 = function(selection) {\n",
       "    return _select(\"#d3-cell-17\").select(selection);\n",
       "}\n",
       "d3.selectAll17 = function(selection) {\n",
       "    return _select(\"#d3-cell-17\").selectAll(selection);\n",
       "}\n",
       "</script>\n",
       "<g id=\"d3-cell-17\">\n",
       "<svg>\n",
       "    <circle cx=\"25\" cy=\"25\" r=\"20\" fill=\"rgba(128, 0, 128, 1.0)\"/>\n",
       "    <circle cx=\"50\" cy=\"25\" r=\"20\" fill=\"rgba(0, 0, 255, 0.75)\"/>\n",
       "    <circle cx=\"75\" cy=\"25\" r=\"20\" fill=\"rgba(0, 255, 0, 0.5)\"/>\n",
       "    <circle cx=\"100\" cy=\"25\" r=\"20\" fill=\"rgba(255, 255, 0, 0.25)\"/>\n",
       "    <circle cx=\"125\" cy=\"25\" r=\"20\" fill=\"rgba(255, 0, 0, 0.1)\"/>\n",
       "</svg>\n",
       "</g>"
      ],
      "text/plain": [
       "<IPython.core.display.HTML object>"
      ]
     },
     "metadata": {},
     "output_type": "display_data"
    }
   ],
   "source": [
    "%%d3\n",
    "<svg>\n",
    "    <circle cx=\"25\" cy=\"25\" r=\"20\" fill=\"rgba(128, 0, 128, 1.0)\"/>\n",
    "    <circle cx=\"50\" cy=\"25\" r=\"20\" fill=\"rgba(0, 0, 255, 0.75)\"/>\n",
    "    <circle cx=\"75\" cy=\"25\" r=\"20\" fill=\"rgba(0, 255, 0, 0.5)\"/>\n",
    "    <circle cx=\"100\" cy=\"25\" r=\"20\" fill=\"rgba(255, 255, 0, 0.25)\"/>\n",
    "    <circle cx=\"125\" cy=\"25\" r=\"20\" fill=\"rgba(255, 0, 0, 0.1)\"/>\n",
    "</svg>"
   ]
  },
  {
   "cell_type": "code",
   "execution_count": 77,
   "metadata": {},
   "outputs": [
    {
     "data": {
      "text/html": [
       "\n",
       "<script>\n",
       "requirejs.config({\n",
       "    paths: {\n",
       "        d3: \"//cdnjs.cloudflare.com/ajax/libs/d3/3.5.17/d3\"\n",
       "    }\n",
       "});\n",
       "\n",
       "require(['d3'], function(d3) {\n",
       "    window.d3 = d3;\n",
       "});\n",
       "</script>\n",
       "<script>\n",
       "_select = d3.select;\n",
       "\n",
       "d3.select18 = function(selection) {\n",
       "    return _select(\"#d3-cell-18\").select(selection);\n",
       "}\n",
       "d3.selectAll18 = function(selection) {\n",
       "    return _select(\"#d3-cell-18\").selectAll(selection);\n",
       "}\n",
       "</script>\n",
       "<g id=\"d3-cell-18\">\n",
       "<svg>\n",
       "    <circle cx=\"25\" cy=\"25\" r=\"20\" fill=\"rgba(128, 0, 128, 0.75)\" stroke=\"rgba(0, 255, 0, 0.25)\" stroke-width=\"10\"/>\n",
       "    <circle cx=\"75\" cy=\"25\" r=\"20\" fill=\"rgba(0, 255, 0, 0.75)\" stroke=\"rgba(0, 0, 255, 0.25)\" stroke-width=\"10\"/>\n",
       "    <circle cx=\"125\" cy=\"25\" r=\"20\" fill=\"rgba(255, 255, 0, 0.75)\" stroke=\"rgba(255, 0, 0, 0.25)\" stroke-width=\"10\"/>\n",
       "</svg>\n",
       "</g>"
      ],
      "text/plain": [
       "<IPython.core.display.HTML object>"
      ]
     },
     "metadata": {},
     "output_type": "display_data"
    }
   ],
   "source": [
    "%%d3\n",
    "<svg>\n",
    "    <circle cx=\"25\" cy=\"25\" r=\"20\" fill=\"rgba(128, 0, 128, 0.75)\" stroke=\"rgba(0, 255, 0, 0.25)\" stroke-width=\"10\"/>\n",
    "    <circle cx=\"75\" cy=\"25\" r=\"20\" fill=\"rgba(0, 255, 0, 0.75)\" stroke=\"rgba(0, 0, 255, 0.25)\" stroke-width=\"10\"/>\n",
    "    <circle cx=\"125\" cy=\"25\" r=\"20\" fill=\"rgba(255, 255, 0, 0.75)\" stroke=\"rgba(255, 0, 0, 0.25)\" stroke-width=\"10\"/>\n",
    "</svg>"
   ]
  },
  {
   "cell_type": "code",
   "execution_count": 78,
   "metadata": {},
   "outputs": [
    {
     "data": {
      "text/html": [
       "\n",
       "<script>\n",
       "requirejs.config({\n",
       "    paths: {\n",
       "        d3: \"//cdnjs.cloudflare.com/ajax/libs/d3/3.5.17/d3\"\n",
       "    }\n",
       "});\n",
       "\n",
       "require(['d3'], function(d3) {\n",
       "    window.d3 = d3;\n",
       "});\n",
       "</script>\n",
       "<script>\n",
       "_select = d3.select;\n",
       "\n",
       "d3.select19 = function(selection) {\n",
       "    return _select(\"#d3-cell-19\").select(selection);\n",
       "}\n",
       "d3.selectAll19 = function(selection) {\n",
       "    return _select(\"#d3-cell-19\").selectAll(selection);\n",
       "}\n",
       "</script>\n",
       "<g id=\"d3-cell-19\">\n",
       "<svg>\n",
       "<circle cx=\"25\" cy=\"25\" r=\"20\"\n",
       "    fill=\"rgba(128, 0, 128, 0.75)\" \n",
       "    stroke=\"rgba(0, 255, 0, 0.25)\" stroke-width=\"10\"/>\n",
       "<circle cx=\"65\" cy=\"25\" r=\"20\"\n",
       "    fill=\"rgba(128, 0, 128, 0.75)\" \n",
       "    stroke=\"rgba(0, 255, 0, 0.25)\" stroke-width=\"10\"\n",
       "    opacity=\"0.5\"/>\n",
       "<circle cx=\"105\" cy=\"25\" r=\"20\"\n",
       "    fill=\"rgba(128, 0, 128, 0.75)\" \n",
       "    stroke=\"rgba(0, 255, 0, 0.25)\" stroke-width=\"10\"\n",
       "    opacity=\"0.2\"/>\n",
       "</svg>\n",
       "</g>"
      ],
      "text/plain": [
       "<IPython.core.display.HTML object>"
      ]
     },
     "metadata": {},
     "output_type": "display_data"
    }
   ],
   "source": [
    "%%d3\n",
    "<svg>\n",
    "<circle cx=\"25\" cy=\"25\" r=\"20\"\n",
    "    fill=\"rgba(128, 0, 128, 0.75)\" \n",
    "    stroke=\"rgba(0, 255, 0, 0.25)\" stroke-width=\"10\"/>\n",
    "<circle cx=\"65\" cy=\"25\" r=\"20\"\n",
    "    fill=\"rgba(128, 0, 128, 0.75)\" \n",
    "    stroke=\"rgba(0, 255, 0, 0.25)\" stroke-width=\"10\"\n",
    "    opacity=\"0.5\"/>\n",
    "<circle cx=\"105\" cy=\"25\" r=\"20\"\n",
    "    fill=\"rgba(128, 0, 128, 0.75)\" \n",
    "    stroke=\"rgba(0, 255, 0, 0.25)\" stroke-width=\"10\"\n",
    "    opacity=\"0.2\"/>\n",
    "</svg>"
   ]
  },
  {
   "cell_type": "code",
   "execution_count": 79,
   "metadata": {
    "scrolled": true
   },
   "outputs": [
    {
     "data": {
      "text/html": [
       "\n",
       "<script>\n",
       "requirejs.config({\n",
       "    paths: {\n",
       "        d3: \"//cdnjs.cloudflare.com/ajax/libs/d3/3.5.17/d3\"\n",
       "    }\n",
       "});\n",
       "\n",
       "require(['d3'], function(d3) {\n",
       "    window.d3 = d3;\n",
       "});\n",
       "</script>\n",
       "<script>\n",
       "_select = d3.select;\n",
       "\n",
       "d3.select20 = function(selection) {\n",
       "    return _select(\"#d3-cell-20\").select(selection);\n",
       "}\n",
       "d3.selectAll20 = function(selection) {\n",
       "    return _select(\"#d3-cell-20\").selectAll(selection);\n",
       "}\n",
       "</script>\n",
       "<g id=\"d3-cell-20\">\n",
       "\n",
       "<svg />\n",
       "\n",
       "<script>\n",
       "var dataset = [ 5, 10, 15, 20, 25 ];\n",
       "w = 500\n",
       "h = 100\n",
       "var svg = d3.select20(\"svg\")\n",
       "    .attr(\"width\", w)\n",
       "    .attr(\"height\", h);\n",
       "    \n",
       "var circles = svg.selectAll(\"circle\")\n",
       "    .data(dataset)\n",
       "    .enter()\n",
       "    .append(\"circle\");\n",
       "    \n",
       "circles.attr(\"cx\", function(d, i) {\n",
       "        return (i * 50) + 25;\n",
       "    })\n",
       "   .attr(\"cy\", h/2)\n",
       "   .attr(\"r\", function(d) {\n",
       "        return d;\n",
       "   });\n",
       "</script>\n",
       "</g>"
      ],
      "text/plain": [
       "<IPython.core.display.HTML object>"
      ]
     },
     "metadata": {},
     "output_type": "display_data"
    }
   ],
   "source": [
    "%%d3\n",
    "\n",
    "<svg />\n",
    "\n",
    "<script>\n",
    "var dataset = [ 5, 10, 15, 20, 25 ];\n",
    "w = 500\n",
    "h = 100\n",
    "var svg = d3.select(\"svg\")\n",
    "    .attr(\"width\", w)\n",
    "    .attr(\"height\", h);\n",
    "    \n",
    "var circles = svg.selectAll(\"circle\")\n",
    "    .data(dataset)\n",
    "    .enter()\n",
    "    .append(\"circle\");\n",
    "    \n",
    "circles.attr(\"cx\", function(d, i) {\n",
    "        return (i * 50) + 25;\n",
    "    })\n",
    "   .attr(\"cy\", h/2)\n",
    "   .attr(\"r\", function(d) {\n",
    "        return d;\n",
    "   });\n",
    "</script>"
   ]
  },
  {
   "cell_type": "code",
   "execution_count": 80,
   "metadata": {},
   "outputs": [
    {
     "data": {
      "text/html": [
       "\n",
       "<script>\n",
       "requirejs.config({\n",
       "    paths: {\n",
       "        d3: \"//cdnjs.cloudflare.com/ajax/libs/d3/3.5.17/d3\"\n",
       "    }\n",
       "});\n",
       "\n",
       "require(['d3'], function(d3) {\n",
       "    window.d3 = d3;\n",
       "});\n",
       "</script>\n",
       "<script>\n",
       "_select = d3.select;\n",
       "\n",
       "d3.select21 = function(selection) {\n",
       "    return _select(\"#d3-cell-21\").select(selection);\n",
       "}\n",
       "d3.selectAll21 = function(selection) {\n",
       "    return _select(\"#d3-cell-21\").selectAll(selection);\n",
       "}\n",
       "</script>\n",
       "<g id=\"d3-cell-21\">\n",
       "\n",
       "<g></g>\n",
       "\n",
       "<script>\n",
       "var fruta = {\n",
       "    tipo: \"uva\",\n",
       "    color: \"rojo\",\n",
       "    cantidad: 12,\n",
       "    dulce: true\n",
       "};\n",
       "d3.select21(\"g\").append(\"p\").text(JSON.stringify(fruta))\n",
       "d3.select21(\"g\").append(\"p\").text(JSON.stringify(fruta))\n",
       "</script>\n",
       "</g>"
      ],
      "text/plain": [
       "<IPython.core.display.HTML object>"
      ]
     },
     "metadata": {},
     "output_type": "display_data"
    }
   ],
   "source": [
    "%%d3\n",
    "\n",
    "<g></g>\n",
    "\n",
    "<script>\n",
    "var fruta = {\n",
    "    tipo: \"uva\",\n",
    "    color: \"rojo\",\n",
    "    cantidad: 12,\n",
    "    dulce: true\n",
    "};\n",
    "d3.select(\"g\").append(\"p\").text(JSON.stringify(fruta))\n",
    "d3.select(\"g\").append(\"p\").text(JSON.stringify(fruta))\n",
    "</script>"
   ]
  },
  {
   "cell_type": "code",
   "execution_count": 81,
   "metadata": {},
   "outputs": [
    {
     "data": {
      "text/html": [
       "\n",
       "<script>\n",
       "requirejs.config({\n",
       "    paths: {\n",
       "        d3: \"//cdnjs.cloudflare.com/ajax/libs/d3/3.5.17/d3\"\n",
       "    }\n",
       "});\n",
       "\n",
       "require(['d3'], function(d3) {\n",
       "    window.d3 = d3;\n",
       "});\n",
       "</script>\n",
       "<script>\n",
       "_select = d3.select;\n",
       "\n",
       "d3.select22 = function(selection) {\n",
       "    return _select(\"#d3-cell-22\").select(selection);\n",
       "}\n",
       "d3.selectAll22 = function(selection) {\n",
       "    return _select(\"#d3-cell-22\").selectAll(selection);\n",
       "}\n",
       "</script>\n",
       "<g id=\"d3-cell-22\">\n",
       "\n",
       "<svg />\n",
       "<g> </g>\n",
       "\n",
       "<style type=\"text/css\">\n",
       "    div.bar5 {\n",
       "        vertical-align: middle;\n",
       "        display: inline-block;\n",
       "        width: 20px;\n",
       "        height: 75px;\n",
       "        margin-right: 2px;\n",
       "        background-color: teal;\n",
       "    }\n",
       "\n",
       "</style>\n",
       "\n",
       "<script>\n",
       "    var dataset = [ 5, 10, 13, 19, 21, 25, 22, 18, 15, 13,\n",
       "                    11, 12, 15, 20, 18, 17, 16, 18, 23, 25 ];\n",
       "\n",
       "    d3.select22(\"g\")\n",
       "        .selectAll(\"div\")\n",
       "        .data(dataset)\n",
       "        .enter()\n",
       "        .append(\"div\")\n",
       "        .attr(\"class\", \"bar5\")\n",
       "        .style(\"height\", function(d) {\n",
       "            var barHeight = d * 5;\n",
       "            return barHeight + \"px\";\n",
       "        });\n",
       "</script>\n",
       "</g>"
      ],
      "text/plain": [
       "<IPython.core.display.HTML object>"
      ]
     },
     "metadata": {},
     "output_type": "display_data"
    }
   ],
   "source": [
    "%%d3\n",
    "\n",
    "<svg />\n",
    "<g> </g>\n",
    "\n",
    "<style type=\"text/css\">\n",
    "    div.bar5 {\n",
    "        vertical-align: middle;\n",
    "        display: inline-block;\n",
    "        width: 20px;\n",
    "        height: 75px;\n",
    "        margin-right: 2px;\n",
    "        background-color: teal;\n",
    "    }\n",
    "\n",
    "</style>\n",
    "\n",
    "<script>\n",
    "    var dataset = [ 5, 10, 13, 19, 21, 25, 22, 18, 15, 13,\n",
    "                    11, 12, 15, 20, 18, 17, 16, 18, 23, 25 ];\n",
    "\n",
    "    d3.select(\"g\")\n",
    "        .selectAll(\"div\")\n",
    "        .data(dataset)\n",
    "        .enter()\n",
    "        .append(\"div\")\n",
    "        .attr(\"class\", \"bar5\")\n",
    "        .style(\"height\", function(d) {\n",
    "            var barHeight = d * 5;\n",
    "            return barHeight + \"px\";\n",
    "        });\n",
    "</script>"
   ]
  },
  {
   "cell_type": "code",
   "execution_count": null,
   "metadata": {
    "collapsed": true
   },
   "outputs": [],
   "source": []
  }
 ],
 "metadata": {
  "kernelspec": {
   "display_name": "Python [default]",
   "language": "python",
   "name": "python3"
  },
  "language_info": {
   "codemirror_mode": {
    "name": "ipython",
    "version": 3
   },
   "file_extension": ".py",
   "mimetype": "text/x-python",
   "name": "python",
   "nbconvert_exporter": "python",
   "pygments_lexer": "ipython3",
   "version": "3.5.3"
  }
 },
 "nbformat": 4,
 "nbformat_minor": 2
}
