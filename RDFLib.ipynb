{
 "cells": [
  {
   "cell_type": "code",
   "execution_count": null,
   "metadata": {
    "collapsed": true
   },
   "outputs": [],
   "source": [
    "dumpFilename = r\"C:\\Users\\clgadel\\Desktop\\DCC\\Tesis\\DB\\latest-truthy.nt\\latest-truthy.nt\""
   ]
  },
  {
   "cell_type": "markdown",
   "metadata": {},
   "source": [
    "# Exploring the Dump"
   ]
  },
  {
   "cell_type": "code",
   "execution_count": null,
   "metadata": {},
   "outputs": [],
   "source": [
    "i = 0\n",
    "max = 50\n",
    "with open(dumpFilename) as infile:\n",
    "    for line in infile:\n",
    "        if(i>=max):\n",
    "            break\n",
    "        print(i, line)\n",
    "        i+=1"
   ]
  },
  {
   "cell_type": "markdown",
   "metadata": {},
   "source": [
    "# Using RDFLib"
   ]
  },
  {
   "cell_type": "code",
   "execution_count": null,
   "metadata": {},
   "outputs": [],
   "source": [
    "import rdflib\n",
    "i = 0\n",
    "max = 10\n",
    "g=rdflib.Graph()\n",
    "with open(dumpFilename) as infile:\n",
    "    result = g.parse(infile, format=\"nt\")\n",
    "    for s,p,o in g:\n",
    "        if(i>=max):\n",
    "            break\n",
    "        print (s,p,o)\n",
    "        i+=1"
   ]
  },
  {
   "cell_type": "code",
   "execution_count": null,
   "metadata": {
    "collapsed": true
   },
   "outputs": [],
   "source": []
  },
  {
   "cell_type": "code",
   "execution_count": null,
   "metadata": {},
   "outputs": [],
   "source": [
    "import rdflib\n",
    "i = 0\n",
    "max = 10\n",
    "g=rdflib.Graph()\n",
    "with open(dumpFilename, \"r\") as infile:\n",
    "    if(i>=max):\n",
    "        break\n",
    "    result = g.parse(line, format=\"nt\")\n",
    "    print(result)\n",
    "    for s,p,o in g:\n",
    "        print (s,p,o)\n",
    "    i+=1\n",
    "    \n",
    "    \n",
    "\n",
    "    "
   ]
  },
  {
   "cell_type": "code",
   "execution_count": null,
   "metadata": {
    "collapsed": true
   },
   "outputs": [],
   "source": []
  }
 ],
 "metadata": {
  "kernelspec": {
   "display_name": "Python [default]",
   "language": "python",
   "name": "python3"
  }
 },
 "nbformat": 4,
 "nbformat_minor": 2
}
