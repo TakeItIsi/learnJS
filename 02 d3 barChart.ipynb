{
 "cells": [
  {
   "cell_type": "markdown",
   "metadata": {},
   "source": [
    "## Diagramas de Barras"
   ]
  },
  {
   "cell_type": "markdown",
   "metadata": {},
   "source": [
    "## Imports"
   ]
  },
  {
   "cell_type": "code",
   "execution_count": 1,
   "metadata": {
    "collapsed": true
   },
   "outputs": [],
   "source": [
    "import py_d3\n",
    "%reload_ext py_d3"
   ]
  },
  {
   "cell_type": "markdown",
   "metadata": {},
   "source": [
    "## Barras sobre el DOM\n",
    "\n",
    "Para hacer las barras sobre el DOM, agregamos un elemento [div](https://www.w3schools.com/tags/tag_div.asp). Se deben agregar algunos atributos para que se vea, como el alto, ancho y color. De caso contrario, sería de un tamaño invisible."
   ]
  },
  {
   "cell_type": "code",
   "execution_count": 2,
   "metadata": {},
   "outputs": [
    {
     "data": {
      "text/html": [
       "\n",
       "<script>\n",
       "requirejs.config({\n",
       "    paths: {\n",
       "        d3: \"//cdnjs.cloudflare.com/ajax/libs/d3/3.5.17/d3\"\n",
       "    }\n",
       "});\n",
       "\n",
       "require(['d3'], function(d3) {\n",
       "    window.d3 = d3;\n",
       "});\n",
       "</script>\n",
       "<script>\n",
       "_select = d3.select;\n",
       "\n",
       "d3.select0 = function(selection) {\n",
       "    return _select(\"#d3-cell-0\").select(selection);\n",
       "}\n",
       "d3.selectAll0 = function(selection) {\n",
       "    return _select(\"#d3-cell-0\").selectAll(selection);\n",
       "}\n",
       "</script>\n",
       "<g id=\"d3-cell-0\">\n",
       "\n",
       "<div style=\"display: inline-block; \n",
       "        width: 20px;\n",
       "        height: 75px;\n",
       "        background-color: teal;\"/>\n",
       "</g>"
      ],
      "text/plain": [
       "<IPython.core.display.HTML object>"
      ]
     },
     "metadata": {},
     "output_type": "display_data"
    }
   ],
   "source": [
    "%%d3\n",
    "\n",
    "<div style=\"display: inline-block; \n",
    "        width: 20px;\n",
    "        height: 75px;\n",
    "        background-color: teal;\"/>"
   ]
  },
  {
   "cell_type": "markdown",
   "metadata": {},
   "source": [
    "## Barra sobre el DOM con style externo\n",
    "\n",
    "Si quisiera agregar dos barras en este caso, debería repetir todo el código del style. En este caso es mejor hacer un refactor y reutilizar el style.\n",
    "\n",
    "En este caso, fue necesario agregar el valor **inline-block** para tenerlos uno al lado del otro. Caso contrario, estarían los 2 uno sobre otro."
   ]
  },
  {
   "cell_type": "code",
   "execution_count": 3,
   "metadata": {
    "scrolled": true
   },
   "outputs": [
    {
     "data": {
      "text/html": [
       "\n",
       "<script>\n",
       "requirejs.config({\n",
       "    paths: {\n",
       "        d3: \"//cdnjs.cloudflare.com/ajax/libs/d3/3.5.17/d3\"\n",
       "    }\n",
       "});\n",
       "\n",
       "require(['d3'], function(d3) {\n",
       "    window.d3 = d3;\n",
       "});\n",
       "</script>\n",
       "<script>\n",
       "_select = d3.select;\n",
       "\n",
       "d3.select1 = function(selection) {\n",
       "    return _select(\"#d3-cell-1\").select(selection);\n",
       "}\n",
       "d3.selectAll1 = function(selection) {\n",
       "    return _select(\"#d3-cell-1\").selectAll(selection);\n",
       "}\n",
       "</script>\n",
       "<g id=\"d3-cell-1\">\n",
       "\n",
       "<style>\n",
       "    div.divbar1 {\n",
       "        display: inline-block;\n",
       "        width: 20px;\n",
       "        height: 75px;   \n",
       "        background-color: teal;\n",
       "    }\n",
       "</style>\n",
       "\n",
       "<div class=\"divbar1\" />\n",
       "<div class=\"divbar1\" />\n",
       "</g>"
      ],
      "text/plain": [
       "<IPython.core.display.HTML object>"
      ]
     },
     "metadata": {},
     "output_type": "display_data"
    }
   ],
   "source": [
    "%%d3\n",
    "\n",
    "<style>\n",
    "    div.divbar1 {\n",
    "        display: inline-block;\n",
    "        width: 20px;\n",
    "        height: 75px;   \n",
    "        background-color: teal;\n",
    "    }\n",
    "</style>\n",
    "\n",
    "<div class=\"divbar1\" />\n",
    "<div class=\"divbar1\" />"
   ]
  },
  {
   "cell_type": "markdown",
   "metadata": {},
   "source": [
    "## Barras en un SVG\n",
    "\n",
    "Para agregarlos dentro de un SVG, que es donde trabajaremos más adelante, es necesario crear un elemento **`<svg>`** y dentro agregar un elemento **`<rect>`**. \n",
    "\n",
    "En este caso, hemos agregado directamente el style al elemento. Es de notar que también se ha cambiado **background-color** por **fill**."
   ]
  },
  {
   "cell_type": "code",
   "execution_count": 4,
   "metadata": {
    "scrolled": true
   },
   "outputs": [
    {
     "data": {
      "text/html": [
       "\n",
       "<script>\n",
       "requirejs.config({\n",
       "    paths: {\n",
       "        d3: \"//cdnjs.cloudflare.com/ajax/libs/d3/3.5.17/d3\"\n",
       "    }\n",
       "});\n",
       "\n",
       "require(['d3'], function(d3) {\n",
       "    window.d3 = d3;\n",
       "});\n",
       "</script>\n",
       "<script>\n",
       "_select = d3.select;\n",
       "\n",
       "d3.select2 = function(selection) {\n",
       "    return _select(\"#d3-cell-2\").select(selection);\n",
       "}\n",
       "d3.selectAll2 = function(selection) {\n",
       "    return _select(\"#d3-cell-2\").selectAll(selection);\n",
       "}\n",
       "</script>\n",
       "<g id=\"d3-cell-2\">\n",
       "\n",
       "<style>\n",
       "    rect.rectbar1 {\n",
       "        width: 20px;\n",
       "        height: 75px;   \n",
       "        fill: teal;\n",
       "    }\n",
       "</style>\n",
       "\n",
       "<svg>\n",
       "    <rect class=\"rectbar1\" />\n",
       "</svg>\n",
       "</g>"
      ],
      "text/plain": [
       "<IPython.core.display.HTML object>"
      ]
     },
     "metadata": {},
     "output_type": "display_data"
    }
   ],
   "source": [
    "%%d3\n",
    "\n",
    "<style>\n",
    "    rect.rectbar1 {\n",
    "        width: 20px;\n",
    "        height: 75px;   \n",
    "        fill: teal;\n",
    "    }\n",
    "</style>\n",
    "\n",
    "<svg>\n",
    "    <rect class=\"rectbar1\" />\n",
    "</svg>"
   ]
  },
  {
   "cell_type": "markdown",
   "metadata": {},
   "source": [
    "Si se desean agregar más de una, es necesario agregar a cada una un atributo **x** con el valor de la posición donde aparecerá la barra."
   ]
  },
  {
   "cell_type": "code",
   "execution_count": 5,
   "metadata": {},
   "outputs": [
    {
     "data": {
      "text/html": [
       "\n",
       "<script>\n",
       "requirejs.config({\n",
       "    paths: {\n",
       "        d3: \"//cdnjs.cloudflare.com/ajax/libs/d3/3.5.17/d3\"\n",
       "    }\n",
       "});\n",
       "\n",
       "require(['d3'], function(d3) {\n",
       "    window.d3 = d3;\n",
       "});\n",
       "</script>\n",
       "<script>\n",
       "_select = d3.select;\n",
       "\n",
       "d3.select3 = function(selection) {\n",
       "    return _select(\"#d3-cell-3\").select(selection);\n",
       "}\n",
       "d3.selectAll3 = function(selection) {\n",
       "    return _select(\"#d3-cell-3\").selectAll(selection);\n",
       "}\n",
       "</script>\n",
       "<g id=\"d3-cell-3\">\n",
       "\n",
       "<style>\n",
       "    rect.rectbar2 {\n",
       "        width: 20px;\n",
       "        height: 75px;  \n",
       "        fill: teal;\n",
       "    }\n",
       "</style>\n",
       "\n",
       "<svg>\n",
       "    <rect class=\"rectbar2\" x=\"0\"/>\n",
       "    <rect class=\"rectbar2\" x=\"22\"/>\n",
       "</svg>\n",
       "</g>"
      ],
      "text/plain": [
       "<IPython.core.display.HTML object>"
      ]
     },
     "metadata": {},
     "output_type": "display_data"
    }
   ],
   "source": [
    "%%d3\n",
    "\n",
    "<style>\n",
    "    rect.rectbar2 {\n",
    "        width: 20px;\n",
    "        height: 75px;  \n",
    "        fill: teal;\n",
    "    }\n",
    "</style>\n",
    "\n",
    "<svg>\n",
    "    <rect class=\"rectbar2\" x=\"0\"/>\n",
    "    <rect class=\"rectbar2\" x=\"22\"/>\n",
    "</svg>"
   ]
  },
  {
   "cell_type": "markdown",
   "metadata": {},
   "source": [
    "# Barras con d3\n",
    "\n",
    "Para las barras con d3, es de forma similar a como lo hemos hecho antes, agregando **`<div>`** al DOM."
   ]
  },
  {
   "cell_type": "code",
   "execution_count": 6,
   "metadata": {},
   "outputs": [
    {
     "data": {
      "text/html": [
       "\n",
       "<script>\n",
       "requirejs.config({\n",
       "    paths: {\n",
       "        d3: \"//cdnjs.cloudflare.com/ajax/libs/d3/3.5.17/d3\"\n",
       "    }\n",
       "});\n",
       "\n",
       "require(['d3'], function(d3) {\n",
       "    window.d3 = d3;\n",
       "});\n",
       "</script>\n",
       "<script>\n",
       "_select = d3.select;\n",
       "\n",
       "d3.select4 = function(selection) {\n",
       "    return _select(\"#d3-cell-4\").select(selection);\n",
       "}\n",
       "d3.selectAll4 = function(selection) {\n",
       "    return _select(\"#d3-cell-4\").selectAll(selection);\n",
       "}\n",
       "</script>\n",
       "<g id=\"d3-cell-4\">\n",
       "\n",
       "<g />\n",
       "\n",
       "<script>\n",
       "    var bar = d3.select4(\"g\")\n",
       "        .append(\"div\")\n",
       "        .style(\"width\", \"20px\")\n",
       "        .style(\"height\", \"75px\")\n",
       "        .style(\"background-color\", \"teal\");\n",
       "</script>\n",
       "</g>"
      ],
      "text/plain": [
       "<IPython.core.display.HTML object>"
      ]
     },
     "metadata": {},
     "output_type": "display_data"
    }
   ],
   "source": [
    "%%d3\n",
    "\n",
    "<g />\n",
    "\n",
    "<script>\n",
    "    var bar = d3.select(\"g\")\n",
    "        .append(\"div\")\n",
    "        .style(\"width\", \"20px\")\n",
    "        .style(\"height\", \"75px\")\n",
    "        .style(\"background-color\", \"teal\");\n",
    "</script>"
   ]
  },
  {
   "cell_type": "markdown",
   "metadata": {},
   "source": [
    "## d3 y Styles\n",
    "\n",
    "De la misma manera, utiliazndo **`<div>`** y **`<style>`**"
   ]
  },
  {
   "cell_type": "code",
   "execution_count": 7,
   "metadata": {},
   "outputs": [
    {
     "data": {
      "text/html": [
       "\n",
       "<script>\n",
       "requirejs.config({\n",
       "    paths: {\n",
       "        d3: \"//cdnjs.cloudflare.com/ajax/libs/d3/3.5.17/d3\"\n",
       "    }\n",
       "});\n",
       "\n",
       "require(['d3'], function(d3) {\n",
       "    window.d3 = d3;\n",
       "});\n",
       "</script>\n",
       "<script>\n",
       "_select = d3.select;\n",
       "\n",
       "d3.select5 = function(selection) {\n",
       "    return _select(\"#d3-cell-5\").select(selection);\n",
       "}\n",
       "d3.selectAll5 = function(selection) {\n",
       "    return _select(\"#d3-cell-5\").selectAll(selection);\n",
       "}\n",
       "</script>\n",
       "<g id=\"d3-cell-5\">\n",
       "\n",
       "<style>\n",
       "    div.divbar2 {\n",
       "        display: inline-block;\n",
       "        width: 20px;\n",
       "        height: 75px;   \n",
       "        background-color: teal;\n",
       "        margin-right: 2px;\n",
       "    }\n",
       "</style>\n",
       "\n",
       "<g />\n",
       "\n",
       "<script>\n",
       "    d3.select5(\"g\")\n",
       "        .append(\"div\")\n",
       "        .attr(\"class\", \"divbar2\")\n",
       "        \n",
       "    d3.select5(\"g\")\n",
       "        .append(\"div\")\n",
       "        .attr(\"class\", \"divbar2\")\n",
       "</script>\n",
       "</g>"
      ],
      "text/plain": [
       "<IPython.core.display.HTML object>"
      ]
     },
     "metadata": {},
     "output_type": "display_data"
    }
   ],
   "source": [
    "%%d3\n",
    "\n",
    "<style>\n",
    "    div.divbar2 {\n",
    "        display: inline-block;\n",
    "        width: 20px;\n",
    "        height: 75px;   \n",
    "        background-color: teal;\n",
    "        margin-right: 2px;\n",
    "    }\n",
    "</style>\n",
    "\n",
    "<g />\n",
    "\n",
    "<script>\n",
    "    d3.select(\"g\")\n",
    "        .append(\"div\")\n",
    "        .attr(\"class\", \"divbar2\")\n",
    "        \n",
    "    d3.select(\"g\")\n",
    "        .append(\"div\")\n",
    "        .attr(\"class\", \"divbar2\")\n",
    "</script>\n"
   ]
  },
  {
   "cell_type": "markdown",
   "metadata": {},
   "source": [
    "## d3 y Arrays\n",
    "\n",
    "En primera instancia trabajaremos con los **div** ya que no es necesario agregar las posiciones **x**. Esto simplifica agregarlas.\n",
    "\n",
    "En este ejemplo, tomaremos lo anterior y agregaremos los valores desde un **array**. Para las alturas, agregamos una función que setea ese valor desde el valor del arreglo."
   ]
  },
  {
   "cell_type": "code",
   "execution_count": 8,
   "metadata": {},
   "outputs": [
    {
     "data": {
      "text/html": [
       "\n",
       "<script>\n",
       "requirejs.config({\n",
       "    paths: {\n",
       "        d3: \"//cdnjs.cloudflare.com/ajax/libs/d3/3.5.17/d3\"\n",
       "    }\n",
       "});\n",
       "\n",
       "require(['d3'], function(d3) {\n",
       "    window.d3 = d3;\n",
       "});\n",
       "</script>\n",
       "<script>\n",
       "_select = d3.select;\n",
       "\n",
       "d3.select6 = function(selection) {\n",
       "    return _select(\"#d3-cell-6\").select(selection);\n",
       "}\n",
       "d3.selectAll6 = function(selection) {\n",
       "    return _select(\"#d3-cell-6\").selectAll(selection);\n",
       "}\n",
       "</script>\n",
       "<g id=\"d3-cell-6\">\n",
       "\n",
       "<style>\n",
       "    div.divbar3 {\n",
       "        display: inline-block;\n",
       "        width: 20px;\n",
       "        height: 75px;   \n",
       "        background-color: teal;\n",
       "        margin-right: 2px;\n",
       "    }\n",
       "</style>\n",
       "\n",
       "<g />\n",
       "\n",
       "<script>\n",
       "    var array = [ 25, 7, 5, 16, 11 ];\n",
       "    \n",
       "    d3.select6(\"g\")\n",
       "        .selectAll(\"div\")\n",
       "        .data(array).enter()\n",
       "        .append(\"div\")\n",
       "        .attr(\"class\", \"divbar3\")\n",
       "        .style(\"height\", function(d) { return d*5+\"px\"; });   \n",
       "</script>\n",
       "</g>"
      ],
      "text/plain": [
       "<IPython.core.display.HTML object>"
      ]
     },
     "metadata": {},
     "output_type": "display_data"
    }
   ],
   "source": [
    "%%d3\n",
    "\n",
    "<style>\n",
    "    div.divbar3 {\n",
    "        display: inline-block;\n",
    "        width: 20px;\n",
    "        height: 75px;   \n",
    "        background-color: teal;\n",
    "        margin-right: 2px;\n",
    "    }\n",
    "</style>\n",
    "\n",
    "<g />\n",
    "\n",
    "<script>\n",
    "    var array = [ 25, 7, 5, 16, 11 ];\n",
    "    \n",
    "    d3.select(\"g\")\n",
    "        .selectAll(\"div\")\n",
    "        .data(array).enter()\n",
    "        .append(\"div\")\n",
    "        .attr(\"class\", \"divbar3\")\n",
    "        .style(\"height\", function(d) { return d*5+\"px\"; });   \n",
    "</script>\n"
   ]
  },
  {
   "cell_type": "markdown",
   "metadata": {},
   "source": [
    "Ahora los array se incializan con valores random.\n",
    "\n",
    "En este caso, usaremos div, solo para agregar los valores de altura de forma dinámica con una función **Math.random()**"
   ]
  },
  {
   "cell_type": "code",
   "execution_count": 9,
   "metadata": {},
   "outputs": [
    {
     "data": {
      "text/html": [
       "\n",
       "<script>\n",
       "requirejs.config({\n",
       "    paths: {\n",
       "        d3: \"//cdnjs.cloudflare.com/ajax/libs/d3/3.5.17/d3\"\n",
       "    }\n",
       "});\n",
       "\n",
       "require(['d3'], function(d3) {\n",
       "    window.d3 = d3;\n",
       "});\n",
       "</script>\n",
       "<script>\n",
       "_select = d3.select;\n",
       "\n",
       "d3.select7 = function(selection) {\n",
       "    return _select(\"#d3-cell-7\").select(selection);\n",
       "}\n",
       "d3.selectAll7 = function(selection) {\n",
       "    return _select(\"#d3-cell-7\").selectAll(selection);\n",
       "}\n",
       "</script>\n",
       "<g id=\"d3-cell-7\">\n",
       "\n",
       "<style>\n",
       "div.divbar4 {\n",
       "    display: inline-block;\n",
       "    width: 1%;\n",
       "    height: 75px;   \n",
       "    background-color: teal;\n",
       "    margin-right: 2px;\n",
       "}\n",
       "</style>\n",
       "\n",
       "<g />\n",
       "\n",
       "<script>\n",
       "    var dataset = [ ];\n",
       "    \n",
       "     for (var i = 0; i < 70; i++) {\n",
       "         var newNumber = Math.round(Math.random() * 30);\n",
       "         dataset.push(newNumber);\n",
       "     }\n",
       "        \n",
       "    d3.select7(\"g\")\n",
       "        .selectAll(\"div\")\n",
       "        .data(dataset).enter()\n",
       "        .append(\"div\")\n",
       "        .attr(\"class\", \"divbar4\")\n",
       "        .style(\"height\", function(d) { return d*5+\"px\"; });   \n",
       "</script>\n",
       "</g>"
      ],
      "text/plain": [
       "<IPython.core.display.HTML object>"
      ]
     },
     "metadata": {},
     "output_type": "display_data"
    }
   ],
   "source": [
    "%%d3\n",
    "\n",
    "<style>\n",
    "div.divbar4 {\n",
    "    display: inline-block;\n",
    "    width: 1%;\n",
    "    height: 75px;   \n",
    "    background-color: teal;\n",
    "    margin-right: 2px;\n",
    "}\n",
    "</style>\n",
    "\n",
    "<g />\n",
    "\n",
    "<script>\n",
    "    var dataset = [ ];\n",
    "    \n",
    "     for (var i = 0; i < 70; i++) {\n",
    "         var newNumber = Math.round(Math.random() * 30);\n",
    "         dataset.push(newNumber);\n",
    "     }\n",
    "        \n",
    "    d3.select(\"g\")\n",
    "        .selectAll(\"div\")\n",
    "        .data(dataset).enter()\n",
    "        .append(\"div\")\n",
    "        .attr(\"class\", \"divbar4\")\n",
    "        .style(\"height\", function(d) { return d*5+\"px\"; });   \n",
    "</script>\n"
   ]
  },
  {
   "cell_type": "markdown",
   "metadata": {},
   "source": [
    "## d3 y SVG\n",
    "\n",
    "Para trabajar dentro de un SVG hay que recordar que es necesario cambiar el **background-color** por **fill** y considerar las posiciones **x**. En este caso, al tratarse de una sola barra, no se ocupa."
   ]
  },
  {
   "cell_type": "code",
   "execution_count": 10,
   "metadata": {},
   "outputs": [
    {
     "data": {
      "text/html": [
       "\n",
       "<script>\n",
       "requirejs.config({\n",
       "    paths: {\n",
       "        d3: \"//cdnjs.cloudflare.com/ajax/libs/d3/3.5.17/d3\"\n",
       "    }\n",
       "});\n",
       "\n",
       "require(['d3'], function(d3) {\n",
       "    window.d3 = d3;\n",
       "});\n",
       "</script>\n",
       "<script>\n",
       "_select = d3.select;\n",
       "\n",
       "d3.select8 = function(selection) {\n",
       "    return _select(\"#d3-cell-8\").select(selection);\n",
       "}\n",
       "d3.selectAll8 = function(selection) {\n",
       "    return _select(\"#d3-cell-8\").selectAll(selection);\n",
       "}\n",
       "</script>\n",
       "<g id=\"d3-cell-8\">\n",
       "\n",
       "<svg />\n",
       "\n",
       "<script>\n",
       "    var bar = d3.select8(\"svg\")\n",
       "        .append(\"rect\")\n",
       "        .attr(\"width\", \"20px\")\n",
       "        .attr(\"height\", \"75px\")\n",
       "        .attr(\"fill\", \"teal\");\n",
       "</script>\n",
       "</g>"
      ],
      "text/plain": [
       "<IPython.core.display.HTML object>"
      ]
     },
     "metadata": {},
     "output_type": "display_data"
    }
   ],
   "source": [
    "%%d3\n",
    "\n",
    "<svg />\n",
    "\n",
    "<script>\n",
    "    var bar = d3.select(\"svg\")\n",
    "        .append(\"rect\")\n",
    "        .attr(\"width\", \"20px\")\n",
    "        .attr(\"height\", \"75px\")\n",
    "        .attr(\"fill\", \"teal\");\n",
    "</script>"
   ]
  },
  {
   "cell_type": "markdown",
   "metadata": {},
   "source": [
    "## d3, SVG y Style"
   ]
  },
  {
   "cell_type": "code",
   "execution_count": 11,
   "metadata": {
    "scrolled": true
   },
   "outputs": [
    {
     "data": {
      "text/html": [
       "\n",
       "<script>\n",
       "requirejs.config({\n",
       "    paths: {\n",
       "        d3: \"//cdnjs.cloudflare.com/ajax/libs/d3/3.5.17/d3\"\n",
       "    }\n",
       "});\n",
       "\n",
       "require(['d3'], function(d3) {\n",
       "    window.d3 = d3;\n",
       "});\n",
       "</script>\n",
       "<script>\n",
       "_select = d3.select;\n",
       "\n",
       "d3.select9 = function(selection) {\n",
       "    return _select(\"#d3-cell-9\").select(selection);\n",
       "}\n",
       "d3.selectAll9 = function(selection) {\n",
       "    return _select(\"#d3-cell-9\").selectAll(selection);\n",
       "}\n",
       "</script>\n",
       "<g id=\"d3-cell-9\">\n",
       "\n",
       "<style>\n",
       "    rect.rectbar2 {\n",
       "        width: 20px;\n",
       "        height: 75px;\n",
       "        fill: teal;\n",
       "    }\n",
       "</style>\n",
       "\n",
       "<svg />\n",
       "\n",
       "<script>\n",
       "    d3.select9(\"svg\")\n",
       "        .append(\"rect\")\n",
       "        .attr(\"class\", \"rectbar2\")\n",
       "        .attr(\"x\", 0);\n",
       "    \n",
       "    d3.select9(\"svg\")\n",
       "        .append(\"rect\")\n",
       "        .attr(\"class\", \"rectbar2\")\n",
       "        .attr(\"x\", 22);\n",
       "</script>\n",
       "</g>"
      ],
      "text/plain": [
       "<IPython.core.display.HTML object>"
      ]
     },
     "metadata": {},
     "output_type": "display_data"
    }
   ],
   "source": [
    "%%d3\n",
    "\n",
    "<style>\n",
    "    rect.rectbar2 {\n",
    "        width: 20px;\n",
    "        height: 75px;\n",
    "        fill: teal;\n",
    "    }\n",
    "</style>\n",
    "\n",
    "<svg />\n",
    "\n",
    "<script>\n",
    "    d3.select(\"svg\")\n",
    "        .append(\"rect\")\n",
    "        .attr(\"class\", \"rectbar2\")\n",
    "        .attr(\"x\", 0);\n",
    "    \n",
    "    d3.select(\"svg\")\n",
    "        .append(\"rect\")\n",
    "        .attr(\"class\", \"rectbar2\")\n",
    "        .attr(\"x\", 22);\n",
    "</script>"
   ]
  },
  {
   "cell_type": "markdown",
   "metadata": {},
   "source": [
    "## d3, SVG, Style y Array\n",
    "\n",
    "Para hacer que funcione, sin tener que agregar de forma manual los valores de x para cada barra, agregamos una función para el atributo **x**."
   ]
  },
  {
   "cell_type": "code",
   "execution_count": 12,
   "metadata": {},
   "outputs": [
    {
     "data": {
      "text/html": [
       "\n",
       "<script>\n",
       "requirejs.config({\n",
       "    paths: {\n",
       "        d3: \"//cdnjs.cloudflare.com/ajax/libs/d3/3.5.17/d3\"\n",
       "    }\n",
       "});\n",
       "\n",
       "require(['d3'], function(d3) {\n",
       "    window.d3 = d3;\n",
       "});\n",
       "</script>\n",
       "<script>\n",
       "_select = d3.select;\n",
       "\n",
       "d3.select10 = function(selection) {\n",
       "    return _select(\"#d3-cell-10\").select(selection);\n",
       "}\n",
       "d3.selectAll10 = function(selection) {\n",
       "    return _select(\"#d3-cell-10\").selectAll(selection);\n",
       "}\n",
       "</script>\n",
       "<g id=\"d3-cell-10\">\n",
       "\n",
       "<svg width=500 height=100 />\n",
       "\n",
       "<script>\n",
       "    var dataset = [ ];\n",
       "    \n",
       "     for (var i = 0; i < 10; i++) {\n",
       "         dataset.push(Math.round(Math.random() * 20));\n",
       "     }\n",
       "    \n",
       "    var svg = d3.select10(\"svg\");\n",
       "    var w = svg.attr(\"width\");\n",
       "    \n",
       "    svg.selectAll(\"rect\")\n",
       "        .data(dataset).enter()\n",
       "        .append(\"rect\")\n",
       "        .attr(\"x\", function(d, i) {return i*(w/dataset.length); })\n",
       "        .attr(\"y\", 0)\n",
       "        .attr(\"width\", 20)\n",
       "        .attr(\"height\", function(d) {return (d * 5) + \"px\"; });\n",
       "    \n",
       "</script>\n",
       "</g>"
      ],
      "text/plain": [
       "<IPython.core.display.HTML object>"
      ]
     },
     "metadata": {},
     "output_type": "display_data"
    }
   ],
   "source": [
    "%%d3\n",
    "\n",
    "<svg width=500 height=100 />\n",
    "\n",
    "<script>\n",
    "    var dataset = [ ];\n",
    "    \n",
    "     for (var i = 0; i < 10; i++) {\n",
    "         dataset.push(Math.round(Math.random() * 20));\n",
    "     }\n",
    "    \n",
    "    var svg = d3.select(\"svg\");\n",
    "    var w = svg.attr(\"width\");\n",
    "    \n",
    "    svg.selectAll(\"rect\")\n",
    "        .data(dataset).enter()\n",
    "        .append(\"rect\")\n",
    "        .attr(\"x\", function(d, i) {return i*(w/dataset.length); })\n",
    "        .attr(\"y\", 0)\n",
    "        .attr(\"width\", 20)\n",
    "        .attr(\"height\", function(d) {return (d * 5) + \"px\"; });\n",
    "    \n",
    "</script>"
   ]
  },
  {
   "cell_type": "markdown",
   "metadata": {},
   "source": [
    "En el caso anterior, se puede apreciar que las barras quedan separadas. Esto es porque el SVG toma todo el espacio disponible. Para completar el espacio, ajustamos el **width**, agregando un atributo de **padding**, que indica cuanto espacio hay entre barra y barra."
   ]
  },
  {
   "cell_type": "code",
   "execution_count": 13,
   "metadata": {
    "scrolled": true
   },
   "outputs": [
    {
     "data": {
      "text/html": [
       "\n",
       "<script>\n",
       "requirejs.config({\n",
       "    paths: {\n",
       "        d3: \"//cdnjs.cloudflare.com/ajax/libs/d3/3.5.17/d3\"\n",
       "    }\n",
       "});\n",
       "\n",
       "require(['d3'], function(d3) {\n",
       "    window.d3 = d3;\n",
       "});\n",
       "</script>\n",
       "<script>\n",
       "_select = d3.select;\n",
       "\n",
       "d3.select11 = function(selection) {\n",
       "    return _select(\"#d3-cell-11\").select(selection);\n",
       "}\n",
       "d3.selectAll11 = function(selection) {\n",
       "    return _select(\"#d3-cell-11\").selectAll(selection);\n",
       "}\n",
       "</script>\n",
       "<g id=\"d3-cell-11\">\n",
       "\n",
       "<svg width=500 height=100 />\n",
       "\n",
       "<script>\n",
       "    var dataset = [ ];\n",
       "    \n",
       "     for (var i = 0; i < 10; i++) {\n",
       "         dataset.push(Math.round(Math.random() * 20));\n",
       "     }\n",
       "    \n",
       "    \n",
       "    var barPadding = 2;\n",
       "\n",
       "    var svg = d3.select11(\"svg\");\n",
       "    var w = svg.attr(\"width\");\n",
       "    \n",
       "    svg.selectAll(\"rect\")\n",
       "        .data(dataset)\n",
       "        .enter()\n",
       "        .append(\"rect\")\n",
       "        .attr(\"x\", function(d, i) {return i * (w / dataset.length); })\n",
       "        .attr(\"width\", w / dataset.length - barPadding)\n",
       "        .attr(\"height\", function(d) {return (d * 5) + \"px\"; });\n",
       "    \n",
       "</script>\n",
       "</g>"
      ],
      "text/plain": [
       "<IPython.core.display.HTML object>"
      ]
     },
     "metadata": {},
     "output_type": "display_data"
    }
   ],
   "source": [
    "%%d3\n",
    "\n",
    "<svg width=500 height=100 />\n",
    "\n",
    "<script>\n",
    "    var dataset = [ ];\n",
    "    \n",
    "     for (var i = 0; i < 10; i++) {\n",
    "         dataset.push(Math.round(Math.random() * 20));\n",
    "     }\n",
    "    \n",
    "    \n",
    "    var barPadding = 2;\n",
    "\n",
    "    var svg = d3.select(\"svg\");\n",
    "    var w = svg.attr(\"width\");\n",
    "    \n",
    "    svg.selectAll(\"rect\")\n",
    "        .data(dataset).enter()\n",
    "        .append(\"rect\")\n",
    "        .attr(\"x\", function(d, i) {return i * (w / dataset.length); })\n",
    "        .attr(\"width\", w / dataset.length - barPadding)\n",
    "        .attr(\"height\", function(d) {return (d * 5) + \"px\"; });\n",
    "    \n",
    "</script>"
   ]
  },
  {
   "cell_type": "markdown",
   "metadata": {},
   "source": [
    "Mostrando un ejemplo ahora para 70 barras:"
   ]
  },
  {
   "cell_type": "code",
   "execution_count": 14,
   "metadata": {},
   "outputs": [
    {
     "data": {
      "text/html": [
       "\n",
       "<script>\n",
       "requirejs.config({\n",
       "    paths: {\n",
       "        d3: \"//cdnjs.cloudflare.com/ajax/libs/d3/3.5.17/d3\"\n",
       "    }\n",
       "});\n",
       "\n",
       "require(['d3'], function(d3) {\n",
       "    window.d3 = d3;\n",
       "});\n",
       "</script>\n",
       "<script>\n",
       "_select = d3.select;\n",
       "\n",
       "d3.select12 = function(selection) {\n",
       "    return _select(\"#d3-cell-12\").select(selection);\n",
       "}\n",
       "d3.selectAll12 = function(selection) {\n",
       "    return _select(\"#d3-cell-12\").selectAll(selection);\n",
       "}\n",
       "</script>\n",
       "<g id=\"d3-cell-12\">\n",
       "\n",
       "<svg width=500 height=100 />\n",
       "\n",
       "<script>\n",
       "    var dataset = [];\n",
       "\n",
       "    for(var i = 0; i < 70; i++){ dataset.push(Math.random()*20); }\n",
       "\n",
       "    var barPadding = 2;\n",
       "\n",
       "    var svg = d3.select12(\"svg\");\n",
       "    var w = svg.attr(\"width\");\n",
       "    \n",
       "    svg.selectAll(\"rect\")\n",
       "        .data(dataset)\n",
       "        .enter()\n",
       "        .append(\"rect\")\n",
       "        .attr(\"x\", function(d, i) {return i * (w / dataset.length);})\n",
       "        .attr(\"y\", 0)\n",
       "        .attr(\"width\", w / dataset.length - barPadding)\n",
       "        .attr(\"height\", function(d) {return (d * 5) + \"px\";});\n",
       "</script>\n",
       "</g>"
      ],
      "text/plain": [
       "<IPython.core.display.HTML object>"
      ]
     },
     "metadata": {},
     "output_type": "display_data"
    }
   ],
   "source": [
    "%%d3\n",
    "\n",
    "<svg width=500 height=100 />\n",
    "\n",
    "<script>\n",
    "    var dataset = [];\n",
    "\n",
    "    for(var i = 0; i < 70; i++){ dataset.push(Math.random()*20); }\n",
    "\n",
    "    var barPadding = 2;\n",
    "\n",
    "    var svg = d3.select(\"svg\");\n",
    "    var w = svg.attr(\"width\");\n",
    "    \n",
    "    svg.selectAll(\"rect\")\n",
    "        .data(dataset).enter()\n",
    "        .append(\"rect\")\n",
    "        .attr(\"x\", function(d, i) {return i * (w / dataset.length);})\n",
    "        .attr(\"y\", 0)\n",
    "        .attr(\"width\", w / dataset.length - barPadding)\n",
    "        .attr(\"height\", function(d) {return (d * 5) + \"px\";});\n",
    "</script>"
   ]
  },
  {
   "cell_type": "markdown",
   "metadata": {},
   "source": [
    "### Corregir altura\n",
    "\n",
    "En los ejemplos anteriores, las barras empiezan desde arriba. Esto es porque en general, en las imágenes, las posiciones **(x,y)** contemplan el origen en la esquina superior derecha.\n",
    "\n",
    "Para arreglar esto, calculamos la altura de la barra **height** y la función **y**."
   ]
  },
  {
   "cell_type": "code",
   "execution_count": 19,
   "metadata": {},
   "outputs": [
    {
     "data": {
      "text/html": [
       "\n",
       "<script>\n",
       "requirejs.config({\n",
       "    paths: {\n",
       "        d3: \"//cdnjs.cloudflare.com/ajax/libs/d3/3.5.17/d3\"\n",
       "    }\n",
       "});\n",
       "\n",
       "require(['d3'], function(d3) {\n",
       "    window.d3 = d3;\n",
       "});\n",
       "</script>\n",
       "<script>\n",
       "_select = d3.select;\n",
       "\n",
       "d3.select17 = function(selection) {\n",
       "    return _select(\"#d3-cell-17\").select(selection);\n",
       "}\n",
       "d3.selectAll17 = function(selection) {\n",
       "    return _select(\"#d3-cell-17\").selectAll(selection);\n",
       "}\n",
       "</script>\n",
       "<g id=\"d3-cell-17\">\n",
       "\n",
       "<svg width=500 height=100 />\n",
       "\n",
       "<script>\n",
       "    var dataset = [];\n",
       "    \n",
       "    for(var i = 0; i < 70; i++){ dataset.push(Math.random()*100); }\n",
       "\n",
       "    var barPadding = 2;\n",
       "\n",
       "    var svg = d3.select17(\"svg\");\n",
       "    var w = svg.attr(\"width\");\n",
       "    var h = svg.attr(\"height\");\n",
       "    \n",
       "    svg.selectAll(\"rect\")\n",
       "        .data(dataset)\n",
       "        .enter()\n",
       "        .append(\"rect\")\n",
       "        .attr(\"x\", function(d, i) {return i * (w / dataset.length);})\n",
       "        .attr(\"y\", function(d){return h-d;})\n",
       "        .attr(\"width\", w / dataset.length - barPadding)\n",
       "        .attr(\"height\", function(d) {return (d * 5) + \"px\";})\n",
       "        .attr(\"fill\", \"teal\");\n",
       "        \n",
       "</script>\n",
       "</g>"
      ],
      "text/plain": [
       "<IPython.core.display.HTML object>"
      ]
     },
     "metadata": {},
     "output_type": "display_data"
    }
   ],
   "source": [
    "%%d3\n",
    "\n",
    "<svg width=500 height=100 />\n",
    "\n",
    "<script>\n",
    "    var dataset = [];\n",
    "    \n",
    "    for(var i = 0; i < 70; i++){ dataset.push(Math.random()*100); }\n",
    "\n",
    "    var barPadding = 2;\n",
    "\n",
    "    var svg = d3.select(\"svg\");\n",
    "    var w = svg.attr(\"width\");\n",
    "    var h = svg.attr(\"height\");\n",
    "    \n",
    "    svg.selectAll(\"rect\")\n",
    "        .data(dataset).enter()\n",
    "        .append(\"rect\")\n",
    "        .attr(\"x\", function(d, i) {return i * (w / dataset.length);})\n",
    "        .attr(\"y\", function(d){return h-d;})\n",
    "        .attr(\"width\", w / dataset.length - barPadding)\n",
    "        .attr(\"height\", function(d) {return (d * 5) + \"px\";})\n",
    "        .attr(\"fill\", \"teal\");\n",
    "        \n",
    "</script>"
   ]
  },
  {
   "cell_type": "markdown",
   "metadata": {},
   "source": [
    "### Colors"
   ]
  },
  {
   "cell_type": "code",
   "execution_count": 22,
   "metadata": {},
   "outputs": [
    {
     "data": {
      "text/html": [
       "\n",
       "<script>\n",
       "requirejs.config({\n",
       "    paths: {\n",
       "        d3: \"//cdnjs.cloudflare.com/ajax/libs/d3/3.5.17/d3\"\n",
       "    }\n",
       "});\n",
       "\n",
       "require(['d3'], function(d3) {\n",
       "    window.d3 = d3;\n",
       "});\n",
       "</script>\n",
       "<script>\n",
       "_select = d3.select;\n",
       "\n",
       "d3.select20 = function(selection) {\n",
       "    return _select(\"#d3-cell-20\").select(selection);\n",
       "}\n",
       "d3.selectAll20 = function(selection) {\n",
       "    return _select(\"#d3-cell-20\").selectAll(selection);\n",
       "}\n",
       "</script>\n",
       "<g id=\"d3-cell-20\">\n",
       "\n",
       "<svg width=500 height=100 />\n",
       "\n",
       "<script>\n",
       "    var dataset = [];\n",
       "    \n",
       "    for(var i = 0; i < 70; i++){ dataset.push(Math.random()*100); }\n",
       "\n",
       "    var barPadding = 2;\n",
       "\n",
       "    var svg = d3.select20(\"svg\");\n",
       "    var w = svg.attr(\"width\");\n",
       "    var h = svg.attr(\"height\");\n",
       "    \n",
       "    svg.selectAll(\"rect\")\n",
       "        .data(dataset)\n",
       "        .enter()\n",
       "        .append(\"rect\")\n",
       "        .attr(\"fill\", function(d){return \"rgb(0,0,p)\".replace(\"p\",Math.round(d*(255/100)));})\n",
       "        .attr(\"x\", function(d, i) {return i * (w / dataset.length);})\n",
       "        .attr(\"y\", function(d){return h-d;})\n",
       "        .attr(\"width\", w / dataset.length - barPadding)\n",
       "        .attr(\"height\", function(d) {return (d * 5) + \"px\";})\n",
       "        \n",
       "</script>\n",
       "</g>"
      ],
      "text/plain": [
       "<IPython.core.display.HTML object>"
      ]
     },
     "metadata": {},
     "output_type": "display_data"
    }
   ],
   "source": [
    "%%d3\n",
    "\n",
    "<svg width=500 height=100 />\n",
    "\n",
    "<script>\n",
    "    var dataset = [];\n",
    "    \n",
    "    for(var i = 0; i < 70; i++){ dataset.push(Math.random()*100); }\n",
    "\n",
    "    var barPadding = 2;\n",
    "\n",
    "    var svg = d3.select(\"svg\");\n",
    "    var w = svg.attr(\"width\");\n",
    "    var h = svg.attr(\"height\");\n",
    "    \n",
    "    svg.selectAll(\"rect\")\n",
    "        .data(dataset).enter()\n",
    "        .append(\"rect\")        \n",
    "        .attr(\"x\", function(d, i) {return i * (w / dataset.length);})\n",
    "        .attr(\"y\", function(d){return h-d;})\n",
    "        .attr(\"width\", w / dataset.length - barPadding)\n",
    "        .attr(\"height\", function(d) {return (d * 5) + \"px\";})\n",
    "        .attr(\"fill\", function(d){return \"rgb(0,0,p)\".replace(\"p\",Math.round(d*(255/100)));});\n",
    "        \n",
    "</script>"
   ]
  },
  {
   "cell_type": "markdown",
   "metadata": {},
   "source": [
    "### Text Annotations"
   ]
  },
  {
   "cell_type": "code",
   "execution_count": 28,
   "metadata": {},
   "outputs": [
    {
     "data": {
      "text/html": [
       "\n",
       "<script>\n",
       "requirejs.config({\n",
       "    paths: {\n",
       "        d3: \"//cdnjs.cloudflare.com/ajax/libs/d3/3.5.17/d3\"\n",
       "    }\n",
       "});\n",
       "\n",
       "require(['d3'], function(d3) {\n",
       "    window.d3 = d3;\n",
       "});\n",
       "</script>\n",
       "<script>\n",
       "_select = d3.select;\n",
       "\n",
       "d3.select26 = function(selection) {\n",
       "    return _select(\"#d3-cell-26\").select(selection);\n",
       "}\n",
       "d3.selectAll26 = function(selection) {\n",
       "    return _select(\"#d3-cell-26\").selectAll(selection);\n",
       "}\n",
       "</script>\n",
       "<g id=\"d3-cell-26\">\n",
       "\n",
       "<svg width=500 height=120 />\n",
       "\n",
       "<script>\n",
       "    var dataset = [];\n",
       "    \n",
       "    for(var i = 0; i < 20; i++){ dataset.push(Math.round(Math.random()*100)); }\n",
       "\n",
       "    var barPadding = 2;\n",
       "\n",
       "    var svg = d3.select26(\"svg\");\n",
       "    var w = svg.attr(\"width\");\n",
       "    var h = svg.attr(\"height\");\n",
       "    \n",
       "    svg.selectAll(\"rect\")\n",
       "        .data(dataset).enter()\n",
       "        .append(\"rect\")        \n",
       "        .attr(\"x\", function(d, i) {return i * (w / dataset.length);})\n",
       "        .attr(\"y\", function(d){return h-d;})\n",
       "        .attr(\"width\", w / dataset.length - barPadding)\n",
       "        .attr(\"height\", function(d) {return (d * 5) + \"px\";})\n",
       "        .attr(\"fill\", function(d){return \"rgb(0,0,p)\".replace(\"p\",Math.round(d*(255/100)));});\n",
       "        \n",
       "    svg.selectAll(\"text\")\n",
       "        .data(dataset).enter()\n",
       "        .append(\"text\")\n",
       "        .text(function(d){return d;})\n",
       "        .attr(\"x\", function(d,i){return i*(w/dataset.length)+2;})\n",
       "        .attr(\"y\", function(d){return h-d-1;});\n",
       "</script>\n",
       "</g>"
      ],
      "text/plain": [
       "<IPython.core.display.HTML object>"
      ]
     },
     "metadata": {},
     "output_type": "display_data"
    }
   ],
   "source": [
    "%%d3\n",
    "\n",
    "<svg width=500 height=120 />\n",
    "\n",
    "<script>\n",
    "    var dataset = [];\n",
    "    \n",
    "    for(var i = 0; i < 20; i++){ dataset.push(Math.round(Math.random()*100)); }\n",
    "\n",
    "    var barPadding = 2;\n",
    "\n",
    "    var svg = d3.select(\"svg\");\n",
    "    var w = svg.attr(\"width\");\n",
    "    var h = svg.attr(\"height\");\n",
    "    \n",
    "    svg.selectAll(\"rect\")\n",
    "        .data(dataset).enter()\n",
    "        .append(\"rect\")        \n",
    "        .attr(\"x\", function(d, i) {return i * (w / dataset.length);})\n",
    "        .attr(\"y\", function(d){return h-d;})\n",
    "        .attr(\"width\", w / dataset.length - barPadding)\n",
    "        .attr(\"height\", function(d) {return (d * 5) + \"px\";})\n",
    "        .attr(\"fill\", function(d){return \"rgb(0,0,p)\".replace(\"p\",Math.round(d*(255/100)));});\n",
    "        \n",
    "    svg.selectAll(\"text\")\n",
    "        .data(dataset).enter()\n",
    "        .append(\"text\")\n",
    "        .text(function(d){return d;})\n",
    "        .attr(\"x\", function(d,i){return i*(w/dataset.length)+2;})\n",
    "        .attr(\"y\", function(d){return h-d-1;});\n",
    "</script>"
   ]
  },
  {
   "cell_type": "markdown",
   "metadata": {},
   "source": [
    "### Text Annotation 2"
   ]
  },
  {
   "cell_type": "code",
   "execution_count": 31,
   "metadata": {},
   "outputs": [
    {
     "data": {
      "text/html": [
       "\n",
       "<script>\n",
       "requirejs.config({\n",
       "    paths: {\n",
       "        d3: \"//cdnjs.cloudflare.com/ajax/libs/d3/3.5.17/d3\"\n",
       "    }\n",
       "});\n",
       "\n",
       "require(['d3'], function(d3) {\n",
       "    window.d3 = d3;\n",
       "});\n",
       "</script>\n",
       "<script>\n",
       "_select = d3.select;\n",
       "\n",
       "d3.select29 = function(selection) {\n",
       "    return _select(\"#d3-cell-29\").select(selection);\n",
       "}\n",
       "d3.selectAll29 = function(selection) {\n",
       "    return _select(\"#d3-cell-29\").selectAll(selection);\n",
       "}\n",
       "</script>\n",
       "<g id=\"d3-cell-29\">\n",
       "\n",
       "<svg width=500 height=120 />\n",
       "\n",
       "<script>\n",
       "    var dataset = [];\n",
       "    \n",
       "    for(var i = 0; i < 10; i++){ dataset.push(Math.round(Math.random()*100)); }\n",
       "\n",
       "    var barPadding = 2;\n",
       "\n",
       "    var svg = d3.select29(\"svg\");\n",
       "    var w = svg.attr(\"width\");\n",
       "    var h = svg.attr(\"height\");\n",
       "    \n",
       "    svg.selectAll(\"rect\")\n",
       "        .data(dataset).enter()\n",
       "        .append(\"rect\")        \n",
       "        .attr(\"x\", function(d, i) {return i * (w / dataset.length);})\n",
       "        .attr(\"y\", function(d){return h-d;})\n",
       "        .attr(\"width\", w / dataset.length - barPadding)\n",
       "        .attr(\"height\", function(d) {return (d * 5) + \"px\";})\n",
       "        .attr(\"fill\", function(d){return \"rgb(0,0,p)\".replace(\"p\",Math.round(d*(255/100)));});\n",
       "        \n",
       "    svg.selectAll(\"text\")\n",
       "        .data(dataset).enter()\n",
       "        .append(\"text\")\n",
       "        .text(function(d){return d;})\n",
       "        .attr(\"x\", function(d,i){return i * (w / dataset.length) + (w / dataset.length - barPadding) / 2;})\n",
       "        .attr(\"y\", function(d){return h-d+15;})\n",
       "        .attr(\"font-family\", \"sans-serif\")\n",
       "        .attr(\"font-size\", \"11px\")\n",
       "        .attr(\"fill\", \"white\")\n",
       "        .attr(\"text-anchor\", \"middle\");\n",
       "</script>\n",
       "</g>"
      ],
      "text/plain": [
       "<IPython.core.display.HTML object>"
      ]
     },
     "metadata": {},
     "output_type": "display_data"
    }
   ],
   "source": [
    "%%d3\n",
    "\n",
    "<svg width=500 height=120 />\n",
    "\n",
    "<script>\n",
    "    var dataset = [];\n",
    "    \n",
    "    for(var i = 0; i < 10; i++){ dataset.push(Math.round(Math.random()*100)); }\n",
    "\n",
    "    var barPadding = 2;\n",
    "\n",
    "    var svg = d3.select(\"svg\");\n",
    "    var w = svg.attr(\"width\");\n",
    "    var h = svg.attr(\"height\");\n",
    "    \n",
    "    svg.selectAll(\"rect\")\n",
    "        .data(dataset).enter()\n",
    "        .append(\"rect\")        \n",
    "        .attr(\"x\", function(d, i) {return i * (w / dataset.length);})\n",
    "        .attr(\"y\", function(d){return h-d;})\n",
    "        .attr(\"width\", w / dataset.length - barPadding)\n",
    "        .attr(\"height\", function(d) {return (d * 5) + \"px\";})\n",
    "        .attr(\"fill\", function(d){return \"rgb(0,0,p)\".replace(\"p\",Math.round(d*(255/100)));});\n",
    "        \n",
    "    svg.selectAll(\"text\")\n",
    "        .data(dataset).enter()\n",
    "        .append(\"text\")\n",
    "        .text(function(d){return d;})\n",
    "        .attr(\"x\", function(d,i){return i * (w / dataset.length) + (w / dataset.length - barPadding) / 2;})\n",
    "        .attr(\"y\", function(d){return h-d+15;})\n",
    "        .attr(\"font-family\", \"sans-serif\")\n",
    "        .attr(\"font-size\", \"11px\")\n",
    "        .attr(\"fill\", \"white\")\n",
    "        .attr(\"text-anchor\", \"middle\");\n",
    "</script>"
   ]
  }
 ],
 "metadata": {
  "kernelspec": {
   "display_name": "Python 3",
   "language": "python",
   "name": "python3"
  },
  "language_info": {
   "codemirror_mode": {
    "name": "ipython",
    "version": 3
   },
   "file_extension": ".py",
   "mimetype": "text/x-python",
   "name": "python",
   "nbconvert_exporter": "python",
   "pygments_lexer": "ipython3",
   "version": "3.6.3"
  }
 },
 "nbformat": 4,
 "nbformat_minor": 2
}
