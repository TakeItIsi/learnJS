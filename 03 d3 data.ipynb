{
 "cells": [
  {
   "cell_type": "markdown",
   "metadata": {},
   "source": [
    "# Imports"
   ]
  },
  {
   "cell_type": "code",
   "execution_count": 1,
   "metadata": {},
   "outputs": [],
   "source": [
    "import py_d3\n",
    "%reload_ext py_d3"
   ]
  },
  {
   "cell_type": "markdown",
   "metadata": {},
   "source": [
    "# Dictionary"
   ]
  },
  {
   "cell_type": "code",
   "execution_count": 2,
   "metadata": {},
   "outputs": [
    {
     "data": {
      "text/html": [
       "\n",
       "<script>\n",
       "requirejs.config({\n",
       "    paths: {\n",
       "        d3: \"//cdnjs.cloudflare.com/ajax/libs/d3/3.5.17/d3\"\n",
       "    }\n",
       "});\n",
       "\n",
       "require(['d3'], function(d3) {\n",
       "    window.d3 = d3;\n",
       "});\n",
       "</script>\n",
       "<script>\n",
       "_select = d3.select;\n",
       "\n",
       "d3.select0 = function(selection) {\n",
       "    return _select(\"#d3-cell-0\").select(selection);\n",
       "}\n",
       "d3.selectAll0 = function(selection) {\n",
       "    return _select(\"#d3-cell-0\").selectAll(selection);\n",
       "}\n",
       "</script>\n",
       "<g id=\"d3-cell-0\">\n",
       "\n",
       "<g />\n",
       "\n",
       "<script>\n",
       "    var fruta ={\n",
       "        name:\"uva\",\n",
       "    };\n",
       "    \n",
       "    d3.select0(\"g\")\n",
       "        .append(\"p\")\n",
       "        .text(fruta.name)\n",
       "</script>\n",
       "</g>"
      ],
      "text/plain": [
       "<IPython.core.display.HTML object>"
      ]
     },
     "metadata": {},
     "output_type": "display_data"
    }
   ],
   "source": [
    "%%d3\n",
    "\n",
    "<g />\n",
    "\n",
    "<script>\n",
    "    var fruta ={\n",
    "        name:\"uva\",\n",
    "    };\n",
    "    \n",
    "    d3.select(\"g\")\n",
    "        .append(\"p\")\n",
    "        .text(fruta.name)\n",
    "</script>"
   ]
  },
  {
   "cell_type": "markdown",
   "metadata": {},
   "source": [
    "# Two elements"
   ]
  },
  {
   "cell_type": "code",
   "execution_count": 3,
   "metadata": {},
   "outputs": [
    {
     "data": {
      "text/html": [
       "\n",
       "<script>\n",
       "requirejs.config({\n",
       "    paths: {\n",
       "        d3: \"//cdnjs.cloudflare.com/ajax/libs/d3/3.5.17/d3\"\n",
       "    }\n",
       "});\n",
       "\n",
       "require(['d3'], function(d3) {\n",
       "    window.d3 = d3;\n",
       "});\n",
       "</script>\n",
       "<script>\n",
       "_select = d3.select;\n",
       "\n",
       "d3.select1 = function(selection) {\n",
       "    return _select(\"#d3-cell-1\").select(selection);\n",
       "}\n",
       "d3.selectAll1 = function(selection) {\n",
       "    return _select(\"#d3-cell-1\").selectAll(selection);\n",
       "}\n",
       "</script>\n",
       "<g id=\"d3-cell-1\">\n",
       "\n",
       "<g />\n",
       "\n",
       "<script>\n",
       "    var fruta1 = {\n",
       "        name:\"uva\",\n",
       "    };\n",
       "    var fruta2 = {\n",
       "        name:\"manzana\",\n",
       "    };\n",
       "    var frutas = [fruta1, fruta2]\n",
       "    \n",
       "    d3.select1(\"g\")\n",
       "        .append(\"p\")\n",
       "        .text(frutas[0].name)\n",
       "        .append(\"p\")\n",
       "        .text(frutas[1].name)\n",
       "</script>\n",
       "</g>"
      ],
      "text/plain": [
       "<IPython.core.display.HTML object>"
      ]
     },
     "metadata": {},
     "output_type": "display_data"
    }
   ],
   "source": [
    "%%d3\n",
    "\n",
    "<g />\n",
    "\n",
    "<script>\n",
    "    var fruta1 = {\n",
    "        name:\"uva\",\n",
    "    };\n",
    "    var fruta2 = {\n",
    "        name:\"manzana\",\n",
    "    };\n",
    "    var frutas = [fruta1, fruta2]\n",
    "    \n",
    "    d3.select(\"g\")\n",
    "        .append(\"p\")\n",
    "        .text(frutas[0].name)\n",
    "        .append(\"p\")\n",
    "        .text(frutas[1].name)\n",
    "</script>"
   ]
  },
  {
   "cell_type": "markdown",
   "metadata": {},
   "source": [
    "# Elements and their values"
   ]
  },
  {
   "cell_type": "code",
   "execution_count": 4,
   "metadata": {},
   "outputs": [
    {
     "data": {
      "text/html": [
       "\n",
       "<script>\n",
       "requirejs.config({\n",
       "    paths: {\n",
       "        d3: \"//cdnjs.cloudflare.com/ajax/libs/d3/3.5.17/d3\"\n",
       "    }\n",
       "});\n",
       "\n",
       "require(['d3'], function(d3) {\n",
       "    window.d3 = d3;\n",
       "});\n",
       "</script>\n",
       "<script>\n",
       "_select = d3.select;\n",
       "\n",
       "d3.select2 = function(selection) {\n",
       "    return _select(\"#d3-cell-2\").select(selection);\n",
       "}\n",
       "d3.selectAll2 = function(selection) {\n",
       "    return _select(\"#d3-cell-2\").selectAll(selection);\n",
       "}\n",
       "</script>\n",
       "<g id=\"d3-cell-2\">\n",
       "\n",
       "<g />\n",
       "\n",
       "<script>\n",
       "    var uvas = []\n",
       "    \n",
       "    for (var i = 0; i < 5; i++) {\n",
       "        var uva = {name:\"uva\",\n",
       "                    size:10*i,\n",
       "        };\n",
       "        uvas.push(uva)\n",
       "    }\n",
       "    \n",
       "    for (var i = 0; i < uvas.length; i++){\n",
       "        d3.select2(\"g\")\n",
       "            .append(\"p\")\n",
       "            .text(uvas[i].size)\n",
       "    }\n",
       "    \n",
       "</script>\n",
       "</g>"
      ],
      "text/plain": [
       "<IPython.core.display.HTML object>"
      ]
     },
     "metadata": {},
     "output_type": "display_data"
    }
   ],
   "source": [
    "%%d3\n",
    "\n",
    "<g />\n",
    "\n",
    "<script>\n",
    "    var uvas = []\n",
    "    \n",
    "    for (var i = 0; i < 5; i++) {\n",
    "        var uva = {name:\"uva\",\n",
    "                    size:10*i,\n",
    "        };\n",
    "        uvas.push(uva)\n",
    "    }\n",
    "    \n",
    "    for (var i = 0; i < uvas.length; i++){\n",
    "        d3.select(\"g\")\n",
    "            .append(\"p\")\n",
    "            .text(uvas[i].size)\n",
    "    }\n",
    "    \n",
    "</script>"
   ]
  },
  {
   "cell_type": "markdown",
   "metadata": {},
   "source": [
    "# Elements to shapes"
   ]
  },
  {
   "cell_type": "code",
   "execution_count": 9,
   "metadata": {},
   "outputs": [
    {
     "data": {
      "text/html": [
       "\n",
       "<script>\n",
       "requirejs.config({\n",
       "    paths: {\n",
       "        d3: \"//cdnjs.cloudflare.com/ajax/libs/d3/3.5.17/d3\"\n",
       "    }\n",
       "});\n",
       "\n",
       "require(['d3'], function(d3) {\n",
       "    window.d3 = d3;\n",
       "});\n",
       "</script>\n",
       "<script>\n",
       "_select = d3.select;\n",
       "\n",
       "d3.select7 = function(selection) {\n",
       "    return _select(\"#d3-cell-7\").select(selection);\n",
       "}\n",
       "d3.selectAll7 = function(selection) {\n",
       "    return _select(\"#d3-cell-7\").selectAll(selection);\n",
       "}\n",
       "</script>\n",
       "<g id=\"d3-cell-7\">\n",
       "\n",
       "<svg width=800 height=100/>\n",
       "\n",
       "<script>\n",
       "    var uvas = []\n",
       "    \n",
       "    for (var i = 0; i < 5; i++) {\n",
       "        var uva = {name:\"uva\",\n",
       "                    color:\"red\",\n",
       "                    size:10*i,\n",
       "        };\n",
       "        uvas.push(uva)\n",
       "    }\n",
       "    \n",
       "        d3.select7(\"svg\")\n",
       "            .selectAll(\"circle\")\n",
       "            .data(uvas).enter()\n",
       "            .append(\"circle\")\n",
       "            .attr(\"cx\", function(d,i){return 20+d.size*5;})\n",
       "            .attr(\"cy\", 50)\n",
       "            .attr(\"r\", 20)\n",
       "            .attr(\"fill\", function(d,i){return d.color;})\n",
       "            .text(function(d,i){return d.name;}) //No se ve en el svg pero si en el chrome\n",
       "    \n",
       "</script>\n",
       "</g>"
      ],
      "text/plain": [
       "<IPython.core.display.HTML object>"
      ]
     },
     "metadata": {},
     "output_type": "display_data"
    }
   ],
   "source": [
    "%%d3\n",
    "\n",
    "<svg width=800 height=100/>\n",
    "\n",
    "<script>\n",
    "    var uvas = []\n",
    "    \n",
    "    for (var i = 0; i < 5; i++) {\n",
    "        var uva = {name:\"uva\",\n",
    "                    color:\"red\",\n",
    "                    size:10*i,\n",
    "        };\n",
    "        uvas.push(uva)\n",
    "    }\n",
    "    \n",
    "        d3.select(\"svg\")\n",
    "            .selectAll(\"circle\")\n",
    "            .data(uvas).enter()\n",
    "            .append(\"circle\")\n",
    "            .attr(\"cx\", function(d,i){return 20+d.size*5;})\n",
    "            .attr(\"cy\", 50)\n",
    "            .attr(\"r\", 20)\n",
    "            .attr(\"fill\", function(d,i){return d.color;})\n",
    "            .text(function(d,i){return d.name;}) //No se ve en el svg pero si en el chrome\n",
    "    \n",
    "</script>"
   ]
  },
  {
   "cell_type": "markdown",
   "metadata": {},
   "source": [
    "# Elements to shape with styles"
   ]
  },
  {
   "cell_type": "code",
   "execution_count": 11,
   "metadata": {
    "scrolled": true
   },
   "outputs": [
    {
     "data": {
      "text/html": [
       "\n",
       "<script>\n",
       "requirejs.config({\n",
       "    paths: {\n",
       "        d3: \"//cdnjs.cloudflare.com/ajax/libs/d3/3.5.17/d3\"\n",
       "    }\n",
       "});\n",
       "\n",
       "require(['d3'], function(d3) {\n",
       "    window.d3 = d3;\n",
       "});\n",
       "</script>\n",
       "<script>\n",
       "_select = d3.select;\n",
       "\n",
       "d3.select9 = function(selection) {\n",
       "    return _select(\"#d3-cell-9\").select(selection);\n",
       "}\n",
       "d3.selectAll9 = function(selection) {\n",
       "    return _select(\"#d3-cell-9\").selectAll(selection);\n",
       "}\n",
       "</script>\n",
       "<g id=\"d3-cell-9\">\n",
       "\n",
       "<svg width=800 height=100/>\n",
       "\n",
       "<script>\n",
       "    var uvas = []\n",
       "    \n",
       "    function getHexPair(d) { return (d*Math.round(Math.random()*256)).toString(16).substring(0,2); } ;\n",
       "\n",
       "    function getRandomColor(d) { return \"#\"+getHexPair(d)+getHexPair(d)+getHexPair(d); } ;\n",
       "    \n",
       "    for (var i = 0; i < 6; i++) {\n",
       "        var uva = {name:\"uva\",\n",
       "                    color: getRandomColor(i+1),\n",
       "                    size:10*i,\n",
       "        };\n",
       "        uvas.push(uva)\n",
       "    }\n",
       "    w = d3.select9(\"svg\")\n",
       "        .attr(\"width\")\n",
       "    \n",
       "        d3.select9(\"svg\")\n",
       "            .selectAll(\"circle\")\n",
       "            .data(uvas).enter()\n",
       "            .append(\"circle\")\n",
       "            .attr(\"cx\", function(d,i){return 20+d.size*w/(uvas.length*10);})\n",
       "            .attr(\"cy\", 50)\n",
       "            .attr(\"r\", 20)\n",
       "            .attr(\"fill\", function(d,i){return d.color;})\n",
       "            .text(function(d,i){return d.name;}) //No se ve en el svg pero si en el chrome\n",
       "    \n",
       "</script>\n",
       "</g>"
      ],
      "text/plain": [
       "<IPython.core.display.HTML object>"
      ]
     },
     "metadata": {},
     "output_type": "display_data"
    }
   ],
   "source": [
    "%%d3\n",
    "\n",
    "<svg width=800 height=100/>\n",
    "\n",
    "<script>\n",
    "    var uvas = []\n",
    "    \n",
    "    function getHexPair(d) { return (d*Math.round(Math.random()*256)).toString(16).substring(0,2); } ;\n",
    "\n",
    "    function getRandomColor(d) { return \"#\"+getHexPair(d)+getHexPair(d)+getHexPair(d); } ;\n",
    "    \n",
    "    for (var i = 0; i < 6; i++) {\n",
    "        var uva = {name:\"uva\",\n",
    "                    color: getRandomColor(i+1),\n",
    "                    size:10*i,\n",
    "        };\n",
    "        uvas.push(uva)\n",
    "    }\n",
    "    w = d3.select(\"svg\")\n",
    "        .attr(\"width\")\n",
    "    \n",
    "        d3.select(\"svg\")\n",
    "            .selectAll(\"circle\")\n",
    "            .data(uvas).enter()\n",
    "            .append(\"circle\")\n",
    "            .attr(\"cx\", function(d,i){return 20+d.size*w/(uvas.length*10);})\n",
    "            .attr(\"cy\", 50)\n",
    "            .attr(\"r\", 20)\n",
    "            .attr(\"fill\", function(d,i){return d.color;})\n",
    "            .text(function(d,i){return d.name;}) //No se ve en el svg pero si en el chrome\n",
    "    \n",
    "</script>"
   ]
  },
  {
   "cell_type": "markdown",
   "metadata": {},
   "source": [
    "# Save to disk (Client Side)"
   ]
  },
  {
   "cell_type": "code",
   "execution_count": 13,
   "metadata": {},
   "outputs": [
    {
     "data": {
      "text/html": [
       "\n",
       "<script>\n",
       "requirejs.config({\n",
       "    paths: {\n",
       "        d3: \"//cdnjs.cloudflare.com/ajax/libs/d3/3.5.17/d3\"\n",
       "    }\n",
       "});\n",
       "\n",
       "require(['d3'], function(d3) {\n",
       "    window.d3 = d3;\n",
       "});\n",
       "</script>\n",
       "<script>\n",
       "_select = d3.select;\n",
       "\n",
       "d3.select11 = function(selection) {\n",
       "    return _select(\"#d3-cell-11\").select(selection);\n",
       "}\n",
       "d3.selectAll11 = function(selection) {\n",
       "    return _select(\"#d3-cell-11\").selectAll(selection);\n",
       "}\n",
       "</script>\n",
       "<g id=\"d3-cell-11\">\n",
       "\n",
       "<svg width=800 height=100/>\n",
       "\n",
       "<script>\n",
       "    var uvas = []\n",
       "    \n",
       "    function getHexPair(d) { return (d*Math.round(Math.random()*256)).toString(16).substring(0,2); } ;\n",
       "\n",
       "    function getRandomColor(d) { return \"#\"+getHexPair(d)+getHexPair(d)+getHexPair(d); } ;\n",
       "    \n",
       "    for (var i = 0; i < 6; i++) {\n",
       "        var uva = {name:\"uva\",\n",
       "                    color: getRandomColor(i+1),\n",
       "                    size:10*i,\n",
       "        };\n",
       "        uvas.push(uva)\n",
       "    }\n",
       "    var uvasSTR = JSON.stringify(uvas)\n",
       "    window.open('data:text/csv;charset=utf-8,' + escape(uvasSTR));\n",
       "</script>\n",
       "</g>"
      ],
      "text/plain": [
       "<IPython.core.display.HTML object>"
      ]
     },
     "metadata": {},
     "output_type": "display_data"
    }
   ],
   "source": [
    "%%d3\n",
    "\n",
    "<svg width=800 height=100/>\n",
    "\n",
    "<script>\n",
    "    var uvas = []\n",
    "    \n",
    "    function getHexPair(d) { return (d*Math.round(Math.random()*256)).toString(16).substring(0,2); } ;\n",
    "\n",
    "    function getRandomColor(d) { return \"#\"+getHexPair(d)+getHexPair(d)+getHexPair(d); } ;\n",
    "    \n",
    "    for (var i = 0; i < 6; i++) {\n",
    "        var uva = {name:\"uva\",\n",
    "                    color: getRandomColor(i+1),\n",
    "                    size:10*i,\n",
    "        };\n",
    "        uvas.push(uva)\n",
    "    }\n",
    "    var uvasSTR = JSON.stringify(uvas)\n",
    "    window.open('data:text/csv;charset=utf-8,' + escape(uvasSTR));\n",
    "</script>"
   ]
  }
 ],
 "metadata": {
  "kernelspec": {
   "display_name": "Python 3",
   "language": "python",
   "name": "python3"
  },
  "language_info": {
   "codemirror_mode": {
    "name": "ipython",
    "version": 3
   },
   "file_extension": ".py",
   "mimetype": "text/x-python",
   "name": "python",
   "nbconvert_exporter": "python",
   "pygments_lexer": "ipython3",
   "version": "3.6.3"
  }
 },
 "nbformat": 4,
 "nbformat_minor": 2
}
