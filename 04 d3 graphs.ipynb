{
 "cells": [
  {
   "cell_type": "code",
   "execution_count": 30,
   "metadata": {},
   "outputs": [],
   "source": [
    "import py_d3\n",
    "%reload_ext py_d3"
   ]
  },
  {
   "cell_type": "code",
   "execution_count": 31,
   "metadata": {},
   "outputs": [
    {
     "data": {
      "text/html": [
       "\n",
       "<script>\n",
       "requirejs.config({\n",
       "    paths: {\n",
       "        d3: \"//cdnjs.cloudflare.com/ajax/libs/d3/3.5.17/d3\"\n",
       "    }\n",
       "});\n",
       "\n",
       "require(['d3'], function(d3) {\n",
       "    window.d3 = d3;\n",
       "});\n",
       "</script>\n",
       "<script>\n",
       "_select = d3.select;\n",
       "\n",
       "d3.select0 = function(selection) {\n",
       "    return _select(\"#d3-cell-0\").select(selection);\n",
       "}\n",
       "d3.selectAll0 = function(selection) {\n",
       "    return _select(\"#d3-cell-0\").selectAll(selection);\n",
       "}\n",
       "</script>\n",
       "<g id=\"d3-cell-0\">\n",
       "\n",
       "<svg width=\"100\" height = \"100\" />\n",
       "\n",
       "<script>\n",
       "    \n",
       "    var svg = d3.select0(\"svg\");\n",
       "    w = svg.attr(\"width\");\n",
       "    \n",
       "    console.log(w)\n",
       "\n",
       "</script>\n",
       "</g>"
      ],
      "text/plain": [
       "<IPython.core.display.HTML object>"
      ]
     },
     "metadata": {},
     "output_type": "display_data"
    }
   ],
   "source": [
    "%%d3\n",
    "\n",
    "<svg width=\"100\" height = \"100\" />\n",
    "\n",
    "<script>\n",
    "    \n",
    "    var svg = d3.select(\"svg\");\n",
    "    w = svg.attr(\"width\");\n",
    "    \n",
    "    console.log(w)\n",
    "\n",
    "</script>"
   ]
  },
  {
   "cell_type": "code",
   "execution_count": 32,
   "metadata": {},
   "outputs": [
    {
     "data": {
      "text/html": [
       "\n",
       "<script>\n",
       "requirejs.config({\n",
       "    paths: {\n",
       "        d3: \"//cdnjs.cloudflare.com/ajax/libs/d3/3.5.17/d3\"\n",
       "    }\n",
       "});\n",
       "\n",
       "require(['d3'], function(d3) {\n",
       "    window.d3 = d3;\n",
       "});\n",
       "</script>\n",
       "<script>\n",
       "_select = d3.select;\n",
       "\n",
       "d3.select1 = function(selection) {\n",
       "    return _select(\"#d3-cell-1\").select(selection);\n",
       "}\n",
       "d3.selectAll1 = function(selection) {\n",
       "    return _select(\"#d3-cell-1\").selectAll(selection);\n",
       "}\n",
       "</script>\n",
       "<g id=\"d3-cell-1\">\n",
       "\n",
       "<svg width=\"100\" height = \"100\" />\n",
       "<g />\n",
       "<script>\n",
       "    \n",
       "    var svg = d3.select1(\"svg\");\n",
       "    w = svg.attr(\"width\");\n",
       "    \n",
       "    d3.select1(\"g\")\n",
       "        .append(\"p\")\n",
       "        .text(\"hi\")\n",
       "\n",
       "</script>\n",
       "</g>"
      ],
      "text/plain": [
       "<IPython.core.display.HTML object>"
      ]
     },
     "metadata": {},
     "output_type": "display_data"
    }
   ],
   "source": [
    "%%d3\n",
    "\n",
    "<svg width=\"100\" height = \"100\" />\n",
    "<g />\n",
    "<script>\n",
    "    \n",
    "    var svg = d3.select(\"svg\");\n",
    "    w = svg.attr(\"width\");\n",
    "    \n",
    "    d3.select(\"g\")\n",
    "        .append(\"p\")\n",
    "        .text(\"hi\")\n",
    "\n",
    "</script>"
   ]
  },
  {
   "cell_type": "code",
   "execution_count": 33,
   "metadata": {},
   "outputs": [
    {
     "data": {
      "text/html": [
       "\n",
       "<script>\n",
       "requirejs.config({\n",
       "    paths: {\n",
       "        d3: \"//cdnjs.cloudflare.com/ajax/libs/d3/3.5.17/d3\"\n",
       "    }\n",
       "});\n",
       "\n",
       "require(['d3'], function(d3) {\n",
       "    window.d3 = d3;\n",
       "});\n",
       "</script>\n",
       "<script>\n",
       "_select = d3.select;\n",
       "\n",
       "d3.select2 = function(selection) {\n",
       "    return _select(\"#d3-cell-2\").select(selection);\n",
       "}\n",
       "d3.selectAll2 = function(selection) {\n",
       "    return _select(\"#d3-cell-2\").selectAll(selection);\n",
       "}\n",
       "</script>\n",
       "<g id=\"d3-cell-2\">\n",
       "\n",
       "<svg width=\"100\" height = \"100\" />\n",
       "<g />\n",
       "<script>\n",
       "    \n",
       "    var svg = d3.select2(\"svg\");\n",
       "    w = svg.attr(\"width\");\n",
       "    \n",
       "    d3.select2(\"g\")\n",
       "        .append(\"p\")\n",
       "        .text(\"1\");\n",
       "    \n",
       "    svg.append(\"rect\")\n",
       "        .attr(\"width\", \"10px\")\n",
       "        .attr(\"height\", \"10px\")\n",
       "        .attr(\"fill\", \"red\");\n",
       "\n",
       "</script>\n",
       "</g>"
      ],
      "text/plain": [
       "<IPython.core.display.HTML object>"
      ]
     },
     "metadata": {},
     "output_type": "display_data"
    }
   ],
   "source": [
    "%%d3\n",
    "\n",
    "<svg width=\"100\" height = \"100\" />\n",
    "<g />\n",
    "<script>\n",
    "    \n",
    "    var svg = d3.select(\"svg\");\n",
    "    w = svg.attr(\"width\");\n",
    "    \n",
    "    d3.select(\"g\")\n",
    "        .append(\"p\")\n",
    "        .text(\"1\");\n",
    "    \n",
    "    svg.append(\"rect\")\n",
    "        .attr(\"width\", \"10px\")\n",
    "        .attr(\"height\", \"10px\")\n",
    "        .attr(\"fill\", \"red\");\n",
    "\n",
    "</script>"
   ]
  },
  {
   "cell_type": "code",
   "execution_count": 34,
   "metadata": {},
   "outputs": [
    {
     "data": {
      "text/html": [
       "\n",
       "<script>\n",
       "requirejs.config({\n",
       "    paths: {\n",
       "        d3: \"//cdnjs.cloudflare.com/ajax/libs/d3/3.5.17/d3\"\n",
       "    }\n",
       "});\n",
       "\n",
       "require(['d3'], function(d3) {\n",
       "    window.d3 = d3;\n",
       "});\n",
       "</script>\n",
       "<script>\n",
       "_select = d3.select;\n",
       "\n",
       "d3.select3 = function(selection) {\n",
       "    return _select(\"#d3-cell-3\").select(selection);\n",
       "}\n",
       "d3.selectAll3 = function(selection) {\n",
       "    return _select(\"#d3-cell-3\").selectAll(selection);\n",
       "}\n",
       "</script>\n",
       "<g id=\"d3-cell-3\">\n",
       "\n",
       "<svg width=\"100\" height = \"100\" />\n",
       "<g />\n",
       "<script>\n",
       "    \n",
       "    var svg = d3.select3(\"svg\");\n",
       "    w = svg.attr(\"width\");\n",
       "    \n",
       "    d3.select3(\"g\")\n",
       "        .append(\"p\")\n",
       "        .text(\"1\");\n",
       "    \n",
       "    svg.append(\"circle\")\n",
       "        .attr(\"cx\", \"10px\")\n",
       "        .attr(\"cy\", \"10px\")\n",
       "        .attr(\"r\", \"10\")\n",
       "        .attr(\"fill\", \"red\");\n",
       "\n",
       "</script>\n",
       "</g>"
      ],
      "text/plain": [
       "<IPython.core.display.HTML object>"
      ]
     },
     "metadata": {},
     "output_type": "display_data"
    }
   ],
   "source": [
    "%%d3\n",
    "\n",
    "<svg width=\"100\" height = \"100\" />\n",
    "<g />\n",
    "<script>\n",
    "    \n",
    "    var svg = d3.select(\"svg\");\n",
    "    w = svg.attr(\"width\");\n",
    "    \n",
    "    d3.select(\"g\")\n",
    "        .append(\"p\")\n",
    "        .text(\"1\");\n",
    "    \n",
    "    svg.append(\"circle\")\n",
    "        .attr(\"cx\", \"10px\")\n",
    "        .attr(\"cy\", \"10px\")\n",
    "        .attr(\"r\", \"10\")\n",
    "        .attr(\"fill\", \"red\");\n",
    "\n",
    "</script>"
   ]
  },
  {
   "cell_type": "code",
   "execution_count": null,
   "metadata": {},
   "outputs": [],
   "source": [
    "%%d3\n",
    "\n",
    "<svg width=\"100\" height = \"100\" />\n",
    "<g />\n",
    "<script>\n",
    "    \n",
    "    var svg = d3.select(\"svg\");\n",
    "    w = svg.attr(\"width\");\n",
    "    \n",
    "    d3.select(\"g\")\n",
    "        .append(\"p\")\n",
    "        .text(\"1\");\n",
    "    \n",
    "    svg.append(\"circle\")\n",
    "        .attr(\"cx\", \"10px\")\n",
    "        .attr(\"cy\", \"10px\")\n",
    "        .attr(\"r\", \"10\")\n",
    "        .attr(\"fill\", \"red\");\n",
    "\n",
    "</script>"
   ]
  }
 ],
 "metadata": {
  "kernelspec": {
   "display_name": "Python 3",
   "language": "python",
   "name": "python3"
  },
  "language_info": {
   "codemirror_mode": {
    "name": "ipython",
    "version": 3
   },
   "file_extension": ".py",
   "mimetype": "text/x-python",
   "name": "python",
   "nbconvert_exporter": "python",
   "pygments_lexer": "ipython3",
   "version": "3.6.3"
  }
 },
 "nbformat": 4,
 "nbformat_minor": 2
}
