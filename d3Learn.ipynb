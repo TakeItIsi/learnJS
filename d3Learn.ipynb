{
 "cells": [
  {
   "cell_type": "code",
   "execution_count": 93,
   "metadata": {
    "collapsed": true
   },
   "outputs": [],
   "source": [
    "import py_d3"
   ]
  },
  {
   "cell_type": "code",
   "execution_count": 94,
   "metadata": {
    "collapsed": true
   },
   "outputs": [],
   "source": [
    "%reload_ext py_d3"
   ]
  },
  {
   "cell_type": "code",
   "execution_count": 95,
   "metadata": {},
   "outputs": [
    {
     "data": {
      "text/html": [
       "\n",
       "<script>\n",
       "requirejs.config({\n",
       "    paths: {\n",
       "        d3: \"//cdnjs.cloudflare.com/ajax/libs/d3/3.5.17/d3\"\n",
       "    }\n",
       "});\n",
       "\n",
       "require(['d3'], function(d3) {\n",
       "    window.d3 = d3;\n",
       "});\n",
       "</script>\n",
       "<script>\n",
       "_select = d3.select;\n",
       "\n",
       "d3.select0 = function(selection) {\n",
       "    return _select(\"#d3-cell-0\").select(selection);\n",
       "}\n",
       "d3.selectAll0 = function(selection) {\n",
       "    return _select(\"#d3-cell-0\").selectAll(selection);\n",
       "}\n",
       "</script>\n",
       "<g id=\"d3-cell-0\">\n",
       "\n",
       "<g />\n",
       "\n",
       "<script>\n",
       "d3.select0(\"g\").text(\"Hello World\");\n",
       "</script>\n",
       "</g>"
      ],
      "text/plain": [
       "<IPython.core.display.HTML object>"
      ]
     },
     "metadata": {},
     "output_type": "display_data"
    }
   ],
   "source": [
    "%%d3\n",
    "\n",
    "<g />\n",
    "\n",
    "<script>\n",
    "d3.select(\"g\").text(\"Hello World\");\n",
    "</script>"
   ]
  },
  {
   "cell_type": "code",
   "execution_count": 96,
   "metadata": {},
   "outputs": [
    {
     "data": {
      "text/html": [
       "\n",
       "<script>\n",
       "requirejs.config({\n",
       "    paths: {\n",
       "        d3: \"//cdnjs.cloudflare.com/ajax/libs/d3/3.5.17/d3\"\n",
       "    }\n",
       "});\n",
       "\n",
       "require(['d3'], function(d3) {\n",
       "    window.d3 = d3;\n",
       "});\n",
       "</script>\n",
       "<script>\n",
       "_select = d3.select;\n",
       "\n",
       "d3.select1 = function(selection) {\n",
       "    return _select(\"#d3-cell-1\").select(selection);\n",
       "}\n",
       "d3.selectAll1 = function(selection) {\n",
       "    return _select(\"#d3-cell-1\").selectAll(selection);\n",
       "}\n",
       "</script>\n",
       "<g id=\"d3-cell-1\">\n",
       "<script type=\"text/javascript\">\n",
       "    alert(\"Hello, world!\");\n",
       "</script>\n",
       "</g>"
      ],
      "text/plain": [
       "<IPython.core.display.HTML object>"
      ]
     },
     "metadata": {},
     "output_type": "display_data"
    }
   ],
   "source": [
    "%%d3\n",
    "<script type=\"text/javascript\">\n",
    "    alert(\"Hello, world!\");\n",
    "</script>"
   ]
  },
  {
   "cell_type": "code",
   "execution_count": 97,
   "metadata": {},
   "outputs": [
    {
     "data": {
      "text/html": [
       "\n",
       "<script>\n",
       "requirejs.config({\n",
       "    paths: {\n",
       "        d3: \"//cdnjs.cloudflare.com/ajax/libs/d3/3.5.17/d3\"\n",
       "    }\n",
       "});\n",
       "\n",
       "require(['d3'], function(d3) {\n",
       "    window.d3 = d3;\n",
       "});\n",
       "</script>\n",
       "<script>\n",
       "_select = d3.select;\n",
       "\n",
       "d3.select2 = function(selection) {\n",
       "    return _select(\"#d3-cell-2\").select(selection);\n",
       "}\n",
       "d3.selectAll2 = function(selection) {\n",
       "    return _select(\"#d3-cell-2\").selectAll(selection);\n",
       "}\n",
       "</script>\n",
       "<g id=\"d3-cell-2\">\n",
       "<svg width=\"50\" height=\"50\">\n",
       "    <circle cx=\"25\" cy=\"25\" r=\"22\"\n",
       "    fill=\"blue\" stroke=\"gray\" stroke-width=\"2\"/>\n",
       "</svg>\n",
       "</g>"
      ],
      "text/plain": [
       "<IPython.core.display.HTML object>"
      ]
     },
     "metadata": {},
     "output_type": "display_data"
    }
   ],
   "source": [
    "%%d3\n",
    "<svg width=\"50\" height=\"50\">\n",
    "    <circle cx=\"25\" cy=\"25\" r=\"22\"\n",
    "    fill=\"blue\" stroke=\"gray\" stroke-width=\"2\"/>\n",
    "</svg>"
   ]
  },
  {
   "cell_type": "code",
   "execution_count": 98,
   "metadata": {},
   "outputs": [
    {
     "data": {
      "text/html": [
       "\n",
       "<script>\n",
       "requirejs.config({\n",
       "    paths: {\n",
       "        d3: \"//cdnjs.cloudflare.com/ajax/libs/d3/3.5.17/d3\"\n",
       "    }\n",
       "});\n",
       "\n",
       "require(['d3'], function(d3) {\n",
       "    window.d3 = d3;\n",
       "});\n",
       "</script>\n",
       "<script>\n",
       "_select = d3.select;\n",
       "\n",
       "d3.select3 = function(selection) {\n",
       "    return _select(\"#d3-cell-3\").select(selection);\n",
       "}\n",
       "d3.selectAll3 = function(selection) {\n",
       "    return _select(\"#d3-cell-3\").selectAll(selection);\n",
       "}\n",
       "</script>\n",
       "<g id=\"d3-cell-3\">\n",
       "<g></g>\n",
       "\n",
       "<script>\n",
       "d3.select3(\"g\")\n",
       "    .append(\"p\")\n",
       "    .text(\"New paragraph!\")\n",
       "    .append(\"p\")\n",
       "    .text(\"New paragraph!\");\n",
       "</script>\n",
       "</g>"
      ],
      "text/plain": [
       "<IPython.core.display.HTML object>"
      ]
     },
     "metadata": {},
     "output_type": "display_data"
    }
   ],
   "source": [
    "%%d3\n",
    "<g></g>\n",
    "\n",
    "<script>\n",
    "d3.select(\"g\")\n",
    "    .append(\"p\")\n",
    "    .text(\"New paragraph!\")\n",
    "    .append(\"p\")\n",
    "    .text(\"New paragraph!\");\n",
    "</script>"
   ]
  },
  {
   "cell_type": "code",
   "execution_count": 99,
   "metadata": {},
   "outputs": [
    {
     "data": {
      "text/html": [
       "\n",
       "<script>\n",
       "requirejs.config({\n",
       "    paths: {\n",
       "        d3: \"//cdnjs.cloudflare.com/ajax/libs/d3/3.5.17/d3\"\n",
       "    }\n",
       "});\n",
       "\n",
       "require(['d3'], function(d3) {\n",
       "    window.d3 = d3;\n",
       "});\n",
       "</script>\n",
       "<script>\n",
       "_select = d3.select;\n",
       "\n",
       "d3.select4 = function(selection) {\n",
       "    return _select(\"#d3-cell-4\").select(selection);\n",
       "}\n",
       "d3.selectAll4 = function(selection) {\n",
       "    return _select(\"#d3-cell-4\").selectAll(selection);\n",
       "}\n",
       "</script>\n",
       "<g id=\"d3-cell-4\">\n",
       "<g></g>\n",
       "\n",
       "<script>\n",
       "var dataset = [ 5, 10, 15, 20, 25];\n",
       "d3.selectAll4(\"p\")\n",
       "    .data(dataset)\n",
       "    .enter()\n",
       "    .append(\"p\")\n",
       "    .text(\"New paragraph!\");\n",
       "console.log(d3.selectAll4(\"p\"));\n",
       "</script>\n",
       "</g>"
      ],
      "text/plain": [
       "<IPython.core.display.HTML object>"
      ]
     },
     "metadata": {},
     "output_type": "display_data"
    }
   ],
   "source": [
    "%%d3\n",
    "<g></g>\n",
    "\n",
    "<script>\n",
    "var dataset = [ 5, 10, 15, 20, 25];\n",
    "d3.selectAll(\"p\")\n",
    "    .data(dataset)\n",
    "    .enter()\n",
    "    .append(\"p\")\n",
    "    .text(\"New paragraph!\");\n",
    "console.log(d3.selectAll(\"p\"));\n",
    "</script>"
   ]
  },
  {
   "cell_type": "code",
   "execution_count": 100,
   "metadata": {},
   "outputs": [
    {
     "data": {
      "text/html": [
       "\n",
       "<script>\n",
       "requirejs.config({\n",
       "    paths: {\n",
       "        d3: \"//cdnjs.cloudflare.com/ajax/libs/d3/3.5.17/d3\"\n",
       "    }\n",
       "});\n",
       "\n",
       "require(['d3'], function(d3) {\n",
       "    window.d3 = d3;\n",
       "});\n",
       "</script>\n",
       "<script>\n",
       "_select = d3.select;\n",
       "\n",
       "d3.select5 = function(selection) {\n",
       "    return _select(\"#d3-cell-5\").select(selection);\n",
       "}\n",
       "d3.selectAll5 = function(selection) {\n",
       "    return _select(\"#d3-cell-5\").selectAll(selection);\n",
       "}\n",
       "</script>\n",
       "<g id=\"d3-cell-5\">\n",
       "<g />\n",
       "\n",
       "<script>\n",
       "var dataset = [ 5, 10, 15, 20, 25];\n",
       "d3.selectAll5(\"p\")\n",
       "    .data(dataset)\n",
       "    .enter()\n",
       "    .append(\"p\")\n",
       "    .text(function(d) { return \"asd: \" + d; });\n",
       "console.log(d3.selectAll5(\"p\"));\n",
       "alert(\"dataset[3]: \" + dataset[3]);\n",
       "</script>\n",
       "</g>"
      ],
      "text/plain": [
       "<IPython.core.display.HTML object>"
      ]
     },
     "metadata": {},
     "output_type": "display_data"
    }
   ],
   "source": [
    "%%d3\n",
    "<g />\n",
    "\n",
    "<script>\n",
    "var dataset = [ 5, 10, 15, 20, 25];\n",
    "d3.selectAll(\"p\")\n",
    "    .data(dataset)\n",
    "    .enter()\n",
    "    .append(\"p\")\n",
    "    .text(function(d) { return \"asd: \" + d; });\n",
    "console.log(d3.selectAll(\"p\"));\n",
    "alert(\"dataset[3]: \" + dataset[3]);\n",
    "</script>"
   ]
  },
  {
   "cell_type": "code",
   "execution_count": 101,
   "metadata": {},
   "outputs": [
    {
     "data": {
      "text/html": [
       "\n",
       "<script>\n",
       "requirejs.config({\n",
       "    paths: {\n",
       "        d3: \"//cdnjs.cloudflare.com/ajax/libs/d3/3.5.17/d3\"\n",
       "    }\n",
       "});\n",
       "\n",
       "require(['d3'], function(d3) {\n",
       "    window.d3 = d3;\n",
       "});\n",
       "</script>\n",
       "<script>\n",
       "_select = d3.select;\n",
       "\n",
       "d3.select6 = function(selection) {\n",
       "    return _select(\"#d3-cell-6\").select(selection);\n",
       "}\n",
       "d3.selectAll6 = function(selection) {\n",
       "    return _select(\"#d3-cell-6\").selectAll(selection);\n",
       "}\n",
       "</script>\n",
       "<g id=\"d3-cell-6\">\n",
       "\n",
       "<g />\n",
       "\n",
       "<script>\n",
       "d3.select6(\"g\").text(\"Hello World\").style(\"color\",\"#ff00ff\");\n",
       "</script>\n",
       "</g>"
      ],
      "text/plain": [
       "<IPython.core.display.HTML object>"
      ]
     },
     "metadata": {},
     "output_type": "display_data"
    }
   ],
   "source": [
    "%%d3\n",
    "\n",
    "<g />\n",
    "\n",
    "<script>\n",
    "d3.select(\"g\").text(\"Hello World\").style(\"color\",\"#ff00ff\");\n",
    "</script>"
   ]
  },
  {
   "cell_type": "code",
   "execution_count": 102,
   "metadata": {},
   "outputs": [
    {
     "data": {
      "text/html": [
       "\n",
       "<script>\n",
       "requirejs.config({\n",
       "    paths: {\n",
       "        d3: \"//cdnjs.cloudflare.com/ajax/libs/d3/3.5.17/d3\"\n",
       "    }\n",
       "});\n",
       "\n",
       "require(['d3'], function(d3) {\n",
       "    window.d3 = d3;\n",
       "});\n",
       "</script>\n",
       "<script>\n",
       "_select = d3.select;\n",
       "\n",
       "d3.select7 = function(selection) {\n",
       "    return _select(\"#d3-cell-7\").select(selection);\n",
       "}\n",
       "d3.selectAll7 = function(selection) {\n",
       "    return _select(\"#d3-cell-7\").selectAll(selection);\n",
       "}\n",
       "</script>\n",
       "<g id=\"d3-cell-7\">\n",
       "\n",
       "<g />\n",
       "\n",
       "<script>\n",
       "var dataset = [ 5, 10, 15, 20, 25];\n",
       "d3.selectAll7(\"p\")\n",
       "    .data(dataset)\n",
       "    .enter()\n",
       "    .append(\"p\")\n",
       "    .text(function(d) { return \"asd: \" + d; })\n",
       "    .style(\"color\", function(d) {\n",
       "        if (d % 2 == 0) {\n",
       "            return \"red\";\n",
       "        } else {\n",
       "        return \"blue\";\n",
       "        }\n",
       "    });;\n",
       "</script>\n",
       "</g>"
      ],
      "text/plain": [
       "<IPython.core.display.HTML object>"
      ]
     },
     "metadata": {},
     "output_type": "display_data"
    }
   ],
   "source": [
    "%%d3\n",
    "\n",
    "<g />\n",
    "\n",
    "<script>\n",
    "var dataset = [ 5, 10, 15, 20, 25];\n",
    "d3.selectAll(\"p\")\n",
    "    .data(dataset)\n",
    "    .enter()\n",
    "    .append(\"p\")\n",
    "    .text(function(d) { return \"asd: \" + d; })\n",
    "    .style(\"color\", function(d) {\n",
    "        if (d % 2 == 0) {\n",
    "            return \"red\";\n",
    "        } else {\n",
    "        return \"blue\";\n",
    "        }\n",
    "    });;\n",
    "</script>"
   ]
  },
  {
   "cell_type": "code",
   "execution_count": 112,
   "metadata": {},
   "outputs": [
    {
     "data": {
      "text/html": [
       "\n",
       "<script>\n",
       "requirejs.config({\n",
       "    paths: {\n",
       "        d3: \"//cdnjs.cloudflare.com/ajax/libs/d3/3.5.17/d3\"\n",
       "    }\n",
       "});\n",
       "\n",
       "require(['d3'], function(d3) {\n",
       "    window.d3 = d3;\n",
       "});\n",
       "</script>\n",
       "<script>\n",
       "_select = d3.select;\n",
       "\n",
       "d3.select17 = function(selection) {\n",
       "    return _select(\"#d3-cell-17\").select(selection);\n",
       "}\n",
       "d3.selectAll17 = function(selection) {\n",
       "    return _select(\"#d3-cell-17\").selectAll(selection);\n",
       "}\n",
       "</script>\n",
       "<g id=\"d3-cell-17\">\n",
       "\n",
       "<g />\n",
       "\n",
       "<script>\n",
       "var dataset = \"HelloWorld\";\n",
       "var i = 0;\n",
       "d3.select17(\"g\").selectAll(\"p\")\n",
       "    .data(dataset)\n",
       "    .enter()\n",
       "    .append(\"a\")\n",
       "    .text(function(d) { return d + \" \"; })\n",
       "    .style(\"color\", function(d) {\n",
       "        if (i % 2 == 0) {\n",
       "            i = i + 1;\n",
       "            return \"red\";\n",
       "        } else {\n",
       "            i = i + 1;\n",
       "            return \"blue\";\n",
       "        }\n",
       "    });;\n",
       "</script>\n",
       "</g>"
      ],
      "text/plain": [
       "<IPython.core.display.HTML object>"
      ]
     },
     "metadata": {},
     "output_type": "display_data"
    }
   ],
   "source": [
    "%%d3\n",
    "\n",
    "<g />\n",
    "\n",
    "<script>\n",
    "var dataset = \"HelloWorld\";\n",
    "var i = 0;\n",
    "d3.select(\"g\").selectAll(\"p\")\n",
    "    .data(dataset)\n",
    "    .enter()\n",
    "    .append(\"a\")\n",
    "    .text(function(d) { return d + \" \"; })\n",
    "    .style(\"color\", function(d) {\n",
    "        if (i % 2 == 0) {\n",
    "            i = i + 1;\n",
    "            return \"red\";\n",
    "        } else {\n",
    "            i = i + 1;\n",
    "            return \"blue\";\n",
    "        }\n",
    "    });;\n",
    "</script>"
   ]
  },
  {
   "cell_type": "code",
   "execution_count": null,
   "metadata": {
    "collapsed": true
   },
   "outputs": [],
   "source": [
    "%%d3\n",
    "\n",
    "<g />\n",
    "\n",
    "<script>\n",
    "d3.select(\"g\").text(\"Hello World\");\n",
    "</script>"
   ]
  }
 ],
 "metadata": {
  "kernelspec": {
   "display_name": "Python [default]",
   "language": "python",
   "name": "python3"
  },
  "language_info": {
   "codemirror_mode": {
    "name": "ipython",
    "version": 3
   },
   "file_extension": ".py",
   "mimetype": "text/x-python",
   "name": "python",
   "nbconvert_exporter": "python",
   "pygments_lexer": "ipython3",
   "version": "3.5.3"
  }
 },
 "nbformat": 4,
 "nbformat_minor": 2
}
