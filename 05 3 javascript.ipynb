{
 "cells": [
  {
   "cell_type": "markdown",
   "metadata": {},
   "source": [
    "# SPARLQ Query using js"
   ]
  },
  {
   "cell_type": "markdown",
   "metadata": {},
   "source": [
    "Query:\n",
    "[Source](https://stackoverflow.com/questions/22769701/how-to-query-dbpedia-in-javascript)\n",
    "\n",
    "Dictionary keys programatically:\n",
    "[Source](https://stackoverflow.com/questions/3298477/get-first-key-from-javascript-object)\n"
   ]
  },
  {
   "cell_type": "code",
   "execution_count": 2,
   "metadata": {},
   "outputs": [
    {
     "data": {
      "text/html": [
       "\n",
       "  <script src=\"http://ajax.googleapis.com/ajax/libs/jquery/1.11.0/jquery.min.js\"></script>\n",
       "  \n",
       "      <script type=\"text/javascript\">\n",
       "      var url = \"https://sparql.n13.degu.cl/sparql\";\n",
       "      var query = \"SELECT * WHERE { ?s ?p ?o } LIMIT 10\";\n",
       "\n",
       "      var queryUrl = encodeURI( url+\"?query=\"+query+\"&format=json\" );\n",
       "      $.ajax({\n",
       "          dataType: \"jsonp\",  \n",
       "          url: queryUrl,\n",
       "          success: function( _data ) {\n",
       "            console.log(_data.results.bindings);\n",
       "              var results = _data.results.bindings;\n",
       "              for ( var i in results ) {\n",
       "                \n",
       "                  var res = results[i];\n",
       "                  keys = Object.keys(res);\n",
       "                  for( var j in keys) {\n",
       "                    res[keys[j]]\n",
       "                  }\n",
       "              }\n",
       "          }\n",
       "      });\n",
       "  </script>"
      ],
      "text/plain": [
       "<IPython.core.display.HTML object>"
      ]
     },
     "metadata": {},
     "output_type": "display_data"
    }
   ],
   "source": [
    "%%html\n",
    "\n",
    "<script src=\"http://ajax.googleapis.com/ajax/libs/jquery/1.11.0/jquery.min.js\"></script>\n",
    "\n",
    "<script type=\"text/javascript\">\n",
    "  var url = \"https://sparql.n13.degu.cl/sparql\";\n",
    "  var query = \"SELECT * WHERE { ?s ?p ?o } LIMIT 10\";\n",
    "\n",
    "  var queryUrl = encodeURI(url + \"?query=\" + query + \"&format=json\");\n",
    "  $.ajax({\n",
    "    dataType: \"jsonp\",\n",
    "    url: queryUrl,\n",
    "    success: function (_data) {\n",
    "      console.log(_data.results.bindings);\n",
    "      var results = _data.results.bindings;\n",
    "      for (var i in results) {\n",
    "\n",
    "        var res = results[i];\n",
    "        keys = Object.keys(res);\n",
    "        for (var j in keys) {\n",
    "          console.log(res[keys[j]])\n",
    "        }\n",
    "      }\n",
    "    }\n",
    "  });\n",
    "</script>"
   ]
  }
 ],
 "metadata": {
  "kernelspec": {
   "display_name": "Python 3",
   "language": "python",
   "name": "python3"
  },
  "language_info": {
   "codemirror_mode": {
    "name": "ipython",
    "version": 3
   },
   "file_extension": ".py",
   "mimetype": "text/x-python",
   "name": "python",
   "nbconvert_exporter": "python",
   "pygments_lexer": "ipython3",
   "version": "3.6.3"
  }
 },
 "nbformat": 4,
 "nbformat_minor": 2
}
