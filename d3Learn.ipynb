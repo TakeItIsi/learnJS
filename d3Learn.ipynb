{
 "cells": [
  {
   "cell_type": "code",
   "execution_count": 4,
   "metadata": {
    "collapsed": true
   },
   "outputs": [],
   "source": [
    "import py_d3"
   ]
  },
  {
   "cell_type": "code",
   "execution_count": 5,
   "metadata": {
    "collapsed": true
   },
   "outputs": [],
   "source": [
    "%reload_ext py_d3"
   ]
  },
  {
   "cell_type": "code",
   "execution_count": 6,
   "metadata": {},
   "outputs": [
    {
     "data": {
      "text/html": [
       "\n",
       "<script>\n",
       "requirejs.config({\n",
       "    paths: {\n",
       "        d3: \"//cdnjs.cloudflare.com/ajax/libs/d3/3.5.17/d3\"\n",
       "    }\n",
       "});\n",
       "\n",
       "require(['d3'], function(d3) {\n",
       "    window.d3 = d3;\n",
       "});\n",
       "</script>\n",
       "<script>\n",
       "_select = d3.select;\n",
       "\n",
       "d3.select0 = function(selection) {\n",
       "    return _select(\"#d3-cell-0\").select(selection);\n",
       "}\n",
       "d3.selectAll0 = function(selection) {\n",
       "    return _select(\"#d3-cell-0\").selectAll(selection);\n",
       "}\n",
       "</script>\n",
       "<g id=\"d3-cell-0\">\n",
       "\n",
       "<g></g>\n",
       "\n",
       "<script>\n",
       "d3.select0(\"g\").text(\"Hello World\");\n",
       "</script>\n",
       "</g>"
      ],
      "text/plain": [
       "<IPython.core.display.HTML object>"
      ]
     },
     "metadata": {},
     "output_type": "display_data"
    }
   ],
   "source": [
    "%%d3\n",
    "\n",
    "<g></g>\n",
    "\n",
    "<script>\n",
    "d3.select(\"g\").text(\"Hello World\");\n",
    "</script>"
   ]
  },
  {
   "cell_type": "code",
   "execution_count": 8,
   "metadata": {},
   "outputs": [
    {
     "data": {
      "text/html": [
       "\n",
       "<script>\n",
       "requirejs.config({\n",
       "    paths: {\n",
       "        d3: \"//cdnjs.cloudflare.com/ajax/libs/d3/3.5.17/d3\"\n",
       "    }\n",
       "});\n",
       "\n",
       "require(['d3'], function(d3) {\n",
       "    window.d3 = d3;\n",
       "});\n",
       "</script>\n",
       "<script>\n",
       "_select = d3.select;\n",
       "\n",
       "d3.select2 = function(selection) {\n",
       "    return _select(\"#d3-cell-2\").select(selection);\n",
       "}\n",
       "d3.selectAll2 = function(selection) {\n",
       "    return _select(\"#d3-cell-2\").selectAll(selection);\n",
       "}\n",
       "</script>\n",
       "<g id=\"d3-cell-2\">\n",
       "<script type=\"text/javascript\">\n",
       "    alert(\"Hello, world!\");\n",
       "</script>\n",
       "</g>"
      ],
      "text/plain": [
       "<IPython.core.display.HTML object>"
      ]
     },
     "metadata": {},
     "output_type": "display_data"
    }
   ],
   "source": [
    "%%d3\n",
    "<script type=\"text/javascript\">\n",
    "    alert(\"Hello, world!\");\n",
    "</script>"
   ]
  },
  {
   "cell_type": "code",
   "execution_count": 9,
   "metadata": {},
   "outputs": [
    {
     "data": {
      "text/html": [
       "\n",
       "<script>\n",
       "requirejs.config({\n",
       "    paths: {\n",
       "        d3: \"//cdnjs.cloudflare.com/ajax/libs/d3/3.5.17/d3\"\n",
       "    }\n",
       "});\n",
       "\n",
       "require(['d3'], function(d3) {\n",
       "    window.d3 = d3;\n",
       "});\n",
       "</script>\n",
       "<script>\n",
       "_select = d3.select;\n",
       "\n",
       "d3.select3 = function(selection) {\n",
       "    return _select(\"#d3-cell-3\").select(selection);\n",
       "}\n",
       "d3.selectAll3 = function(selection) {\n",
       "    return _select(\"#d3-cell-3\").selectAll(selection);\n",
       "}\n",
       "</script>\n",
       "<g id=\"d3-cell-3\">\n",
       "<svg width=\"50\" height=\"50\">\n",
       "    <circle cx=\"25\" cy=\"25\" r=\"22\"\n",
       "    fill=\"blue\" stroke=\"gray\" stroke-width=\"2\"/>\n",
       "</svg>\n",
       "</g>"
      ],
      "text/plain": [
       "<IPython.core.display.HTML object>"
      ]
     },
     "metadata": {},
     "output_type": "display_data"
    }
   ],
   "source": [
    "%%d3\n",
    "<svg width=\"50\" height=\"50\">\n",
    "    <circle cx=\"25\" cy=\"25\" r=\"22\"\n",
    "    fill=\"blue\" stroke=\"gray\" stroke-width=\"2\"/>\n",
    "</svg>"
   ]
  },
  {
   "cell_type": "code",
   "execution_count": 16,
   "metadata": {},
   "outputs": [
    {
     "data": {
      "text/html": [
       "\n",
       "<script>\n",
       "requirejs.config({\n",
       "    paths: {\n",
       "        d3: \"//cdnjs.cloudflare.com/ajax/libs/d3/3.5.17/d3\"\n",
       "    }\n",
       "});\n",
       "\n",
       "require(['d3'], function(d3) {\n",
       "    window.d3 = d3;\n",
       "});\n",
       "</script>\n",
       "<script>\n",
       "_select = d3.select;\n",
       "\n",
       "d3.select10 = function(selection) {\n",
       "    return _select(\"#d3-cell-10\").select(selection);\n",
       "}\n",
       "d3.selectAll10 = function(selection) {\n",
       "    return _select(\"#d3-cell-10\").selectAll(selection);\n",
       "}\n",
       "</script>\n",
       "<g id=\"d3-cell-10\">\n",
       "<g></g>\n",
       "\n",
       "<script>\n",
       "d3.select10(\"g\")\n",
       "    .append(\"p\")\n",
       "    .text(\"New paragraph!\")\n",
       "    .append(\"p\")\n",
       "    .text(\"New paragraph!\");\n",
       "</script>\n",
       "</g>"
      ],
      "text/plain": [
       "<IPython.core.display.HTML object>"
      ]
     },
     "metadata": {},
     "output_type": "display_data"
    }
   ],
   "source": [
    "%%d3\n",
    "<g></g>\n",
    "\n",
    "<script>\n",
    "d3.select(\"g\")\n",
    "    .append(\"p\")\n",
    "    .text(\"New paragraph!\")\n",
    "    .append(\"p\")\n",
    "    .text(\"New paragraph!\");\n",
    "</script>"
   ]
  },
  {
   "cell_type": "code",
   "execution_count": 34,
   "metadata": {},
   "outputs": [
    {
     "data": {
      "text/html": [
       "\n",
       "<script>\n",
       "requirejs.config({\n",
       "    paths: {\n",
       "        d3: \"//cdnjs.cloudflare.com/ajax/libs/d3/3.5.17/d3\"\n",
       "    }\n",
       "});\n",
       "\n",
       "require(['d3'], function(d3) {\n",
       "    window.d3 = d3;\n",
       "});\n",
       "</script>\n",
       "<script>\n",
       "_select = d3.select;\n",
       "\n",
       "d3.select27 = function(selection) {\n",
       "    return _select(\"#d3-cell-27\").select(selection);\n",
       "}\n",
       "d3.selectAll27 = function(selection) {\n",
       "    return _select(\"#d3-cell-27\").selectAll(selection);\n",
       "}\n",
       "</script>\n",
       "<g id=\"d3-cell-27\">\n",
       "<g></g>\n",
       "\n",
       "<script>\n",
       "var dataset = [ 5, 10, 15, 20, 25];\n",
       "d3.selectAll27(\"p\")\n",
       "    .data(dataset)\n",
       "    .enter()\n",
       "    .append(\"p\")\n",
       "    .text(\"New paragraph!\");\n",
       "console.log(d3.selectAll27(\"p\"));\n",
       "</script>\n",
       "</g>"
      ],
      "text/plain": [
       "<IPython.core.display.HTML object>"
      ]
     },
     "metadata": {},
     "output_type": "display_data"
    }
   ],
   "source": [
    "%%d3\n",
    "<g></g>\n",
    "\n",
    "<script>\n",
    "var dataset = [ 5, 10, 15, 20, 25];\n",
    "d3.selectAll(\"p\")\n",
    "    .data(dataset)\n",
    "    .enter()\n",
    "    .append(\"p\")\n",
    "    .text(\"New paragraph!\");\n",
    "console.log(d3.selectAll(\"p\"));\n",
    "</script>"
   ]
  },
  {
   "cell_type": "code",
   "execution_count": null,
   "metadata": {
    "collapsed": true
   },
   "outputs": [],
   "source": []
  }
 ],
 "metadata": {
  "kernelspec": {
   "display_name": "Python [default]",
   "language": "python",
   "name": "python3"
  },
  "language_info": {
   "codemirror_mode": {
    "name": "ipython",
    "version": 3
   },
   "file_extension": ".py",
   "mimetype": "text/x-python",
   "name": "python",
   "nbconvert_exporter": "python",
   "pygments_lexer": "ipython3",
   "version": "3.5.3"
  }
 },
 "nbformat": 4,
 "nbformat_minor": 2
}
