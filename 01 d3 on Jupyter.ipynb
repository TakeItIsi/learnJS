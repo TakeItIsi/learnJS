{
 "cells": [
  {
   "cell_type": "markdown",
   "metadata": {},
   "source": [
    "# Packages\n",
    "Para empezar a trabajar con D3 en jupyter, se trabajará con [py_d3](https://github.com/ResidentMario/py_d3)"
   ]
  },
  {
   "cell_type": "code",
   "execution_count": 1,
   "metadata": {},
   "outputs": [],
   "source": [
    "import py_d3"
   ]
  },
  {
   "cell_type": "markdown",
   "metadata": {},
   "source": [
    "# Initialize\n",
    "Para empezar a ocupar la librería es necesario hacer un load con **`%load_ext py_d3`**. En algunos casos hay problemas al reabrir el notebook, por eso se cambia por **`%reload_ext py_d3`**."
   ]
  },
  {
   "cell_type": "code",
   "execution_count": 2,
   "metadata": {
    "collapsed": true
   },
   "outputs": [],
   "source": [
    "%reload_ext py_d3"
   ]
  },
  {
   "cell_type": "markdown",
   "metadata": {},
   "source": [
    "# References\n",
    "\n",
    "En este Notebook, trabajaré en base al [tutorial de Gabriel Coch](http://gcoch.github.io/D3-tutorial). Ese tutorial es una traducción de otro [tutorial de Scott Murray](http://alignedleft.com/tutorials/d3). \n",
    "\n",
    "El aporte de este tutorial es trabajarlo en Jupyter."
   ]
  },
  {
   "cell_type": "markdown",
   "metadata": {},
   "source": [
    "# Jupyter con py_d3\n",
    "\n",
    "Usando el tag **`%%d3`** se puede correr código HTML y JavaScript directamente en una celda. Aquí algunos ejemplos.\n",
    "\n",
    "## Text"
   ]
  },
  {
   "cell_type": "code",
   "execution_count": 3,
   "metadata": {},
   "outputs": [
    {
     "data": {
      "text/html": [
       "\n",
       "<script>\n",
       "requirejs.config({\n",
       "    paths: {\n",
       "        d3: \"//cdnjs.cloudflare.com/ajax/libs/d3/3.5.17/d3\"\n",
       "    }\n",
       "});\n",
       "\n",
       "require(['d3'], function(d3) {\n",
       "    window.d3 = d3;\n",
       "});\n",
       "</script>\n",
       "<script>\n",
       "_select = d3.select;\n",
       "\n",
       "d3.select0 = function(selection) {\n",
       "    return _select(\"#d3-cell-0\").select(selection);\n",
       "}\n",
       "d3.selectAll0 = function(selection) {\n",
       "    return _select(\"#d3-cell-0\").selectAll(selection);\n",
       "}\n",
       "</script>\n",
       "<g id=\"d3-cell-0\">\n",
       "\n",
       "Hello World!\n",
       "</g>"
      ],
      "text/plain": [
       "<IPython.core.display.HTML object>"
      ]
     },
     "metadata": {},
     "output_type": "display_data"
    }
   ],
   "source": [
    "%%d3\n",
    "\n",
    "Hello World!"
   ]
  },
  {
   "cell_type": "markdown",
   "metadata": {},
   "source": [
    "## Links"
   ]
  },
  {
   "cell_type": "code",
   "execution_count": 4,
   "metadata": {},
   "outputs": [
    {
     "data": {
      "text/html": [
       "\n",
       "<script>\n",
       "requirejs.config({\n",
       "    paths: {\n",
       "        d3: \"//cdnjs.cloudflare.com/ajax/libs/d3/3.5.17/d3\"\n",
       "    }\n",
       "});\n",
       "\n",
       "require(['d3'], function(d3) {\n",
       "    window.d3 = d3;\n",
       "});\n",
       "</script>\n",
       "<script>\n",
       "_select = d3.select;\n",
       "\n",
       "d3.select1 = function(selection) {\n",
       "    return _select(\"#d3-cell-1\").select(selection);\n",
       "}\n",
       "d3.selectAll1 = function(selection) {\n",
       "    return _select(\"#d3-cell-1\").selectAll(selection);\n",
       "}\n",
       "</script>\n",
       "<g id=\"d3-cell-1\">\n",
       "\n",
       "<a href=\"http://www.google.com\">Google</a>\n",
       "</g>"
      ],
      "text/plain": [
       "<IPython.core.display.HTML object>"
      ]
     },
     "metadata": {},
     "output_type": "display_data"
    }
   ],
   "source": [
    "%%d3\n",
    "\n",
    "<a href=\"http://www.google.com\">Google</a>"
   ]
  },
  {
   "cell_type": "markdown",
   "metadata": {},
   "source": [
    "## SVG"
   ]
  },
  {
   "cell_type": "code",
   "execution_count": 5,
   "metadata": {},
   "outputs": [
    {
     "data": {
      "text/html": [
       "\n",
       "<script>\n",
       "requirejs.config({\n",
       "    paths: {\n",
       "        d3: \"//cdnjs.cloudflare.com/ajax/libs/d3/3.5.17/d3\"\n",
       "    }\n",
       "});\n",
       "\n",
       "require(['d3'], function(d3) {\n",
       "    window.d3 = d3;\n",
       "});\n",
       "</script>\n",
       "<script>\n",
       "_select = d3.select;\n",
       "\n",
       "d3.select2 = function(selection) {\n",
       "    return _select(\"#d3-cell-2\").select(selection);\n",
       "}\n",
       "d3.selectAll2 = function(selection) {\n",
       "    return _select(\"#d3-cell-2\").selectAll(selection);\n",
       "}\n",
       "</script>\n",
       "<g id=\"d3-cell-2\">\n",
       "\n",
       "<svg>\n",
       "    <circle cx=\"50\" \n",
       "            cy=\"50\" \n",
       "            r=\"30\" \n",
       "            fill=\"blue\" \n",
       "            stroke=\"black\" \n",
       "            stroke-width=\"5\"/>\n",
       "</svg>\n",
       "</g>"
      ],
      "text/plain": [
       "<IPython.core.display.HTML object>"
      ]
     },
     "metadata": {},
     "output_type": "display_data"
    }
   ],
   "source": [
    "%%d3\n",
    "\n",
    "<svg>\n",
    "    <circle cx=\"50\" \n",
    "            cy=\"50\" \n",
    "            r=\"30\" \n",
    "            fill=\"blue\" \n",
    "            stroke=\"black\" \n",
    "            stroke-width=\"5\"/>\n",
    "</svg>"
   ]
  },
  {
   "cell_type": "markdown",
   "metadata": {},
   "source": [
    "## Javascript"
   ]
  },
  {
   "cell_type": "code",
   "execution_count": 6,
   "metadata": {},
   "outputs": [
    {
     "data": {
      "text/html": [
       "\n",
       "<script>\n",
       "requirejs.config({\n",
       "    paths: {\n",
       "        d3: \"//cdnjs.cloudflare.com/ajax/libs/d3/3.5.17/d3\"\n",
       "    }\n",
       "});\n",
       "\n",
       "require(['d3'], function(d3) {\n",
       "    window.d3 = d3;\n",
       "});\n",
       "</script>\n",
       "<script>\n",
       "_select = d3.select;\n",
       "\n",
       "d3.select3 = function(selection) {\n",
       "    return _select(\"#d3-cell-3\").select(selection);\n",
       "}\n",
       "d3.selectAll3 = function(selection) {\n",
       "    return _select(\"#d3-cell-3\").selectAll(selection);\n",
       "}\n",
       "</script>\n",
       "<g id=\"d3-cell-3\">\n",
       "\n",
       "<script>\n",
       "    alert(\"Hello, world!\");\n",
       "</script>\n",
       "</g>"
      ],
      "text/plain": [
       "<IPython.core.display.HTML object>"
      ]
     },
     "metadata": {},
     "output_type": "display_data"
    }
   ],
   "source": [
    "%%d3\n",
    "\n",
    "<script>\n",
    "    alert(\"Hello, world!\");\n",
    "</script>"
   ]
  },
  {
   "cell_type": "markdown",
   "metadata": {},
   "source": [
    "## HTML Console"
   ]
  },
  {
   "cell_type": "code",
   "execution_count": 7,
   "metadata": {},
   "outputs": [
    {
     "data": {
      "text/html": [
       "\n",
       "<script>\n",
       "requirejs.config({\n",
       "    paths: {\n",
       "        d3: \"//cdnjs.cloudflare.com/ajax/libs/d3/3.5.17/d3\"\n",
       "    }\n",
       "});\n",
       "\n",
       "require(['d3'], function(d3) {\n",
       "    window.d3 = d3;\n",
       "});\n",
       "</script>\n",
       "<script>\n",
       "_select = d3.select;\n",
       "\n",
       "d3.select4 = function(selection) {\n",
       "    return _select(\"#d3-cell-4\").select(selection);\n",
       "}\n",
       "d3.selectAll4 = function(selection) {\n",
       "    return _select(\"#d3-cell-4\").selectAll(selection);\n",
       "}\n",
       "</script>\n",
       "<g id=\"d3-cell-4\">\n",
       "\n",
       "<script>\n",
       "    console.log(d3.selectAll4(\"p\"));\n",
       "</script>\n",
       "</g>"
      ],
      "text/plain": [
       "<IPython.core.display.HTML object>"
      ]
     },
     "metadata": {},
     "output_type": "display_data"
    }
   ],
   "source": [
    "%%d3\n",
    "\n",
    "<script>\n",
    "    console.log(d3.selectAll(\"p\"));\n",
    "</script>"
   ]
  },
  {
   "cell_type": "markdown",
   "metadata": {},
   "source": [
    "# d3.js\n",
    "\n",
    "d3 es una librería que permite agregar y modificar elementos en la estructura del DOM de HTML.\n",
    "\n",
    "Una diferencia de trabajar directamente en un archivo HTML, es necesario cambiar **`d3.select(\"body\").append(\"g\")`** sino generar un elemento **`<g />`** y ocupar **`d3.select(\"g\")`**.\n",
    "\n",
    "## Añadir Elementos\n",
    "\n",
    "Lo primero será crear elementos dentro de la celda de salida. \n",
    "\n",
    "En este caso, un texto."
   ]
  },
  {
   "cell_type": "code",
   "execution_count": 8,
   "metadata": {},
   "outputs": [
    {
     "data": {
      "text/html": [
       "\n",
       "<script>\n",
       "requirejs.config({\n",
       "    paths: {\n",
       "        d3: \"//cdnjs.cloudflare.com/ajax/libs/d3/3.5.17/d3\"\n",
       "    }\n",
       "});\n",
       "\n",
       "require(['d3'], function(d3) {\n",
       "    window.d3 = d3;\n",
       "});\n",
       "</script>\n",
       "<script>\n",
       "_select = d3.select;\n",
       "\n",
       "d3.select5 = function(selection) {\n",
       "    return _select(\"#d3-cell-5\").select(selection);\n",
       "}\n",
       "d3.selectAll5 = function(selection) {\n",
       "    return _select(\"#d3-cell-5\").selectAll(selection);\n",
       "}\n",
       "</script>\n",
       "<g id=\"d3-cell-5\">\n",
       "\n",
       "<g />\n",
       "\n",
       "<script>\n",
       "    d3.select5(\"g\")\n",
       "        .text(\"Hello World\");\n",
       "</script>\n",
       "</g>"
      ],
      "text/plain": [
       "<IPython.core.display.HTML object>"
      ]
     },
     "metadata": {},
     "output_type": "display_data"
    }
   ],
   "source": [
    "%%d3\n",
    "\n",
    "<g />\n",
    "\n",
    "<script>\n",
    "    d3.select(\"g\")\n",
    "        .text(\"Hello World\");\n",
    "</script>"
   ]
  },
  {
   "cell_type": "markdown",
   "metadata": {},
   "source": [
    "### HTML DOM Elements\n",
    "Si quisiera agregar más de un párrafo, se pensaría intuitivamente que se debe repetir el código, sin embargo, dentro del DOM HTML, se trata de un solo elemento, llamado **`<g />`**. Lo que sucede en la siguiente celda es que se agrega dos valores de texto al mismo elemento."
   ]
  },
  {
   "cell_type": "code",
   "execution_count": 9,
   "metadata": {},
   "outputs": [
    {
     "data": {
      "text/html": [
       "\n",
       "<script>\n",
       "requirejs.config({\n",
       "    paths: {\n",
       "        d3: \"//cdnjs.cloudflare.com/ajax/libs/d3/3.5.17/d3\"\n",
       "    }\n",
       "});\n",
       "\n",
       "require(['d3'], function(d3) {\n",
       "    window.d3 = d3;\n",
       "});\n",
       "</script>\n",
       "<script>\n",
       "_select = d3.select;\n",
       "\n",
       "d3.select6 = function(selection) {\n",
       "    return _select(\"#d3-cell-6\").select(selection);\n",
       "}\n",
       "d3.selectAll6 = function(selection) {\n",
       "    return _select(\"#d3-cell-6\").selectAll(selection);\n",
       "}\n",
       "</script>\n",
       "<g id=\"d3-cell-6\">\n",
       "\n",
       "<g />\n",
       "\n",
       "<script>\n",
       "    d3.select6(\"g\").text(\"Hello World 1\");\n",
       "    d3.select6(\"g\").text(\"Hello World 2\");\n",
       "</script>\n",
       "</g>"
      ],
      "text/plain": [
       "<IPython.core.display.HTML object>"
      ]
     },
     "metadata": {},
     "output_type": "display_data"
    }
   ],
   "source": [
    "%%d3\n",
    "\n",
    "<g />\n",
    "\n",
    "<script>\n",
    "    d3.select(\"g\").text(\"Hello World 1\");\n",
    "    d3.select(\"g\").text(\"Hello World 2\");\n",
    "</script>"
   ]
  },
  {
   "cell_type": "markdown",
   "metadata": {},
   "source": [
    "### Identificadores de elementos\n",
    "Ahora, en un archivo HTML, sería necesario seleccionar los elementos específicos. En este caso podemos ocupar un atributo **`id`** con un nombre dado. En el siguiente caso **`<g id=\"g1\">`**, que puede ser seleccionado con **`.select(\"#g1\")`**."
   ]
  },
  {
   "cell_type": "code",
   "execution_count": 10,
   "metadata": {},
   "outputs": [
    {
     "data": {
      "text/html": [
       "\n",
       "<script>\n",
       "requirejs.config({\n",
       "    paths: {\n",
       "        d3: \"//cdnjs.cloudflare.com/ajax/libs/d3/3.5.17/d3\"\n",
       "    }\n",
       "});\n",
       "\n",
       "require(['d3'], function(d3) {\n",
       "    window.d3 = d3;\n",
       "});\n",
       "</script>\n",
       "<script>\n",
       "_select = d3.select;\n",
       "\n",
       "d3.select7 = function(selection) {\n",
       "    return _select(\"#d3-cell-7\").select(selection);\n",
       "}\n",
       "d3.selectAll7 = function(selection) {\n",
       "    return _select(\"#d3-cell-7\").selectAll(selection);\n",
       "}\n",
       "</script>\n",
       "<g id=\"d3-cell-7\">\n",
       "\n",
       "<g id=\"g1\"/>\n",
       "<g id=\"g2\"/>\n",
       "\n",
       "<script>\n",
       "    d3.select7(\"#g1\").text(\"Hello World 1\");\n",
       "    d3.select7(\"#g2\").text(\"Hello World 2\");\n",
       "</script>\n",
       "</g>"
      ],
      "text/plain": [
       "<IPython.core.display.HTML object>"
      ]
     },
     "metadata": {},
     "output_type": "display_data"
    }
   ],
   "source": [
    "%%d3\n",
    "\n",
    "<g id=\"g1\"/>\n",
    "<g id=\"g2\"/>\n",
    "\n",
    "<script>\n",
    "    d3.select(\"#g1\").text(\"Hello World 1\");\n",
    "    d3.select(\"#g2\").text(\"Hello World 2\");\n",
    "</script>"
   ]
  },
  {
   "cell_type": "markdown",
   "metadata": {},
   "source": [
    "### Elementos con nombres\n",
    "\n",
    "Una alternativa a lo anterior, es agregar elementos con nombres propios."
   ]
  },
  {
   "cell_type": "code",
   "execution_count": 11,
   "metadata": {},
   "outputs": [
    {
     "data": {
      "text/html": [
       "\n",
       "<script>\n",
       "requirejs.config({\n",
       "    paths: {\n",
       "        d3: \"//cdnjs.cloudflare.com/ajax/libs/d3/3.5.17/d3\"\n",
       "    }\n",
       "});\n",
       "\n",
       "require(['d3'], function(d3) {\n",
       "    window.d3 = d3;\n",
       "});\n",
       "</script>\n",
       "<script>\n",
       "_select = d3.select;\n",
       "\n",
       "d3.select8 = function(selection) {\n",
       "    return _select(\"#d3-cell-8\").select(selection);\n",
       "}\n",
       "d3.selectAll8 = function(selection) {\n",
       "    return _select(\"#d3-cell-8\").selectAll(selection);\n",
       "}\n",
       "</script>\n",
       "<g id=\"d3-cell-8\">\n",
       "\n",
       "<control1 />\n",
       "<control2 />\n",
       "\n",
       "<script>\n",
       "    d3.select8(\"control1\").text(\"Hello World 1\");\n",
       "    d3.select8(\"control2\").text(\"Hello World 2\");\n",
       "</script>\n",
       "</g>"
      ],
      "text/plain": [
       "<IPython.core.display.HTML object>"
      ]
     },
     "metadata": {},
     "output_type": "display_data"
    }
   ],
   "source": [
    "%%d3\n",
    "\n",
    "<control1 />\n",
    "<control2 />\n",
    "\n",
    "<script>\n",
    "    d3.select(\"control1\").text(\"Hello World 1\");\n",
    "    d3.select(\"control2\").text(\"Hello World 2\");\n",
    "</script>"
   ]
  },
  {
   "cell_type": "markdown",
   "metadata": {},
   "source": [
    "### Agregar Elementos al DOM\n",
    "Para poder trabajar correctamente con esto, es necesario agregar párrafos al elemento **`<g />`**. Esto se realiza mediante **`.append(\"p\")`**."
   ]
  },
  {
   "cell_type": "code",
   "execution_count": 12,
   "metadata": {},
   "outputs": [
    {
     "data": {
      "text/html": [
       "\n",
       "<script>\n",
       "requirejs.config({\n",
       "    paths: {\n",
       "        d3: \"//cdnjs.cloudflare.com/ajax/libs/d3/3.5.17/d3\"\n",
       "    }\n",
       "});\n",
       "\n",
       "require(['d3'], function(d3) {\n",
       "    window.d3 = d3;\n",
       "});\n",
       "</script>\n",
       "<script>\n",
       "_select = d3.select;\n",
       "\n",
       "d3.select9 = function(selection) {\n",
       "    return _select(\"#d3-cell-9\").select(selection);\n",
       "}\n",
       "d3.selectAll9 = function(selection) {\n",
       "    return _select(\"#d3-cell-9\").selectAll(selection);\n",
       "}\n",
       "</script>\n",
       "<g id=\"d3-cell-9\">\n",
       "\n",
       "<g />\n",
       "\n",
       "<script>\n",
       "    d3.select9(\"g\").append(\"p\").text(\"Hello World 1\");\n",
       "    d3.select9(\"g\").append(\"p\").text(\"Hello World 2\");\n",
       "</script>\n",
       "</g>"
      ],
      "text/plain": [
       "<IPython.core.display.HTML object>"
      ]
     },
     "metadata": {},
     "output_type": "display_data"
    }
   ],
   "source": [
    "%%d3\n",
    "\n",
    "<g />\n",
    "\n",
    "<script>\n",
    "    d3.select(\"g\").append(\"p\").text(\"Hello World 1\");\n",
    "    d3.select(\"g\").append(\"p\").text(\"Hello World 2\");\n",
    "</script>"
   ]
  },
  {
   "cell_type": "markdown",
   "metadata": {},
   "source": [
    "## Chaining methods\n",
    "\n",
    "Si se desean agregar muchos párrafos, en vez de hacer las órdenes una a una, se pueden encadenar métodos para generar nuevos elementos. \n",
    "\n",
    "Al ocupar esta técnica, se puede simplificar el código."
   ]
  },
  {
   "cell_type": "code",
   "execution_count": 13,
   "metadata": {},
   "outputs": [
    {
     "data": {
      "text/html": [
       "\n",
       "<script>\n",
       "requirejs.config({\n",
       "    paths: {\n",
       "        d3: \"//cdnjs.cloudflare.com/ajax/libs/d3/3.5.17/d3\"\n",
       "    }\n",
       "});\n",
       "\n",
       "require(['d3'], function(d3) {\n",
       "    window.d3 = d3;\n",
       "});\n",
       "</script>\n",
       "<script>\n",
       "_select = d3.select;\n",
       "\n",
       "d3.select10 = function(selection) {\n",
       "    return _select(\"#d3-cell-10\").select(selection);\n",
       "}\n",
       "d3.selectAll10 = function(selection) {\n",
       "    return _select(\"#d3-cell-10\").selectAll(selection);\n",
       "}\n",
       "</script>\n",
       "<g id=\"d3-cell-10\">\n",
       "\n",
       "<g />\n",
       "\n",
       "<script>\n",
       "    d3.select10(\"g\")\n",
       "        .append(\"p\").text(\"New paragraph 1!\")\n",
       "        .append(\"p\").text(\"New paragraph 2!\");\n",
       "</script>\n",
       "</g>"
      ],
      "text/plain": [
       "<IPython.core.display.HTML object>"
      ]
     },
     "metadata": {},
     "output_type": "display_data"
    }
   ],
   "source": [
    "%%d3\n",
    "\n",
    "<g />\n",
    "\n",
    "<script>\n",
    "    d3.select(\"g\")\n",
    "        .append(\"p\").text(\"New paragraph 1!\")\n",
    "        .append(\"p\").text(\"New paragraph 2!\");\n",
    "</script>"
   ]
  },
  {
   "cell_type": "markdown",
   "metadata": {},
   "source": [
    "## HTML Styles\n",
    "Se pueden agregar estilos de HTML a los elementos que se agreguen."
   ]
  },
  {
   "cell_type": "code",
   "execution_count": 14,
   "metadata": {},
   "outputs": [
    {
     "data": {
      "text/html": [
       "\n",
       "<script>\n",
       "requirejs.config({\n",
       "    paths: {\n",
       "        d3: \"//cdnjs.cloudflare.com/ajax/libs/d3/3.5.17/d3\"\n",
       "    }\n",
       "});\n",
       "\n",
       "require(['d3'], function(d3) {\n",
       "    window.d3 = d3;\n",
       "});\n",
       "</script>\n",
       "<script>\n",
       "_select = d3.select;\n",
       "\n",
       "d3.select11 = function(selection) {\n",
       "    return _select(\"#d3-cell-11\").select(selection);\n",
       "}\n",
       "d3.selectAll11 = function(selection) {\n",
       "    return _select(\"#d3-cell-11\").selectAll(selection);\n",
       "}\n",
       "</script>\n",
       "<g id=\"d3-cell-11\">\n",
       "\n",
       "<g />\n",
       "\n",
       "<script>\n",
       "    d3.select11(\"g\")\n",
       "        .text(\"Hello World\")\n",
       "        .style(\"color\",\"#ff00ff\");\n",
       "</script>\n",
       "</g>"
      ],
      "text/plain": [
       "<IPython.core.display.HTML object>"
      ]
     },
     "metadata": {},
     "output_type": "display_data"
    }
   ],
   "source": [
    "%%d3\n",
    "\n",
    "<g />\n",
    "\n",
    "<script>\n",
    "    d3.select(\"g\")\n",
    "        .text(\"Hello World\")\n",
    "        .style(\"color\",\"#ff00ff\");\n",
    "</script>"
   ]
  },
  {
   "cell_type": "markdown",
   "metadata": {},
   "source": [
    "## Trabajar con Arrays\n",
    "\n",
    "En este caso, generamos un array. \n",
    "Luego agregamos de forma manual un párrafo por cada elemento. Los elementos se llaman con corchetes, con índices basados en cero."
   ]
  },
  {
   "cell_type": "code",
   "execution_count": 15,
   "metadata": {},
   "outputs": [
    {
     "data": {
      "text/html": [
       "\n",
       "<script>\n",
       "requirejs.config({\n",
       "    paths: {\n",
       "        d3: \"//cdnjs.cloudflare.com/ajax/libs/d3/3.5.17/d3\"\n",
       "    }\n",
       "});\n",
       "\n",
       "require(['d3'], function(d3) {\n",
       "    window.d3 = d3;\n",
       "});\n",
       "</script>\n",
       "<script>\n",
       "_select = d3.select;\n",
       "\n",
       "d3.select12 = function(selection) {\n",
       "    return _select(\"#d3-cell-12\").select(selection);\n",
       "}\n",
       "d3.selectAll12 = function(selection) {\n",
       "    return _select(\"#d3-cell-12\").selectAll(selection);\n",
       "}\n",
       "</script>\n",
       "<g id=\"d3-cell-12\">\n",
       "\n",
       "<g />\n",
       "\n",
       "<script>\n",
       "    var array = [ 5, 10, 15, 20, 25];\n",
       "    \n",
       "    d3.select12(\"g\")\n",
       "        .append(\"p\").text(\"array[0]: \" + array[0])\n",
       "        .append(\"p\").text(\"array[1]: \" + array[1])\n",
       "        .append(\"p\").text(\"array[2]: \" + array[2])\n",
       "        .append(\"p\").text(\"array[3]: \" + array[3])\n",
       "        .append(\"p\").text(\"array[4]: \" + array[4]);\n",
       "</script>\n",
       "</g>"
      ],
      "text/plain": [
       "<IPython.core.display.HTML object>"
      ]
     },
     "metadata": {},
     "output_type": "display_data"
    }
   ],
   "source": [
    "%%d3\n",
    "\n",
    "<g />\n",
    "\n",
    "<script>\n",
    "    var array = [ 5, 10, 15, 20, 25];\n",
    "    \n",
    "    d3.select(\"g\")\n",
    "        .append(\"p\").text(\"array[0]: \" + array[0])\n",
    "        .append(\"p\").text(\"array[1]: \" + array[1])\n",
    "        .append(\"p\").text(\"array[2]: \" + array[2])\n",
    "        .append(\"p\").text(\"array[3]: \" + array[3])\n",
    "        .append(\"p\").text(\"array[4]: \" + array[4]);\n",
    "</script>"
   ]
  },
  {
   "cell_type": "markdown",
   "metadata": {},
   "source": [
    "### Arrays en d3\n",
    "Trabajar con los arrays es ***raro*** en d3.\n",
    "\n",
    "Tiene un órden de ejecución no tán intuitivo. \n",
    "\n",
    "En primera instancia se hace un **.selectAll(\"p\")**, incluso antes de haber agregado ningún **(\"p\")** aún.\n",
    "\n",
    "Luego se hace una selección del array con **.data(nombreDelArray)** y luego un **.enter()**.\n",
    "\n",
    "Ahora, por cada elemento, agregamos un párrafo con **New paragraph!**. "
   ]
  },
  {
   "cell_type": "code",
   "execution_count": 16,
   "metadata": {},
   "outputs": [
    {
     "data": {
      "text/html": [
       "\n",
       "<script>\n",
       "requirejs.config({\n",
       "    paths: {\n",
       "        d3: \"//cdnjs.cloudflare.com/ajax/libs/d3/3.5.17/d3\"\n",
       "    }\n",
       "});\n",
       "\n",
       "require(['d3'], function(d3) {\n",
       "    window.d3 = d3;\n",
       "});\n",
       "</script>\n",
       "<script>\n",
       "_select = d3.select;\n",
       "\n",
       "d3.select13 = function(selection) {\n",
       "    return _select(\"#d3-cell-13\").select(selection);\n",
       "}\n",
       "d3.selectAll13 = function(selection) {\n",
       "    return _select(\"#d3-cell-13\").selectAll(selection);\n",
       "}\n",
       "</script>\n",
       "<g id=\"d3-cell-13\">\n",
       "\n",
       "<g />\n",
       "\n",
       "<script>\n",
       "    var array = [ 5, 10, 15, 20, 25];\n",
       "    \n",
       "    d3.select13(\"g\")\n",
       "        .selectAll(\"p\")\n",
       "        .data(array)\n",
       "        .enter()\n",
       "        .append(\"p\").text(\"New paragraph!\");\n",
       "</script>\n",
       "</g>"
      ],
      "text/plain": [
       "<IPython.core.display.HTML object>"
      ]
     },
     "metadata": {},
     "output_type": "display_data"
    }
   ],
   "source": [
    "%%d3\n",
    "\n",
    "<g />\n",
    "\n",
    "<script>\n",
    "    var array = [ 5, 10, 15, 20, 25];\n",
    "    \n",
    "    d3.select(\"g\")\n",
    "        .selectAll(\"p\")\n",
    "        .data(array)\n",
    "        .enter()\n",
    "        .append(\"p\").text(\"New paragraph!\");\n",
    "</script>"
   ]
  },
  {
   "cell_type": "markdown",
   "metadata": {},
   "source": [
    "### Array values\n",
    "En el caso anterior, no se puede acceder a los valores del array, es necesario agregar una función que retorne el valor del arreglo: **`function(d) {return d;}`**."
   ]
  },
  {
   "cell_type": "code",
   "execution_count": 17,
   "metadata": {},
   "outputs": [
    {
     "data": {
      "text/html": [
       "\n",
       "<script>\n",
       "requirejs.config({\n",
       "    paths: {\n",
       "        d3: \"//cdnjs.cloudflare.com/ajax/libs/d3/3.5.17/d3\"\n",
       "    }\n",
       "});\n",
       "\n",
       "require(['d3'], function(d3) {\n",
       "    window.d3 = d3;\n",
       "});\n",
       "</script>\n",
       "<script>\n",
       "_select = d3.select;\n",
       "\n",
       "d3.select14 = function(selection) {\n",
       "    return _select(\"#d3-cell-14\").select(selection);\n",
       "}\n",
       "d3.selectAll14 = function(selection) {\n",
       "    return _select(\"#d3-cell-14\").selectAll(selection);\n",
       "}\n",
       "</script>\n",
       "<g id=\"d3-cell-14\">\n",
       "\n",
       "<g />\n",
       "\n",
       "<script>\n",
       "    var array = [ 5, 10, 15, 20, 25];\n",
       "    \n",
       "    d3.select14(\"g\")\n",
       "        .selectAll(\"p\")\n",
       "        .data(array).enter()\n",
       "        .append(\"p\").text(function(d) { return \"Array Item: \" + d; });\n",
       "</script>\n",
       "</g>"
      ],
      "text/plain": [
       "<IPython.core.display.HTML object>"
      ]
     },
     "metadata": {},
     "output_type": "display_data"
    }
   ],
   "source": [
    "%%d3\n",
    "\n",
    "<g />\n",
    "\n",
    "<script>\n",
    "    var array = [ 5, 10, 15, 20, 25];\n",
    "    \n",
    "    d3.select(\"g\")\n",
    "        .selectAll(\"p\")\n",
    "        .data(array).enter()\n",
    "        .append(\"p\").text(function(d) { return \"Array Item: \" + d; });\n",
    "</script>"
   ]
  },
  {
   "cell_type": "markdown",
   "metadata": {},
   "source": [
    "### Funciones \n",
    "\n",
    "En este caso se hace una función para hacer que cambie de color la función según el valor."
   ]
  },
  {
   "cell_type": "code",
   "execution_count": 18,
   "metadata": {},
   "outputs": [
    {
     "data": {
      "text/html": [
       "\n",
       "<script>\n",
       "requirejs.config({\n",
       "    paths: {\n",
       "        d3: \"//cdnjs.cloudflare.com/ajax/libs/d3/3.5.17/d3\"\n",
       "    }\n",
       "});\n",
       "\n",
       "require(['d3'], function(d3) {\n",
       "    window.d3 = d3;\n",
       "});\n",
       "</script>\n",
       "<script>\n",
       "_select = d3.select;\n",
       "\n",
       "d3.select15 = function(selection) {\n",
       "    return _select(\"#d3-cell-15\").select(selection);\n",
       "}\n",
       "d3.selectAll15 = function(selection) {\n",
       "    return _select(\"#d3-cell-15\").selectAll(selection);\n",
       "}\n",
       "</script>\n",
       "<g id=\"d3-cell-15\">\n",
       "\n",
       "<g />\n",
       "\n",
       "<script>\n",
       "    var dataset = [ 5, 10, 15, 20, 25];\n",
       "    \n",
       "    d3.select15(\"g\")\n",
       "        .selectAll(\"p\")\n",
       "        .data(dataset).enter()\n",
       "        .append(\"p\").text(function(d) { return \"Array Item: \" + d; })\n",
       "            .style(\"color\", function(d) \n",
       "                {\n",
       "                    if (d % 2 == 0) \n",
       "                        { return \"red\";} \n",
       "                    else \n",
       "                        { return \"blue\"; } \n",
       "                });;\n",
       "</script>\n",
       "</g>"
      ],
      "text/plain": [
       "<IPython.core.display.HTML object>"
      ]
     },
     "metadata": {},
     "output_type": "display_data"
    }
   ],
   "source": [
    "%%d3\n",
    "\n",
    "<g />\n",
    "\n",
    "<script>\n",
    "    var dataset = [ 5, 10, 15, 20, 25];\n",
    "    \n",
    "    d3.select(\"g\")\n",
    "        .selectAll(\"p\")\n",
    "        .data(dataset).enter()\n",
    "        .append(\"p\").text(function(d) { return \"Array Item: \" + d; })\n",
    "            .style(\"color\", function(d) \n",
    "                {\n",
    "                    if (d % 2 == 0) \n",
    "                        { return \"red\";} \n",
    "                    else \n",
    "                        { return \"blue\"; } \n",
    "                });;\n",
    "</script>"
   ]
  },
  {
   "cell_type": "markdown",
   "metadata": {},
   "source": [
    "### Refactor de funciones"
   ]
  },
  {
   "cell_type": "code",
   "execution_count": 19,
   "metadata": {},
   "outputs": [
    {
     "data": {
      "text/html": [
       "\n",
       "<script>\n",
       "requirejs.config({\n",
       "    paths: {\n",
       "        d3: \"//cdnjs.cloudflare.com/ajax/libs/d3/3.5.17/d3\"\n",
       "    }\n",
       "});\n",
       "\n",
       "require(['d3'], function(d3) {\n",
       "    window.d3 = d3;\n",
       "});\n",
       "</script>\n",
       "<script>\n",
       "_select = d3.select;\n",
       "\n",
       "d3.select16 = function(selection) {\n",
       "    return _select(\"#d3-cell-16\").select(selection);\n",
       "}\n",
       "d3.selectAll16 = function(selection) {\n",
       "    return _select(\"#d3-cell-16\").selectAll(selection);\n",
       "}\n",
       "</script>\n",
       "<g id=\"d3-cell-16\">\n",
       "\n",
       "<g />\n",
       "\n",
       "<script>\n",
       "    function printNumber(d) {  return \"Array Item: \" + d; }\n",
       "\n",
       "    function colorThis(d){ return (d % 2 == 0) ? \"red\" : \"blue\" ; }\n",
       "\n",
       "    var dataset = [ 5, 10, 15, 20, 25];\n",
       "    \n",
       "    d3.select16(\"g\")\n",
       "        .selectAll(\"p\")\n",
       "        .data(dataset).enter()\n",
       "        .append(\"p\").text(printNumber)\n",
       "        .style(\"color\", colorThis);\n",
       "</script>\n",
       "</g>"
      ],
      "text/plain": [
       "<IPython.core.display.HTML object>"
      ]
     },
     "metadata": {},
     "output_type": "display_data"
    }
   ],
   "source": [
    "%%d3\n",
    "\n",
    "<g />\n",
    "\n",
    "<script>\n",
    "    function printNumber(d) {  return \"Array Item: \" + d; }\n",
    "\n",
    "    function colorThis(d){ return (d % 2 == 0) ? \"red\" : \"blue\" ; }\n",
    "\n",
    "    var dataset = [ 5, 10, 15, 20, 25];\n",
    "    \n",
    "    d3.select(\"g\")\n",
    "        .selectAll(\"p\")\n",
    "        .data(dataset).enter()\n",
    "        .append(\"p\").text(printNumber)\n",
    "        .style(\"color\", colorThis);\n",
    "</script>"
   ]
  },
  {
   "cell_type": "markdown",
   "metadata": {},
   "source": [
    "Otra función, para colorear las letras. Just for fun."
   ]
  },
  {
   "cell_type": "code",
   "execution_count": 20,
   "metadata": {},
   "outputs": [
    {
     "data": {
      "text/html": [
       "\n",
       "<script>\n",
       "requirejs.config({\n",
       "    paths: {\n",
       "        d3: \"//cdnjs.cloudflare.com/ajax/libs/d3/3.5.17/d3\"\n",
       "    }\n",
       "});\n",
       "\n",
       "require(['d3'], function(d3) {\n",
       "    window.d3 = d3;\n",
       "});\n",
       "</script>\n",
       "<script>\n",
       "_select = d3.select;\n",
       "\n",
       "d3.select17 = function(selection) {\n",
       "    return _select(\"#d3-cell-17\").select(selection);\n",
       "}\n",
       "d3.selectAll17 = function(selection) {\n",
       "    return _select(\"#d3-cell-17\").selectAll(selection);\n",
       "}\n",
       "</script>\n",
       "<g id=\"d3-cell-17\">\n",
       "\n",
       "<g />\n",
       "\n",
       "<script>\n",
       "    function printLetter(d, i) { return d; }\n",
       "    \n",
       "    function randomColor(d, i){ \n",
       "        return '#'+(Math.random()*0xFFFFFF<<0).toString(16); \n",
       "    }\n",
       "\n",
       "    var word = \"Hello World\";\n",
       "    \n",
       "    d3.select17(\"g\")\n",
       "        .selectAll(\"a\")\n",
       "        .data(word).enter()\n",
       "        .append(\"a\").text(printLetter)\n",
       "        .style(\"color\", colorThis );  \n",
       "</script>\n",
       "</g>"
      ],
      "text/plain": [
       "<IPython.core.display.HTML object>"
      ]
     },
     "metadata": {},
     "output_type": "display_data"
    }
   ],
   "source": [
    "%%d3\n",
    "\n",
    "<g />\n",
    "\n",
    "<script>\n",
    "    function printLetter(d, i) { return d; }\n",
    "    \n",
    "    function randomColor(d, i){ \n",
    "        return '#'+(Math.random()*0xFFFFFF<<0).toString(16); \n",
    "    }\n",
    "\n",
    "    var word = \"Hello World\";\n",
    "    \n",
    "    d3.select(\"g\")\n",
    "        .selectAll(\"a\")\n",
    "        .data(word).enter()\n",
    "        .append(\"a\").text(printLetter)\n",
    "        .style(\"color\", colorThis );  \n",
    "</script>"
   ]
  }
 ],
 "metadata": {
  "kernelspec": {
   "display_name": "Python 3",
   "language": "python",
   "name": "python3"
  },
  "language_info": {
   "codemirror_mode": {
    "name": "ipython",
    "version": 3
   },
   "file_extension": ".py",
   "mimetype": "text/x-python",
   "name": "python",
   "nbconvert_exporter": "python",
   "pygments_lexer": "ipython3",
   "version": "3.6.3"
  }
 },
 "nbformat": 4,
 "nbformat_minor": 2
}
