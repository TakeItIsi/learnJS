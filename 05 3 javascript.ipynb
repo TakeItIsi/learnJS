{
 "cells": [
  {
   "cell_type": "markdown",
   "metadata": {},
   "source": [
    "# SPARLQ Query using js"
   ]
  },
  {
   "cell_type": "markdown",
   "metadata": {},
   "source": [
    "Query:\n",
    "[Source](https://stackoverflow.com/questions/22769701/how-to-query-dbpedia-in-javascript)\n",
    "\n",
    "Dictionary keys programatically:\n",
    "[Source](https://stackoverflow.com/questions/3298477/get-first-key-from-javascript-object)\n"
   ]
  },
  {
   "cell_type": "markdown",
   "metadata": {},
   "source": [
    "## Testing"
   ]
  },
  {
   "cell_type": "code",
   "execution_count": 36,
   "metadata": {},
   "outputs": [
    {
     "data": {
      "text/html": [
       "\n",
       "<script src=\"http://ajax.googleapis.com/ajax/libs/jquery/1.11.0/jquery.min.js\"></script>\n",
       "\n",
       "<script type=\"text/javascript\">\n",
       "    var url = \"https://sparql.n13.degu.cl/sparql\";\n",
       "    var query = \"SELECT * WHERE { ?s ?p ?o } LIMIT 5\";\n",
       "    var queryUrl = encodeURI(url + \"?query=\" + query + \"&format=json\");\n",
       "    \n",
       "    $.ajax({ \n",
       "        dataType: \"jsonp\",\n",
       "        url: queryUrl,\n",
       "        success: function (_data) {\n",
       "            console.log(_data.results.bindings);\n",
       "        }\n",
       "    });\n",
       "</script>"
      ],
      "text/plain": [
       "<IPython.core.display.HTML object>"
      ]
     },
     "metadata": {},
     "output_type": "display_data"
    }
   ],
   "source": [
    "%%html\n",
    "\n",
    "<script src=\"http://ajax.googleapis.com/ajax/libs/jquery/1.11.0/jquery.min.js\"></script>\n",
    "\n",
    "<script type=\"text/javascript\">\n",
    "    var url = \"https://sparql.n13.degu.cl/sparql\";\n",
    "    var query = \"SELECT * WHERE { ?s ?p ?o } LIMIT 5\";\n",
    "    var queryUrl = encodeURI(url + \"?query=\" + query + \"&format=json\");\n",
    "    \n",
    "    $.ajax({ \n",
    "        dataType: \"jsonp\",\n",
    "        url: queryUrl,\n",
    "        success: function (_data) {\n",
    "            console.log(_data.results.bindings);\n",
    "        }\n",
    "    });\n",
    "</script>"
   ]
  },
  {
   "cell_type": "markdown",
   "metadata": {},
   "source": [
    "## To Cell"
   ]
  },
  {
   "cell_type": "code",
   "execution_count": 37,
   "metadata": {},
   "outputs": [
    {
     "data": {
      "text/html": [
       "\n",
       "<p id=\"p1\">\n",
       "\n",
       "<script src=\"http://ajax.googleapis.com/ajax/libs/jquery/1.11.0/jquery.min.js\"></script>\n",
       "\n",
       "<script type=\"text/javascript\">\n",
       "    var url = \"https://sparql.n13.degu.cl/sparql\";\n",
       "    var query = \"SELECT * WHERE { ?s ?p ?o } LIMIT 5\";\n",
       "    var queryUrl = encodeURI(url + \"?query=\" + query + \"&format=json\");\n",
       "    \n",
       "    \n",
       "    $.ajax({ \n",
       "        dataType: \"jsonp\",\n",
       "        url: queryUrl,\n",
       "        success: function (_data) {\n",
       "            document.getElementById(\"p1\").appendChild(document.createTextNode(_data.results.bindings));\n",
       "        }\n",
       "    });\n",
       "</script>"
      ],
      "text/plain": [
       "<IPython.core.display.HTML object>"
      ]
     },
     "metadata": {},
     "output_type": "display_data"
    }
   ],
   "source": [
    "%%html\n",
    "\n",
    "<p id=\"p1\">\n",
    "\n",
    "<script src=\"http://ajax.googleapis.com/ajax/libs/jquery/1.11.0/jquery.min.js\"></script>\n",
    "\n",
    "<script type=\"text/javascript\">\n",
    "    var url = \"https://sparql.n13.degu.cl/sparql\";\n",
    "    var query = \"SELECT * WHERE { ?s ?p ?o } LIMIT 5\";\n",
    "    var queryUrl = encodeURI(url + \"?query=\" + query + \"&format=json\");\n",
    "    \n",
    "    \n",
    "    $.ajax({ \n",
    "        dataType: \"jsonp\",\n",
    "        url: queryUrl,\n",
    "        success: function (_data) {\n",
    "            document.getElementById(\"p1\").appendChild(document.createTextNode(_data.results.bindings));\n",
    "        }\n",
    "    });\n",
    "</script>\n"
   ]
  },
  {
   "cell_type": "markdown",
   "metadata": {},
   "source": [
    "## Foreach result"
   ]
  },
  {
   "cell_type": "code",
   "execution_count": 38,
   "metadata": {},
   "outputs": [
    {
     "data": {
      "text/html": [
       "\n",
       "<p id=\"p2\">\n",
       "\n",
       "<script src=\"http://ajax.googleapis.com/ajax/libs/jquery/1.11.0/jquery.min.js\"></script>\n",
       "\n",
       "<script type=\"text/javascript\">\n",
       "    var url = \"https://sparql.n13.degu.cl/sparql\";\n",
       "    var query = \"SELECT * WHERE { ?s ?p ?o } LIMIT 5\";\n",
       "    var queryUrl = encodeURI(url + \"?query=\" + query + \"&format=json\");\n",
       "    \n",
       "    $.ajax({ \n",
       "        dataType: \"jsonp\",\n",
       "        url: queryUrl,\n",
       "        success: function (_data) {\n",
       "            var results = _data.results.bindings;\n",
       "            for (var i in results) {\n",
       "                console.log(results[i])\n",
       "                document.getElementById(\"p2\").appendChild(document.createTextNode(results[i]));\n",
       "            }\n",
       "        }\n",
       "    });\n",
       "</script>"
      ],
      "text/plain": [
       "<IPython.core.display.HTML object>"
      ]
     },
     "metadata": {},
     "output_type": "display_data"
    }
   ],
   "source": [
    "%%html\n",
    "\n",
    "<p id=\"p2\">\n",
    "\n",
    "<script src=\"http://ajax.googleapis.com/ajax/libs/jquery/1.11.0/jquery.min.js\"></script>\n",
    "\n",
    "<script type=\"text/javascript\">\n",
    "    var url = \"https://sparql.n13.degu.cl/sparql\";\n",
    "    var query = \"SELECT * WHERE { ?s ?p ?o } LIMIT 5\";\n",
    "    var queryUrl = encodeURI(url + \"?query=\" + query + \"&format=json\");\n",
    "    \n",
    "    $.ajax({ \n",
    "        dataType: \"jsonp\",\n",
    "        url: queryUrl,\n",
    "        success: function (_data) {\n",
    "            var results = _data.results.bindings;\n",
    "            for (var i in results) {\n",
    "                console.log(results[i])\n",
    "                document.getElementById(\"p2\").appendChild(document.createTextNode(results[i]));\n",
    "            }\n",
    "        }\n",
    "    });\n",
    "</script>"
   ]
  },
  {
   "cell_type": "markdown",
   "metadata": {},
   "source": [
    "# ?s ?p ?o to Cell\n",
    "Agregar `.value`, `<p>` y `<br>`"
   ]
  },
  {
   "cell_type": "code",
   "execution_count": 51,
   "metadata": {},
   "outputs": [
    {
     "data": {
      "text/html": [
       "\n",
       "<p id=\"p3\">\n",
       "\n",
       "<script src=\"http://ajax.googleapis.com/ajax/libs/jquery/1.11.0/jquery.min.js\"></script>\n",
       "\n",
       "<script type=\"text/javascript\">\n",
       "    var url = \"https://sparql.n13.degu.cl/sparql\";\n",
       "    var query = \"SELECT * \\\n",
       "            WHERE { ?s ?p ?o } \\\n",
       "            LIMIT 5\";\n",
       "    var queryUrl = encodeURI(url + \"?query=\" + query + \"&format=json\");\n",
       "    \n",
       "    $.ajax({ \n",
       "        dataType: \"jsonp\",\n",
       "        url: queryUrl,\n",
       "        success: function (_data) {\n",
       "            var results = _data.results.bindings;\n",
       "            for (var i in results) {\n",
       "                var res = results[i];\n",
       "                keys = Object.keys(res);\n",
       "                for (var j in keys) {\n",
       "                    document.getElementById(\"p3\").appendChild(document.createTextNode(res[keys[j]].value));\n",
       "                    document.getElementById(\"p3\").appendChild(document.createElement(\"br\"));\n",
       "                }\n",
       "                document.getElementById(\"p3\").appendChild(document.createElement(\"p\"));\n",
       "            }\n",
       "        }\n",
       "    });\n",
       "</script>"
      ],
      "text/plain": [
       "<IPython.core.display.HTML object>"
      ]
     },
     "metadata": {},
     "output_type": "display_data"
    }
   ],
   "source": [
    "%%html\n",
    "\n",
    "<p id=\"p3\">\n",
    "\n",
    "<script src=\"http://ajax.googleapis.com/ajax/libs/jquery/1.11.0/jquery.min.js\"></script>\n",
    "\n",
    "<script type=\"text/javascript\">\n",
    "    var url = \"https://sparql.n13.degu.cl/sparql\";\n",
    "    var query = \"SELECT * \\\n",
    "            WHERE { ?s ?p ?o } \\\n",
    "            LIMIT 5\";\n",
    "    var queryUrl = encodeURI(url + \"?query=\" + query + \"&format=json\");\n",
    "    \n",
    "    $.ajax({ \n",
    "        dataType: \"jsonp\",\n",
    "        url: queryUrl,\n",
    "        success: function (_data) {\n",
    "            var results = _data.results.bindings;\n",
    "            for (var i in results) {\n",
    "                var res = results[i];\n",
    "                keys = Object.keys(res);\n",
    "                for (var j in keys) {\n",
    "                    document.getElementById(\"p3\").appendChild(document.createTextNode(res[keys[j]].value));\n",
    "                    document.getElementById(\"p3\").appendChild(document.createElement(\"br\"));\n",
    "                }\n",
    "                document.getElementById(\"p3\").appendChild(document.createElement(\"p\"));\n",
    "            }\n",
    "        }\n",
    "    });\n",
    "</script>"
   ]
  },
  {
   "cell_type": "markdown",
   "metadata": {},
   "source": [
    "# Adding Callbacks"
   ]
  },
  {
   "cell_type": "code",
   "execution_count": 103,
   "metadata": {},
   "outputs": [
    {
     "data": {
      "text/html": [
       "\n",
       "<script src=\"http://ajax.googleapis.com/ajax/libs/jquery/1.11.0/jquery.min.js\"></script>\n",
       "\n",
       "<script type=\"text/javascript\">\n",
       "    var n13 = \"https://sparql.n13.degu.cl/sparql\";\n",
       "    \n",
       "    function getTypes(url, callback) {\n",
       "        var query = \"SELECT * WHERE { ?s ?p ?o } LIMIT 5\";\n",
       "        \n",
       "        var queryUrl = encodeURI(url + \"?query=\" + query + \"&format=json\");\n",
       "\n",
       "        $.ajax({ \n",
       "            dataType: \"jsonp\",\n",
       "            url: queryUrl,\n",
       "            success: function (_data) {\n",
       "                callback(_data.results.bindings);\n",
       "            },\n",
       "        });\n",
       "    }\n",
       "    \n",
       "    function consoleLog(json){\n",
       "        console.log(json)\n",
       "    }\n",
       "\n",
       "    getTypes(n13, consoleLog);\n",
       "    \n",
       "</script>"
      ],
      "text/plain": [
       "<IPython.core.display.HTML object>"
      ]
     },
     "metadata": {},
     "output_type": "display_data"
    }
   ],
   "source": [
    "%%html\n",
    "\n",
    "<script src=\"http://ajax.googleapis.com/ajax/libs/jquery/1.11.0/jquery.min.js\"></script>\n",
    "\n",
    "<script type=\"text/javascript\">\n",
    "    var n13 = \"https://sparql.n13.degu.cl/sparql\";\n",
    "    \n",
    "    function getTypes(url, callback) {\n",
    "        var query = \"SELECT * WHERE { ?s ?p ?o } LIMIT 5\";\n",
    "        \n",
    "        var queryUrl = encodeURI(url + \"?query=\" + query + \"&format=json\");\n",
    "\n",
    "        $.ajax({ \n",
    "            dataType: \"jsonp\",\n",
    "            url: queryUrl,\n",
    "            success: function (_data) {\n",
    "                callback(_data.results.bindings);\n",
    "            },\n",
    "        });\n",
    "    }\n",
    "    \n",
    "    function consoleLog(json){\n",
    "        console.log(json)\n",
    "    }\n",
    "\n",
    "    getTypes(n13, consoleLog);\n",
    "    \n",
    "</script>"
   ]
  },
  {
   "cell_type": "markdown",
   "metadata": {},
   "source": [
    "# Add Prefix"
   ]
  },
  {
   "cell_type": "markdown",
   "metadata": {},
   "source": [
    "Having some issues with the preffix: [Also here](https://stackoverflow.com/questions/44667697/ajax-sparql-query-400-bad-request-error)\n",
    "\n",
    "Agregar el código (replace() solo reemplaza la primera instancia)\n",
    "``` javascript\n",
    "String.prototype.replaceAll = function(search, replace)\n",
    "{\n",
    "    if (replace === undefined) { return this.toString(); }\n",
    "    return this.replace(new RegExp('[' + search + ']', 'g'), replace);\n",
    "};\n",
    "```\n",
    "\n",
    "Reemplazar manualmente `\" \",\"+\"` y `\"#\",\"%23\"`\n",
    "\n",
    "Eliminar el `encode` del query. Seguramente no funcionará con todos los queries que se hagan, pero por ahora está bien."
   ]
  },
  {
   "cell_type": "code",
   "execution_count": 1,
   "metadata": {},
   "outputs": [
    {
     "data": {
      "text/html": [
       "\n",
       "<script src=\"http://ajax.googleapis.com/ajax/libs/jquery/1.11.0/jquery.min.js\"></script>\n",
       "\n",
       "<script type=\"text/javascript\">\n",
       "\n",
       "    var n13 = \"https://sparql.n13.degu.cl/sparql\";\n",
       "    \n",
       "    String.prototype.replaceAll = function(search, replace)\n",
       "    {\n",
       "        if (replace === undefined) { return this.toString(); }\n",
       "        return this.replace(new RegExp('[' + search + ']', 'g'), replace);\n",
       "    };\n",
       "    \n",
       "    function getTypes(url, callback) {\n",
       "        var query = \"PREFIX rdf: <http://www.w3.org/1999/02/22-rdf-syntax-ns#> SELECT DISTINCT ?t WHERE { ?s rdf:type ?t } LIMIT 5\"\n",
       "        query = query.replaceAll(\" \",\"+\").replaceAll(\"#\",\"%23\");\n",
       "        \n",
       "        var queryUrl = (url + \"?query=\" + query + \"&format=json\");\n",
       "        \n",
       "        console.log(queryUrl)\n",
       "        $.ajax({ \n",
       "            dataType: \"jsonp\",\n",
       "            url: queryUrl,\n",
       "            success: function (_data) {\n",
       "                callback(_data);\n",
       "                callback(_data.results.bindings);\n",
       "            },\n",
       "        });\n",
       "    }\n",
       "    \n",
       "    function consoleLog(json){\n",
       "        console.log(json)\n",
       "    }\n",
       "\n",
       "    getTypes(n13, consoleLog);\n",
       "    \n",
       "</script>"
      ],
      "text/plain": [
       "<IPython.core.display.HTML object>"
      ]
     },
     "metadata": {},
     "output_type": "display_data"
    }
   ],
   "source": [
    "%%html\n",
    "\n",
    "<script src=\"http://ajax.googleapis.com/ajax/libs/jquery/1.11.0/jquery.min.js\"></script>\n",
    "\n",
    "<script type=\"text/javascript\">\n",
    "\n",
    "    var n13 = \"https://sparql.n13.degu.cl/sparql\";\n",
    "    \n",
    "    String.prototype.replaceAll = function(search, replace)\n",
    "    {\n",
    "        if (replace === undefined) { return this.toString(); }\n",
    "        return this.replace(new RegExp('[' + search + ']', 'g'), replace);\n",
    "    };\n",
    "    \n",
    "    function getTypes(url, callback) {\n",
    "        var query = \"PREFIX rdf: <http://www.w3.org/1999/02/22-rdf-syntax-ns#> SELECT DISTINCT ?t WHERE { ?s rdf:type ?t } LIMIT 5\"\n",
    "        query = query.replaceAll(\" \",\"+\").replaceAll(\"#\",\"%23\");\n",
    "        \n",
    "        var queryUrl = (url + \"?query=\" + query + \"&format=json\");\n",
    "        \n",
    "        console.log(queryUrl)\n",
    "        $.ajax({ \n",
    "            dataType: \"jsonp\",\n",
    "            url: queryUrl,\n",
    "            success: function (_data) {\n",
    "                callback(_data);\n",
    "                callback(_data.results.bindings);\n",
    "            },\n",
    "        });\n",
    "    }\n",
    "    \n",
    "    function consoleLog(json){\n",
    "        console.log(json)\n",
    "    }\n",
    "\n",
    "    getTypes(n13, consoleLog);\n",
    "    \n",
    "</script>"
   ]
  },
  {
   "cell_type": "code",
   "execution_count": null,
   "metadata": {},
   "outputs": [],
   "source": []
  },
  {
   "cell_type": "code",
   "execution_count": null,
   "metadata": {},
   "outputs": [],
   "source": [
    "%%html\n",
    "\n",
    "<script src=\"http://ajax.googleapis.com/ajax/libs/jquery/1.11.0/jquery.min.js\"></script>\n",
    "\n",
    "<script type=\"text/javascript\">\n",
    "\n",
    "    var n13 = \"https://sparql.n13.degu.cl/sparql\";\n",
    "    \n",
    "    String.prototype.replaceAll = function(search, replace)\n",
    "    {\n",
    "        if (replace === undefined) { return this.toString(); }\n",
    "        return this.replace(new RegExp('[' + search + ']', 'g'), replace);\n",
    "    };\n",
    "    \n",
    "    function getPropertiesForType(url, callback) {\n",
    "        var query = \"PREFIX rdf: <http://www.w3.org/1999/02/22-rdf-syntax-ns#> SELECT DISTINCT ?t WHERE { ?s rdf:type ?t } LIMIT 5\"\n",
    "        query = query.replaceAll(\" \",\"+\").replaceAll(\"#\",\"%23\");\n",
    "        \n",
    "        var queryUrl = (url + \"?query=\" + query + \"&format=json\");\n",
    "        \n",
    "        console.log(queryUrl)\n",
    "        $.ajax({ \n",
    "            dataType: \"jsonp\",\n",
    "            url: queryUrl,\n",
    "            success: function (_data) {\n",
    "                callback(_data);\n",
    "                callback(_data.results.bindings);\n",
    "            },\n",
    "        });\n",
    "    }\n",
    "    \n",
    "    function consoleLog(json){\n",
    "        console.log(json)\n",
    "    }\n",
    "\n",
    "    getTypes(n13, consoleLog);\n",
    "    \n",
    "</script>"
   ]
  }
 ],
 
   "source": [
" %%html"
" <script>"
" {"
"     var nodes = ["
"         { id: "URI 1", label: "Nodo 1", nodeType: "E" },"
"         { id: "URI 2", label: "Nodo 2", nodeType: "P" },"
"         { id: "URI 3", label: "Nodo 3", nodeType: "P" },"
"     ];"
"     var links = ["
"                 { source: nodes[0], target: nodes[1] },"
"                 { source: nodes[0], target: nodes[2] },"
""
"     ];"
" }"
""
" var query ="";"
" console.log(query);for (var i=0 ; i<nodes.length ; i++) {"
"             var node=nodes[i];"
"             if (node.nodenodeType=="E"){"
"                 query+="?s rdf:nodeType <"+node.id+">.""

"             }"
"             if (node.nodenodeType=="P"){"
"                 query+="?s" +node.id+"?o1 .""
"             }"
" }"

" </script>"
   ]
  }
 ],
 "metadata": {
  "kernelspec": {
   "display_name": "Python 3",
   "language": "python",
   "name": "python3"
  },
  "language_info": {
   "codemirror_mode": {
    "name": "ipython",
    "version": 3
   },
   "file_extension": ".py",
   "mimetype": "text/x-python",
   "name": "python",
   "nbconvert_exporter": "python",
   "pygments_lexer": "ipython3",
   "version": "3.6.3"
  }
 },
 "nbformat": 4,
 "nbformat_minor": 2
}
